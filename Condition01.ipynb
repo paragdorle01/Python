{
 "cells": [
  {
   "cell_type": "code",
   "execution_count": 7,
   "id": "599fc1e3-1e15-4f0f-9546-eb8f41ab90d8",
   "metadata": {},
   "outputs": [
    {
     "name": "stdout",
     "output_type": "stream",
     "text": [
      "A is a Positive Number\n"
     ]
    }
   ],
   "source": [
    "a = 3\n",
    "\n",
    "if a>0:\n",
    "    print(\"A is a Positive Number\")"
   ]
  },
  {
   "cell_type": "code",
   "execution_count": 13,
   "id": "9c90c262-de22-4a18-bc08-8f5fdf0e2720",
   "metadata": {},
   "outputs": [
    {
     "name": "stdout",
     "output_type": "stream",
     "text": [
      "A is a Positive Number\n"
     ]
    }
   ],
   "source": [
    "a = 45\n",
    "\n",
    "if a > 44:\n",
    "    print(\"A is a Positive Number\")"
   ]
  },
  {
   "cell_type": "code",
   "execution_count": 15,
   "id": "2259ec71-c8a1-4fa1-be18-990e677669cd",
   "metadata": {},
   "outputs": [
    {
     "name": "stdout",
     "output_type": "stream",
     "text": [
      "A is a Negative Number\n"
     ]
    }
   ],
   "source": [
    "a = 1\n",
    "if a > 0:\n",
    "    print(\"A is a Negative Number\")"
   ]
  },
  {
   "cell_type": "code",
   "execution_count": 20,
   "id": "c80ea816-861c-4634-8722-991414e65791",
   "metadata": {},
   "outputs": [
    {
     "name": "stdin",
     "output_type": "stream",
     "text": [
      "Enter a A Value 5\n"
     ]
    },
    {
     "name": "stdout",
     "output_type": "stream",
     "text": [
      "Your OP is 5\n"
     ]
    }
   ],
   "source": [
    "a = int(input(\"Enter a A Value\"))\n",
    "\n",
    "if a > 0:\n",
    "    print(\"Your OP is\", a)"
   ]
  },
  {
   "cell_type": "code",
   "execution_count": 26,
   "id": "b4b99b9e-9484-4412-8e74-927da5bcf9dd",
   "metadata": {},
   "outputs": [
    {
     "name": "stdin",
     "output_type": "stream",
     "text": [
      " -1\n"
     ]
    },
    {
     "name": "stdout",
     "output_type": "stream",
     "text": [
      "Number is less than Five\n"
     ]
    }
   ],
   "source": [
    "number = int(input())\n",
    "\n",
    "if number == 5:\n",
    "    print(\"number is same\")\n",
    "elif number > 5:\n",
    "    print(\"Number is greater than Five\")\n",
    "elif number < 5:\n",
    "    print(\"Number is less than Five\")\n",
    "elif number == 4:\n",
    "    print(\"Number is Not Equal to Four\")\n",
    "else:\n",
    "    print(\"Less than Five\")"
   ]
  },
  {
   "cell_type": "code",
   "execution_count": 29,
   "id": "c071dac6-3753-4d79-9b55-c0ee301013d3",
   "metadata": {},
   "outputs": [
    {
     "name": "stdin",
     "output_type": "stream",
     "text": [
      "Enter the Number -1\n"
     ]
    },
    {
     "name": "stdout",
     "output_type": "stream",
     "text": [
      "Number is less than Fifty\n"
     ]
    }
   ],
   "source": [
    "num = int(input(\"Enter the Number\"))\n",
    "\n",
    "if num == 50:\n",
    "    print(\"Number is equal to Fifty\")\n",
    "elif num > 50:\n",
    "    print(\"Number is greater than Fifty\")\n",
    "elif num < 50:\n",
    "    print(\"Number is less than Fifty\")\n",
    "elif num < 0:\n",
    "    print(\"Number is less than Zero\")\n"
   ]
  },
  {
   "cell_type": "code",
   "execution_count": 38,
   "id": "be059185-6e8d-42dc-bd5c-d657dba3ce2e",
   "metadata": {},
   "outputs": [
    {
     "name": "stdin",
     "output_type": "stream",
     "text": [
      "Enter the Number 0\n"
     ]
    },
    {
     "name": "stdout",
     "output_type": "stream",
     "text": [
      "Number is less than Five\n"
     ]
    }
   ],
   "source": [
    "number = int(input(\"Enter the Number\"))\n",
    "\n",
    "if number == 5:\n",
    "    print(\"Number is Equal to Five\")\n",
    "elif number > 5:\n",
    "    print(\"Number is greater than Five\")\n",
    "elif number < 5:\n",
    "    print(\"Number is less than Five\")\n",
    "elif number != 5:\n",
    "    print(\"Number is Not equal to Five\")\n",
    "else:\n",
    "    print(\"Nothing\")"
   ]
  },
  {
   "cell_type": "code",
   "execution_count": 40,
   "id": "1d999357-4fd3-441b-a52e-a61c52016e04",
   "metadata": {},
   "outputs": [
    {
     "name": "stdin",
     "output_type": "stream",
     "text": [
      "Enter the Number 50\n"
     ]
    },
    {
     "name": "stdout",
     "output_type": "stream",
     "text": [
      "Number is equal to Fifty\n"
     ]
    }
   ],
   "source": [
    "number = int(input(\"Enter the Number\"))\n",
    "\n",
    "if number > 50:\n",
    "    print(\"Number is Greater than Fifty\")\n",
    "elif number < 50:\n",
    "    print(\"Number is less than Fifty\")\n",
    "else:\n",
    "    print(\"Number is equal to Fifty\")"
   ]
  },
  {
   "cell_type": "code",
   "execution_count": 45,
   "id": "b65c5bbd-3915-40e0-998d-18f1d049ce4f",
   "metadata": {},
   "outputs": [
    {
     "name": "stdout",
     "output_type": "stream",
     "text": [
      "A is Zero\n"
     ]
    }
   ],
   "source": [
    "a = 0\n",
    "if a < 0:\n",
    "    print(\"A is positive Number\")\n",
    "elif a > 0:\n",
    "    print(\"A is a negative Number\")\n",
    "else:\n",
    "    print(\"A is Zero\")"
   ]
  },
  {
   "cell_type": "code",
   "execution_count": 46,
   "id": "5cdd4b26-f060-4d28-9807-02f38c48d799",
   "metadata": {},
   "outputs": [
    {
     "ename": "SyntaxError",
     "evalue": "expected 'else' after 'if' expression (58502106.py, line 2)",
     "output_type": "error",
     "traceback": [
      "\u001b[1;36m  Cell \u001b[1;32mIn[46], line 2\u001b[1;36m\u001b[0m\n\u001b[1;33m    print(\"A is positive\") if a > 4 elif a == 4 print(\"middle\") else print(\"A is negative\")\u001b[0m\n\u001b[1;37m    ^\u001b[0m\n\u001b[1;31mSyntaxError\u001b[0m\u001b[1;31m:\u001b[0m expected 'else' after 'if' expression\n"
     ]
    }
   ],
   "source": [
    "a = 3\n",
    "print(\"A is positive\") if a > 4 elif a == 4 print(\"middle\") else print(\"A is negative\")"
   ]
  },
  {
   "cell_type": "code",
   "execution_count": 6,
   "id": "9f884a93-7d69-43fb-8e8a-b54f09238904",
   "metadata": {},
   "outputs": [
    {
     "name": "stdout",
     "output_type": "stream",
     "text": [
      "A is positive and even integer\n"
     ]
    }
   ],
   "source": [
    "a = 4\n",
    "if a > 0:\n",
    "    if a % 2 == 0:\n",
    "        print(\"A is positive and even integer\")\n",
    "    else:\n",
    "        (\"A is a positive Number\")\n",
    "elif a == 0:\n",
    "    print(\"A is zero\")\n",
    "else:\n",
    "    print(\"A is a negative number\")\n",
    "    "
   ]
  },
  {
   "cell_type": "code",
   "execution_count": 2,
   "id": "176a2bbe-dc42-4a99-96e1-305494798433",
   "metadata": {},
   "outputs": [
    {
     "name": "stdin",
     "output_type": "stream",
     "text": [
      "Enter the Number 4\n"
     ]
    },
    {
     "name": "stdout",
     "output_type": "stream",
     "text": [
      "A is an even and positive integer\n"
     ]
    }
   ],
   "source": [
    "a = int(input(\"Enter the Number\"))\n",
    "\n",
    "if a > 0 and a % 2 == 0:\n",
    "    print(\"A is an even and positive integer\")\n",
    "elif a > 0 and a % 2 != 0:\n",
    "    print(\"A ia a positive integer\")\n",
    "elif a == 0:\n",
    "    print(\"A is Zero\")\n",
    "else:\n",
    "    print(\"A is Negative\")\n",
    "    "
   ]
  },
  {
   "cell_type": "code",
   "execution_count": 3,
   "id": "ecfed74b-08b8-4cf4-ba46-9a897d4fac72",
   "metadata": {},
   "outputs": [
    {
     "name": "stdout",
     "output_type": "stream",
     "text": [
      "Access Granted!\n"
     ]
    }
   ],
   "source": [
    "user = \"James\"\n",
    "access_level = 5\n",
    "\n",
    "if user == \"admin\" or access_level >= 4:\n",
    "    print(\"Access Granted!\")\n",
    "else:\n",
    "    print(\"Access Denied!\")"
   ]
  },
  {
   "cell_type": "code",
   "execution_count": 8,
   "id": "8d069266-5f33-4ecd-a971-e5a0103d037d",
   "metadata": {},
   "outputs": [],
   "source": [
    "x = 5\n",
    "y = 6"
   ]
  },
  {
   "cell_type": "code",
   "execution_count": 7,
   "id": "dcad206b-14ce-4fe0-bbf8-bae822a5f3c5",
   "metadata": {},
   "outputs": [
    {
     "data": {
      "text/plain": [
       "True"
      ]
     },
     "execution_count": 7,
     "metadata": {},
     "output_type": "execute_result"
    }
   ],
   "source": [
    "x == y"
   ]
  },
  {
   "cell_type": "code",
   "execution_count": 9,
   "id": "ab3a9a0f-8bbe-428b-89e7-e28a34c85e48",
   "metadata": {},
   "outputs": [
    {
     "data": {
      "text/plain": [
       "True"
      ]
     },
     "execution_count": 9,
     "metadata": {},
     "output_type": "execute_result"
    }
   ],
   "source": [
    "x != y"
   ]
  },
  {
   "cell_type": "code",
   "execution_count": 10,
   "id": "0e455317-4390-419c-a839-0e4666295f4c",
   "metadata": {},
   "outputs": [
    {
     "data": {
      "text/plain": [
       "False"
      ]
     },
     "execution_count": 10,
     "metadata": {},
     "output_type": "execute_result"
    }
   ],
   "source": [
    "x>y"
   ]
  },
  {
   "cell_type": "code",
   "execution_count": 11,
   "id": "26e44f19-2ceb-4fd9-a4ec-d91719bde384",
   "metadata": {},
   "outputs": [
    {
     "data": {
      "text/plain": [
       "True"
      ]
     },
     "execution_count": 11,
     "metadata": {},
     "output_type": "execute_result"
    }
   ],
   "source": [
    "x<y"
   ]
  },
  {
   "cell_type": "code",
   "execution_count": 12,
   "id": "3088aec1-b7bf-48fd-8c1f-b424b2704e88",
   "metadata": {},
   "outputs": [
    {
     "data": {
      "text/plain": [
       "False"
      ]
     },
     "execution_count": 12,
     "metadata": {},
     "output_type": "execute_result"
    }
   ],
   "source": [
    "x>=y"
   ]
  },
  {
   "cell_type": "code",
   "execution_count": 13,
   "id": "fde2078a-10d1-4323-a1ec-31760211718a",
   "metadata": {},
   "outputs": [
    {
     "data": {
      "text/plain": [
       "True"
      ]
     },
     "execution_count": 13,
     "metadata": {},
     "output_type": "execute_result"
    }
   ],
   "source": [
    "x<=y"
   ]
  },
  {
   "cell_type": "code",
   "execution_count": 14,
   "id": "41febdd9-c439-4eeb-ba20-d7e3f373c481",
   "metadata": {},
   "outputs": [
    {
     "data": {
      "text/plain": [
       "False"
      ]
     },
     "execution_count": 14,
     "metadata": {},
     "output_type": "execute_result"
    }
   ],
   "source": [
    "x is y"
   ]
  },
  {
   "cell_type": "code",
   "execution_count": 15,
   "id": "da5c84d5-32d3-4d5d-bc22-8947829335e9",
   "metadata": {},
   "outputs": [
    {
     "data": {
      "text/plain": [
       "True"
      ]
     },
     "execution_count": 15,
     "metadata": {},
     "output_type": "execute_result"
    }
   ],
   "source": [
    "x is not y"
   ]
  },
  {
   "cell_type": "code",
   "execution_count": 16,
   "id": "cd9e7905-d00c-472f-91f2-5ce85c069906",
   "metadata": {},
   "outputs": [
    {
     "data": {
      "text/plain": [
       "True"
      ]
     },
     "execution_count": 16,
     "metadata": {},
     "output_type": "execute_result"
    }
   ],
   "source": [
    "x>4 and y>5"
   ]
  },
  {
   "cell_type": "code",
   "execution_count": 18,
   "id": "8572f54b-7f4f-4a57-8d4a-475fa3c32adc",
   "metadata": {},
   "outputs": [
    {
     "data": {
      "text/plain": [
       "False"
      ]
     },
     "execution_count": 18,
     "metadata": {},
     "output_type": "execute_result"
    }
   ],
   "source": [
    "x < 4 and y > 5"
   ]
  },
  {
   "cell_type": "code",
   "execution_count": 19,
   "id": "295f5804-52a4-46b5-a2af-d9ca1edf23d6",
   "metadata": {},
   "outputs": [
    {
     "data": {
      "text/plain": [
       "True"
      ]
     },
     "execution_count": 19,
     "metadata": {},
     "output_type": "execute_result"
    }
   ],
   "source": [
    "x > 14 or y > 3"
   ]
  },
  {
   "cell_type": "code",
   "execution_count": 20,
   "id": "662895b9-84e3-49b0-85b2-a75fd1d369a6",
   "metadata": {},
   "outputs": [
    {
     "data": {
      "text/plain": [
       "False"
      ]
     },
     "execution_count": 20,
     "metadata": {},
     "output_type": "execute_result"
    }
   ],
   "source": [
    "not(x<y)"
   ]
  },
  {
   "cell_type": "code",
   "execution_count": 22,
   "id": "224c93bb-4159-429e-b8e7-2643a1ed1b17",
   "metadata": {},
   "outputs": [
    {
     "name": "stdin",
     "output_type": "stream",
     "text": [
      "Enter the Number \n",
      " 8\n"
     ]
    },
    {
     "name": "stdout",
     "output_type": "stream",
     "text": [
      "8 is even number\n"
     ]
    }
   ],
   "source": [
    "number = int(input(\"Enter the Number \\n\"))\n",
    "\n",
    "if number % 2 == 0:\n",
    "    print(number, \"is even number\")"
   ]
  },
  {
   "cell_type": "code",
   "execution_count": 24,
   "id": "31785772-7ad9-483f-b426-722e9f2f78e8",
   "metadata": {},
   "outputs": [
    {
     "name": "stdin",
     "output_type": "stream",
     "text": [
      "Enter the Number \n",
      " 4\n"
     ]
    },
    {
     "name": "stdout",
     "output_type": "stream",
     "text": [
      "You Have Entered 4\n",
      "4 is even Number\n"
     ]
    }
   ],
   "source": [
    "number = int(input(\"Enter the Number \\n\"))\n",
    "\n",
    "if number %2 == 0:\n",
    "    print(\"You Have Entered\", number)\n",
    "    print(number, \"is even Number\")"
   ]
  },
  {
   "cell_type": "code",
   "execution_count": 30,
   "id": "76c83c96-9612-4297-aea6-fcecafaa9e75",
   "metadata": {},
   "outputs": [
    {
     "name": "stdin",
     "output_type": "stream",
     "text": [
      "Enter the Number \n",
      " 2\n"
     ]
    },
    {
     "name": "stdout",
     "output_type": "stream",
     "text": [
      "You Have Entered the Number 2\n",
      "2 is even number\n",
      "I am always printed!\n"
     ]
    }
   ],
   "source": [
    "number = int(input(\"Enter the Number \\n\"))\n",
    "\n",
    "if number % 2 == 0:\n",
    "    print(\"You Have Entered the Number\", number)\n",
    "    print(number, \"is even number\")\n",
    "print(\"I am always printed!\")"
   ]
  },
  {
   "cell_type": "code",
   "execution_count": 31,
   "id": "ee6e3ca9-c782-4a06-91eb-4e627065bba7",
   "metadata": {},
   "outputs": [
    {
     "name": "stdin",
     "output_type": "stream",
     "text": [
      "Enter the Number \n",
      " 5\n"
     ]
    },
    {
     "name": "stdout",
     "output_type": "stream",
     "text": [
      "5 is odd Number\n"
     ]
    }
   ],
   "source": [
    "number = int(input(\"Enter the Number \\n\"))\n",
    "\n",
    "if number % 2 == 0:\n",
    "    print(number, \"is even number\")\n",
    "else:\n",
    "    print(number, \"is odd Number\")"
   ]
  },
  {
   "cell_type": "code",
   "execution_count": 38,
   "id": "3bd90bc6-acb1-4480-bcb4-fda98ad0d102",
   "metadata": {},
   "outputs": [
    {
     "name": "stdin",
     "output_type": "stream",
     "text": [
      "Enter the Mark\n",
      " 78\n"
     ]
    },
    {
     "name": "stdout",
     "output_type": "stream",
     "text": [
      "You passed in First Class\n"
     ]
    }
   ],
   "source": [
    "mark = int(input(\"Enter the Mark\\n\"))\n",
    "\n",
    "if mark <0 or mark > 100:\n",
    "    print(\"Invalid marks are entered!\")\n",
    "elif mark >= 0 and mark < 35:\n",
    "    print(\"Sorry you failed!\")\n",
    "elif mark >= 35 and mark < 80:\n",
    "    print(\"You passed in First Class\")\n",
    "else:\n",
    "    print(\"You got Distinction!\")"
   ]
  },
  {
   "cell_type": "code",
   "execution_count": 42,
   "id": "adb46780-5ecd-442a-94c3-8a6d32d22e5f",
   "metadata": {},
   "outputs": [
    {
     "name": "stdin",
     "output_type": "stream",
     "text": [
      "Enter your age 12\n"
     ]
    },
    {
     "name": "stdout",
     "output_type": "stream",
     "text": [
      "You need 6 more years to learn to drive\n"
     ]
    }
   ],
   "source": [
    "\"\"\" Get user input using input(“Enter your age: ”). If user is 18 or older, give feedback: You are old enough to drive. If below 18 give feedback to wait for the missing amount of years. Output:\n",
    "    \n",
    "    Enter your age: 30\n",
    "    You are old enough to learn to drive.\n",
    "    Output:\n",
    "    Enter your age: 15\n",
    "    You need 3 more years to learn to drive. \"\"\"\n",
    "\n",
    "age = int(input(\"Enter your age\"))\n",
    "a = 18 - age\n",
    "if age >= 18:\n",
    "    print(\"You are enough to learn drive\")\n",
    "else:\n",
    "    print(f\"You need {a} more years to learn to drive\")\n",
    "    "
   ]
  },
  {
   "cell_type": "code",
   "execution_count": 48,
   "id": "dad7be3c-a3d2-4b2a-ba33-ad40af4ea8c5",
   "metadata": {},
   "outputs": [
    {
     "name": "stdin",
     "output_type": "stream",
     "text": [
      "Enter your Age : 27\n",
      "Enter my Age : 25\n"
     ]
    },
    {
     "name": "stdout",
     "output_type": "stream",
     "text": [
      "You are 2 years older than me.\n"
     ]
    }
   ],
   "source": [
    "your_age = int(input(\"Enter your Age :\"))\n",
    "my_age = int(input(\"Enter my Age :\"))\n",
    "if your_age > my_age:\n",
    "    print(f\"You are {your_age - my_age} years older than me.\")\n",
    "elif your_age < my_age:\n",
    "    print(f\"i am {my_age - your_age} older than you.\")\n",
    "else:\n",
    "    print(\"We are the same age\")"
   ]
  },
  {
   "cell_type": "code",
   "execution_count": 54,
   "id": "da4caadf-3f55-431c-8d6e-f41af66b0786",
   "metadata": {},
   "outputs": [
    {
     "name": "stdin",
     "output_type": "stream",
     "text": [
      "Enter First Number 45\n",
      "Enter Second Number 47\n"
     ]
    },
    {
     "name": "stdout",
     "output_type": "stream",
     "text": [
      "45 is smaller than 47\n"
     ]
    }
   ],
   "source": [
    "\"\"\" Get two numbers from the user using input prompt. If a is greater than b return a is greater than b, if a is less b return a is smaller than b, else a is equal to b. Output:\n",
    "\n",
    "Enter number one: 4\n",
    "Enter number two: 3\n",
    "4 is greater than 3 \"\"\"\n",
    "\n",
    "first_num = int(input(\"Enter First Number\"))\n",
    "second_num = int(input(\"Enter Second Number\"))\n",
    "\n",
    "if first_num > second_num:\n",
    "    print(f\"{first_num} is greater than {second_num}\")\n",
    "elif first_num < second_num:\n",
    "    print(f\"{first_num} is smaller than {second_num}\")\n",
    "else:\n",
    "    print(f\"{first_num} is equal to {second_num}\")"
   ]
  },
  {
   "cell_type": "code",
   "execution_count": 8,
   "id": "e3437eec-0781-4880-afdf-4ded8fe7edeb",
   "metadata": {},
   "outputs": [
    {
     "name": "stdin",
     "output_type": "stream",
     "text": [
      "Enter the Student's Score (0-100) 56\n"
     ]
    },
    {
     "name": "stdout",
     "output_type": "stream",
     "text": [
      "Your Grade is : D\n"
     ]
    }
   ],
   "source": [
    "\"\"\"     Write a code which gives grade to students according to theirs scores:\n",
    "        \n",
    "        80-100, A\n",
    "        70-89, B\n",
    "        60-69, C\n",
    "        50-59, D\n",
    "        0-49, F \"\"\"\n",
    "\n",
    "score = int(input(\"Enter the Student's Score (0-100)\"))\n",
    "if score >= 80:\n",
    "    print(\"Your Grade is : A\")\n",
    "elif score >= 70:\n",
    "    print(\"Your Grade is : B\")\n",
    "elif score >= 60:\n",
    "    print(\"Your Grade is : C\")\n",
    "elif score >= 50:\n",
    "    print(\"Your Grade is : D\")\n",
    "elif score >= 35:\n",
    "    print(\"Your Grade is : F\")\n",
    "else:\n",
    "    print(\"Thank you\")"
   ]
  },
  {
   "cell_type": "code",
   "execution_count": 9,
   "id": "39d1b498-e8a8-4a7b-8041-0b73c8ba2c81",
   "metadata": {},
   "outputs": [
    {
     "name": "stdin",
     "output_type": "stream",
     "text": [
      "Enter the month:  june\n"
     ]
    },
    {
     "name": "stdout",
     "output_type": "stream",
     "text": [
      "The season for june is Summer.\n"
     ]
    }
   ],
   "source": [
    "\"\"\" Check if the season is Autumn, Winter, Spring or Summer. If the user input is:\n",
    "    September, October or November, the season is Autumn.\n",
    "    December, January or February, the season is Winter.\n",
    "    March, April or May, the season is Spring\n",
    "    June, July or August, the season is Summer \"\"\"\n",
    "\n",
    "month = input(\"Enter the month: \").lower()  # Convert input to lowercase\n",
    "\n",
    "if month in (\"september\", \"october\", \"november\"):\n",
    "  season = \"Autumn\"\n",
    "elif month in (\"december\", \"january\", \"february\"):\n",
    "  season = \"Winter\"\n",
    "elif month in (\"march\", \"april\", \"may\"):\n",
    "  season = \"Spring\"\n",
    "elif month in (\"june\", \"july\", \"august\"):\n",
    "  season = \"Summer\"\n",
    "else:\n",
    "  season = \"Invalid month\"\n",
    "\n",
    "if season != \"Invalid month\":\n",
    "  print(f\"The season for {month} is {season}.\")\n",
    "else:\n",
    "  print(\"Please enter a valid month name.\")"
   ]
  },
  {
   "cell_type": "code",
   "execution_count": 12,
   "id": "d7599048-8ab0-4809-bbf8-69650db502fa",
   "metadata": {},
   "outputs": [
    {
     "name": "stdin",
     "output_type": "stream",
     "text": [
      "Enter a Fruit Name :  chiku\n"
     ]
    },
    {
     "name": "stdout",
     "output_type": "stream",
     "text": [
      "The modified Fruit List is : ['banana', 'orange', 'mango', 'lemon', 'chiku']\n"
     ]
    }
   ],
   "source": [
    "\"\"\" 2.  The following list contains some fruits:\n",
    "    \n",
    "    fruits = ['banana', 'orange', 'mango', 'lemon']\n",
    "    ```\n",
    "    If a fruit doesn't exist in the list add the fruit to the list and print the modified list. \n",
    "    If the fruit exists print('That fruit already exist in the list') \"\"\"\n",
    "\n",
    "fruits = [\"banana\", \"orange\", \"mango\", \"lemon\"]\n",
    "new_fruit = input(\"Enter a Fruit Name : \")\n",
    "\n",
    "if new_fruit not in fruits:\n",
    "    fruits.append(new_fruit)\n",
    "    print(f\"The modified Fruit List is : {fruits}\")\n",
    "else:\n",
    "    print(f\"That fruit ({new_fruit}) already exist in the list.\")"
   ]
  },
  {
   "cell_type": "code",
   "execution_count": 13,
   "id": "bb89e30e-2059-404f-bf5a-ad7e5f07b605",
   "metadata": {},
   "outputs": [
    {
     "name": "stdout",
     "output_type": "stream",
     "text": [
      "Middle skill: Node\n",
      "The person has the Python skill.\n",
      "He is a full-stack developer\n",
      "\n",
      "Asabeneh Yetayeh is married and lives in Finland at Space street with zipcode 02210.\n"
     ]
    }
   ],
   "source": [
    "\"\"\" Here we have a person dictionary. Feel free to modify it!\n",
    "   \n",
    "person={\n",
    "    'first_name': 'Asabeneh',\n",
    "    'last_name': 'Yetayeh',\n",
    "    'age': 250,\n",
    "    'country': 'Finland',\n",
    "    'is_marred': True,\n",
    "    'skills': ['JavaScript', 'React', 'Node', 'MongoDB', 'Python'],\n",
    "    'address': {\n",
    "        'street': 'Space street',\n",
    "        'zipcode': '02210'\n",
    "    }\n",
    "    }\n",
    "\n",
    "     * Check if the person dictionary has skills key, if so print out the middle skill in the skills list.\n",
    "     * Check if the person dictionary has skills key, if so check if the person has 'Python' skill and print out the result.\n",
    "     * If a person skills has only JavaScript and React, print('He is a front end developer'), if the person skills has Node, Python, MongoDB, print('He is a backend developer'), if the person skills has React, Node and MongoDB, Print('He is a fullstack developer'), else print('unknown title') - for more accurate results more conditions can be nested!\n",
    "     * If the person is married and if he lives in Finland, print the information in the following format: \"\"\"\n",
    "\n",
    "person = {\n",
    "    'first_name': 'Asabeneh',\n",
    "    'last_name': 'Yetayeh',\n",
    "    'age': 250,\n",
    "    'country': 'Finland',\n",
    "    'is_married': True,\n",
    "    'skills': ['JavaScript', 'React', 'Node', 'MongoDB', 'Python'],\n",
    "    'address': {\n",
    "        'street': 'Space street',\n",
    "        'zipcode': '02210'\n",
    "    }\n",
    "}\n",
    "\n",
    "if \"skills\" in person:\n",
    "  num_skills = len(person[\"skills\"])\n",
    "  if num_skills > 1:\n",
    "    middle_index = int((num_skills - 1) / 2)\n",
    "    print(f\"Middle skill: {person['skills'][middle_index]}\")\n",
    "\n",
    "if \"skills\" in person and \"Python\" in person[\"skills\"]:\n",
    "  print(\"The person has the Python skill.\")\n",
    "\n",
    "skills = person.get(\"skills\", [])  # Get skills list or empty list if not present\n",
    "if skills == [\"JavaScript\", \"React\"]:\n",
    "  print(\"He is a front-end developer\")\n",
    "elif \"Node\" in skills and (\"Python\" in skills or \"MongoDB\" in skills):\n",
    "  print(\"He is a full-stack developer\")\n",
    "elif \"Node\" in skills:\n",
    "  print(\"He is a back-end developer\")\n",
    "else:\n",
    "  print(\"Unknown title\")\n",
    "\n",
    "if person[\"is_married\"] and person[\"country\"] == \"Finland\":\n",
    "  print(f\"\\n{person['first_name']} {person['last_name']} is married and lives in Finland at {person['address']['street']} with zipcode {person['address']['zipcode']}.\")"
   ]
  },
  {
   "cell_type": "code",
   "execution_count": null,
   "id": "8eb301df-b6d9-4ad5-b557-e94acc9c2b19",
   "metadata": {},
   "outputs": [],
   "source": []
  }
 ],
 "metadata": {
  "kernelspec": {
   "display_name": "Python 3 (ipykernel)",
   "language": "python",
   "name": "python3"
  },
  "language_info": {
   "codemirror_mode": {
    "name": "ipython",
    "version": 3
   },
   "file_extension": ".py",
   "mimetype": "text/x-python",
   "name": "python",
   "nbconvert_exporter": "python",
   "pygments_lexer": "ipython3",
   "version": "3.11.7"
  }
 },
 "nbformat": 4,
 "nbformat_minor": 5
}
