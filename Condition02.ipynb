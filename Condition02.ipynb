{
 "cells": [
  {
   "cell_type": "code",
   "execution_count": 2,
   "id": "ecd89216-9ed8-438a-bfe7-2295adb575f6",
   "metadata": {},
   "outputs": [
    {
     "name": "stdin",
     "output_type": "stream",
     "text": [
      "Enter First Number\n",
      " 42\n",
      "Enter Second Number\n",
      " 41\n"
     ]
    },
    {
     "name": "stdout",
     "output_type": "stream",
     "text": [
      "First Number is Bigger than Second\n"
     ]
    }
   ],
   "source": [
    "number1 = int(input(\"Enter First Number\\n\"))\n",
    "number2 = int(input(\"Enter Second Number\\n\"))\n",
    "\n",
    "if number1 == number2:\n",
    "    print(\"Both Number are same\")\n",
    "else:\n",
    "    if number1 > number2:\n",
    "        print(\"First Number is Bigger than Second\")\n",
    "    else:\n",
    "        print(\"First Number is smaller than Second\")"
   ]
  },
  {
   "cell_type": "code",
   "execution_count": 4,
   "id": "630ddbd7-f6f0-455c-90b5-5eacade51194",
   "metadata": {},
   "outputs": [
    {
     "name": "stdin",
     "output_type": "stream",
     "text": [
      "Enter Number\n",
      " 44\n"
     ]
    },
    {
     "name": "stdout",
     "output_type": "stream",
     "text": [
      "Number is Even\n"
     ]
    }
   ],
   "source": [
    "number = int(input(\"Enter Number\\n\"))\n",
    "\n",
    "if number % 2 == 0:\n",
    "    print(\"Number is Even\")\n",
    "else:\n",
    "    print(\"Number is odd\")"
   ]
  },
  {
   "cell_type": "code",
   "execution_count": 8,
   "id": "24f68abe-1d43-4085-bee9-87cd2a85496c",
   "metadata": {},
   "outputs": [
    {
     "name": "stdin",
     "output_type": "stream",
     "text": [
      "Enter the length in Centimeter\n",
      " 45\n"
     ]
    },
    {
     "name": "stdout",
     "output_type": "stream",
     "text": [
      "45.0 cm =  17.716535433070867  inches\n"
     ]
    }
   ],
   "source": [
    "length_in_cm = float(input(\"Enter the length in Centimeter\\n\"))\n",
    "\n",
    "if length_in_cm < 0:\n",
    "    print(\"You have entered Negative Value.\")\n",
    "else:\n",
    "    length_in_inches = length_in_cm / 2.54\n",
    "    print(length_in_cm, \"cm = \", length_in_inches, \" inches\")"
   ]
  },
  {
   "cell_type": "code",
   "execution_count": 2,
   "id": "b43b3f7e-c9d1-4be2-9433-6c78a3ba8a02",
   "metadata": {},
   "outputs": [
    {
     "name": "stdout",
     "output_type": "stream",
     "text": [
      "may be i won't be able to buy a jacket \n"
     ]
    }
   ],
   "source": [
    "price = 600\n",
    "\n",
    "if price > 500:\n",
    "    print(\"may be i won't be able to buy a jacket \")\n",
    "elif price < 500:\n",
    "    print(\"i will be able to buy a jacket\")\n",
    "elif price ==500:\n",
    "    print(\"for sure i will be able to buy\")\n",
    "else:\n",
    "    print(\"I don't know\")"
   ]
  },
  {
   "cell_type": "code",
   "execution_count": 5,
   "id": "cae97167-7a7a-4b56-be16-49db264a9037",
   "metadata": {},
   "outputs": [
    {
     "name": "stdout",
     "output_type": "stream",
     "text": [
      "Try to perform a task\n"
     ]
    }
   ],
   "source": [
    "lis = [1,2,3,4,5,6]\n",
    "\n",
    "if 60 in lis:\n",
    "    print(\"Try to perform a task\")\n",
    "else:\n",
    "    print(\"Do not perform this task\")"
   ]
  },
  {
   "cell_type": "code",
   "execution_count": 7,
   "id": "4f1362fa-219a-4fd7-b969-0a973b3dad5d",
   "metadata": {},
   "outputs": [
    {
     "name": "stdout",
     "output_type": "stream",
     "text": [
      "do not perform this task\n"
     ]
    }
   ],
   "source": [
    "lis = [1,2,3,4,5,6]\n",
    "\n",
    "if 6 not in lis:\n",
    "    print(\"try to perform a task\")\n",
    "else:\n",
    "    print(\"do not perform this task\")"
   ]
  },
  {
   "cell_type": "code",
   "execution_count": 8,
   "id": "b41db3ab-0b2f-4a51-afe5-d2f16fd4af10",
   "metadata": {},
   "outputs": [
    {
     "name": "stdout",
     "output_type": "stream",
     "text": [
      "try to do sub\n",
      "This is new statement\n"
     ]
    }
   ],
   "source": [
    "lis = [1,2,3,4,5,6]\n",
    "\n",
    "if 10 in lis:\n",
    "    print(\"try to do a addition\")\n",
    "elif 2 in lis:\n",
    "    print(\"try to do sub\")\n",
    "elif 3 in lis:\n",
    "    print(\"try to do mul\")\n",
    "if 4 in lis:\n",
    "    print(\"This is new statement\")"
   ]
  },
  {
   "cell_type": "code",
   "execution_count": 13,
   "id": "d9736596-b9b4-4775-87ae-ff6fabbd77dc",
   "metadata": {},
   "outputs": [
    {
     "name": "stdin",
     "output_type": "stream",
     "text": [
      "Enter the Value 501\n"
     ]
    },
    {
     "name": "stdout",
     "output_type": "stream",
     "text": [
      "I wont be able to buy anything with this price tag\n"
     ]
    }
   ],
   "source": [
    "price = int(input(\"Enter the Value\"))\n",
    "\n",
    "if price < 500:\n",
    "    print(\"I will be able to buy something\")\n",
    "    print()\n",
    "    if price < 400:\n",
    "        print(\"I will be able to buy a jacket\")\n",
    "    elif price < 300 :\n",
    "        print(\"I will be able to buy a shirt\")\n",
    "        if price < 200:\n",
    "            print(\"I would like to do something\")\n",
    "    else:\n",
    "            print(\"I won't be able to buy anything\")\n",
    "else:\n",
    "        print(\"I wont be able to buy anything with this price tag\")"
   ]
  },
  {
   "cell_type": "code",
   "execution_count": 14,
   "id": "8cb687e6-0c12-4421-a074-46dab66e49b2",
   "metadata": {},
   "outputs": [
    {
     "name": "stdin",
     "output_type": "stream",
     "text": [
      " 652\n"
     ]
    },
    {
     "name": "stdout",
     "output_type": "stream",
     "text": [
      "You will get IIT\n",
      "Try next time\n"
     ]
    }
   ],
   "source": [
    "marks = int(input())\n",
    "if marks < 600:\n",
    "    print(\"NO GRE\")\n",
    "    if marks < 500:\n",
    "        print(\"TOFEL\")\n",
    "        if marks < 400:\n",
    "            print(\"Try something else\")\n",
    "    else:\n",
    "        print(\"You Got TOFEL\")\n",
    "\n",
    "elif marks > 600:\n",
    "    print(\"You will get IIT\")\n",
    "    if marks > 700:\n",
    "        print(\"You will get IIM\")\n",
    "    else:\n",
    "        print(\"Try next time\")\n",
    "else:\n",
    "    print(\"You got GRE congraatulations\")"
   ]
  },
  {
   "cell_type": "code",
   "execution_count": 16,
   "id": "732d5243-c60b-485d-a046-7e8e53abbd8b",
   "metadata": {},
   "outputs": [
    {
     "name": "stdin",
     "output_type": "stream",
     "text": [
      "Enter the floating point Number -8\n"
     ]
    },
    {
     "name": "stdout",
     "output_type": "stream",
     "text": [
      "Entered Number is a Negative Number\n"
     ]
    }
   ],
   "source": [
    "val = float(input(\"Enter the floating point Number\"))\n",
    "\n",
    "if val >= 0:\n",
    "    if val == 0:\n",
    "        print(\"Entered Value is Zero\")\n",
    "    else:\n",
    "        print(\"Entered Value is Positive Number\")\n",
    "else:\n",
    "    print(\"Entered Number is a Negative Number\")"
   ]
  },
  {
   "cell_type": "code",
   "execution_count": 19,
   "id": "e0472554-4cb0-4c64-914a-69b7c4536989",
   "metadata": {},
   "outputs": [
    {
     "name": "stdin",
     "output_type": "stream",
     "text": [
      "Entrance exam marks 710\n"
     ]
    },
    {
     "name": "stdout",
     "output_type": "stream",
     "text": [
      "700\n"
     ]
    }
   ],
   "source": [
    "mark = int(input(\"Entrance exam marks\"))\n",
    "\n",
    "if mark > 700:\n",
    "    print(\"700\")\n",
    "elif mark == 600:\n",
    "    print()\n",
    "else:\n",
    "    print()"
   ]
  },
  {
   "cell_type": "code",
   "execution_count": 28,
   "id": "0472cd69-fe66-4390-8dd9-5e1a75abf906",
   "metadata": {},
   "outputs": [
    {
     "name": "stdin",
     "output_type": "stream",
     "text": [
      "Entrance exam Marks 430\n"
     ]
    },
    {
     "name": "stdout",
     "output_type": "stream",
     "text": [
      "Take drop and work Hard\n"
     ]
    }
   ],
   "source": [
    "mark = int(input(\"Entrance exam Marks\"))\n",
    "\n",
    "if mark > 500:\n",
    "    print(\"You will get NIT\")\n",
    "    if mark > 600:\n",
    "        print(\"You will get IIT\")\n",
    "        if mark > 700:\n",
    "            print(\"You will get IIM\")\n",
    "            if mark > 800:\n",
    "                print(\"You Should go abroad\")\n",
    "            else:\n",
    "                print(\"little more effort needed for abroad\")\n",
    "        else:\n",
    "            print(\"mark shorten to get IIM\")\n",
    "    else:\n",
    "        print(\"little more effort needed for IIT\")\n",
    "elif mark == 500:\n",
    "    print(\"You will get university college\")\n",
    "else:\n",
    "    print(\"Take drop and work Hard\")"
   ]
  },
  {
   "cell_type": "code",
   "execution_count": 30,
   "id": "b5d38c81-e339-4890-b499-3eeb4a6b12b8",
   "metadata": {},
   "outputs": [
    {
     "name": "stdin",
     "output_type": "stream",
     "text": [
      "Enter a Number 6\n"
     ]
    },
    {
     "name": "stdout",
     "output_type": "stream",
     "text": [
      "It is divisible by 3 or 2 or 5\n"
     ]
    }
   ],
   "source": [
    "n = int(input(\"Enter a Number\"))\n",
    "\n",
    "if n==2:\n",
    "    print(\"It is a prime Number\", n)\n",
    "elif n == 3:\n",
    "    print(\"It is a prime Number\", n)\n",
    "elif n%3==0 or n%2==0 or n%5==0 or n%7==0:\n",
    "    print(\"It is divisible by 3 or 2 or 5\")\n",
    "else:\n",
    "    print(\"It is a prime Number\")"
   ]
  },
  {
   "cell_type": "code",
   "execution_count": null,
   "id": "16ed9289-e852-4558-a372-f72b78370bb0",
   "metadata": {},
   "outputs": [],
   "source": []
  }
 ],
 "metadata": {
  "kernelspec": {
   "display_name": "Python 3 (ipykernel)",
   "language": "python",
   "name": "python3"
  },
  "language_info": {
   "codemirror_mode": {
    "name": "ipython",
    "version": 3
   },
   "file_extension": ".py",
   "mimetype": "text/x-python",
   "name": "python",
   "nbconvert_exporter": "python",
   "pygments_lexer": "ipython3",
   "version": "3.11.7"
  }
 },
 "nbformat": 4,
 "nbformat_minor": 5
}
