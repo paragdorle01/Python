{
 "cells": [
  {
   "cell_type": "code",
   "execution_count": 12,
   "id": "187a1845-c7eb-4e4e-8766-4ae26a7a403b",
   "metadata": {},
   "outputs": [],
   "source": [
    "# 2. Write a python comment saying 'Day 2: 30 Days of python programming'\n",
    "\n",
    "# 'Day 2: 30 Days of python programming'"
   ]
  },
  {
   "cell_type": "code",
   "execution_count": 9,
   "id": "a358a7ce-a261-4423-94f1-e5ee68431278",
   "metadata": {},
   "outputs": [
    {
     "name": "stdout",
     "output_type": "stream",
     "text": [
      "Parag\n"
     ]
    }
   ],
   "source": [
    "# 3. Declare a first name variable and assign a value to it\n",
    "\n",
    "first_name = \"Parag\"\n",
    "print(first_name)"
   ]
  },
  {
   "cell_type": "code",
   "execution_count": 10,
   "id": "4eff13e1-3910-46fd-af6c-7fbb4aa1b0a1",
   "metadata": {},
   "outputs": [
    {
     "name": "stdout",
     "output_type": "stream",
     "text": [
      "Dorle\n"
     ]
    }
   ],
   "source": [
    "# 4. Declare a last name variable and assign a value to it\n",
    "\n",
    "last_name = \"Dorle\"\n",
    "print(last_name)"
   ]
  },
  {
   "cell_type": "code",
   "execution_count": 11,
   "id": "5e39e454-7cea-4f21-95d2-b2bcad730bb1",
   "metadata": {},
   "outputs": [
    {
     "name": "stdout",
     "output_type": "stream",
     "text": [
      "Parag Dorle\n"
     ]
    }
   ],
   "source": [
    "# 5. Declare a full name variable and assign a value to it\n",
    "\n",
    "full_name = \"Parag Dorle\"\n",
    "print(full_name)"
   ]
  },
  {
   "cell_type": "code",
   "execution_count": 14,
   "id": "ca4edeb4-6a4e-4f1d-951e-6344a182dbf3",
   "metadata": {},
   "outputs": [
    {
     "name": "stdout",
     "output_type": "stream",
     "text": [
      "India\n"
     ]
    }
   ],
   "source": [
    "# 6. Declare a country variable and assign a value to it\n",
    "\n",
    "country = \"India\"\n",
    "print(country)"
   ]
  },
  {
   "cell_type": "code",
   "execution_count": 16,
   "id": "ed7389b9-1304-488b-90f6-e35542769a82",
   "metadata": {},
   "outputs": [
    {
     "name": "stdout",
     "output_type": "stream",
     "text": [
      "Nagpur\n"
     ]
    }
   ],
   "source": [
    "# 7. Declare a city variable and assign a value to it\n",
    "\n",
    "city_name = \"Nagpur\"\n",
    "print(city_name)"
   ]
  },
  {
   "cell_type": "code",
   "execution_count": 18,
   "id": "60ab2648-8a28-46b0-85e6-f26a7c93eb80",
   "metadata": {},
   "outputs": [
    {
     "name": "stdout",
     "output_type": "stream",
     "text": [
      "10\n"
     ]
    }
   ],
   "source": [
    "# 8. Declare an age variable and assign a value to it\n",
    "\n",
    "age = 10\n",
    "print(age)"
   ]
  },
  {
   "cell_type": "code",
   "execution_count": 20,
   "id": "65c29727-eb23-496e-bb3c-7fc3d4ddbd5b",
   "metadata": {},
   "outputs": [
    {
     "name": "stdout",
     "output_type": "stream",
     "text": [
      "2024\n"
     ]
    }
   ],
   "source": [
    "# 9. Declare a year variable and assign a value to it\n",
    "\n",
    "year = 2024\n",
    "print(year)"
   ]
  },
  {
   "cell_type": "code",
   "execution_count": 26,
   "id": "fc788ecd-c33d-4367-a941-d4a3b857bb05",
   "metadata": {},
   "outputs": [
    {
     "name": "stdout",
     "output_type": "stream",
     "text": [
      "False\n"
     ]
    }
   ],
   "source": [
    "# 10. Declare a variable is_married and assign a value to it\n",
    "\n",
    "is_married = False\n",
    "print(is_married)"
   ]
  },
  {
   "cell_type": "code",
   "execution_count": 29,
   "id": "1b32291d-4ba0-4ab0-a81d-d195810fb6d7",
   "metadata": {},
   "outputs": [
    {
     "name": "stdout",
     "output_type": "stream",
     "text": [
      "False\n"
     ]
    }
   ],
   "source": [
    "# 11. Declare a variable is_true and assign a value to it\n",
    "\n",
    "is_true = True\n",
    "is_true = False\n",
    "print(is_true)"
   ]
  },
  {
   "cell_type": "code",
   "execution_count": 31,
   "id": "b6d0c168-f4f6-4903-b8c0-5e69b517be71",
   "metadata": {},
   "outputs": [
    {
     "name": "stdout",
     "output_type": "stream",
     "text": [
      "True\n"
     ]
    }
   ],
   "source": [
    "# 12. Declare a variable is_light_on and assign a value to it\n",
    "\n",
    "is_light_on = True\n",
    "print(is_light_on)"
   ]
  },
  {
   "cell_type": "code",
   "execution_count": 33,
   "id": "a41b4838-3136-473f-8321-9c27ebc4e3dd",
   "metadata": {},
   "outputs": [
    {
     "name": "stdout",
     "output_type": "stream",
     "text": [
      "Parag 25 Nagpur\n"
     ]
    }
   ],
   "source": [
    "# 13. Declare multiple variable on one line\n",
    "\n",
    "name, age, city = \"Parag\", 25, \"Nagpur\"\n",
    "print(name, age, city)"
   ]
  },
  {
   "cell_type": "code",
   "execution_count": 34,
   "id": "6c83db1c-3581-49be-9036-643816ea531b",
   "metadata": {},
   "outputs": [],
   "source": [
    "# DATA TYPE"
   ]
  },
  {
   "cell_type": "code",
   "execution_count": 43,
   "id": "06d372fb-ff8b-420a-a090-8a28c6cde5a0",
   "metadata": {},
   "outputs": [
    {
     "name": "stdout",
     "output_type": "stream",
     "text": [
      "<class 'int'>\n",
      "<class 'float'>\n",
      "<class 'complex'>\n",
      "<class 'str'>\n",
      "<class 'list'>\n",
      "<class 'dict'>\n",
      "<class 'set'>\n",
      "<class 'tuple'>\n"
     ]
    },
    {
     "ename": "ZeroDivisionError",
     "evalue": "division by zero",
     "output_type": "error",
     "traceback": [
      "\u001b[1;31m---------------------------------------------------------------------------\u001b[0m",
      "\u001b[1;31mZeroDivisionError\u001b[0m                         Traceback (most recent call last)",
      "Cell \u001b[1;32mIn[43], line 19\u001b[0m\n\u001b[0;32m     15\u001b[0m \u001b[38;5;28mprint\u001b[39m(\u001b[38;5;28mtype\u001b[39m({\u001b[38;5;241m3.4\u001b[39m, \u001b[38;5;241m8.9\u001b[39m, \u001b[38;5;241m4.8\u001b[39m}))       \u001b[38;5;66;03m#\u001b[39;00m\n\u001b[0;32m     17\u001b[0m \u001b[38;5;28mprint\u001b[39m(\u001b[38;5;28mtype\u001b[39m((\u001b[38;5;241m3.14\u001b[39m, \u001b[38;5;241m4.5\u001b[39m, \u001b[38;5;241m8.9\u001b[39m)))      \u001b[38;5;66;03m#tuple\u001b[39;00m\n\u001b[1;32m---> 19\u001b[0m \u001b[38;5;28mprint\u001b[39m(\u001b[38;5;28mtype\u001b[39m(\u001b[38;5;28;01mTrue\u001b[39;00m\u001b[38;5;241m/\u001b[39m\u001b[38;5;28;01mFalse\u001b[39;00m))\n",
      "\u001b[1;31mZeroDivisionError\u001b[0m: division by zero"
     ]
    }
   ],
   "source": [
    "# 1. Check the data type of all your variables using type() built-in function\n",
    "\n",
    "print(type(10))       #int\n",
    "\n",
    "print(type(3.14))    #float\n",
    "\n",
    "print(type(5+3j))    #complex\n",
    "\n",
    "print(type(\"Parag\"))        #string\n",
    "\n",
    "print(type([1,2,3,4,5]))        #list\n",
    "\n",
    "print(type({\"name\":\"Parag\", \"age\": 25, \"city\": \"Nagpur\"}))        #\n",
    "\n",
    "print(type({3.4, 8.9, 4.8}))       #\n",
    "\n",
    "print(type((3.14, 4.5, 8.9)))      #tuple\n",
    "\n",
    "print(type(True/False))"
   ]
  },
  {
   "cell_type": "code",
   "execution_count": 47,
   "id": "42e6db30-4d32-44ea-8fde-064c21b1405d",
   "metadata": {},
   "outputs": [
    {
     "name": "stdout",
     "output_type": "stream",
     "text": [
      "5\n"
     ]
    }
   ],
   "source": [
    "# 1. Using the _len()_ built-in function, find the length of your first name\n",
    "\n",
    "length = len(first_name)\n",
    "print(length)"
   ]
  },
  {
   "cell_type": "code",
   "execution_count": 51,
   "id": "ce927c91-ef04-462b-bdb1-53956d615399",
   "metadata": {},
   "outputs": [
    {
     "name": "stdout",
     "output_type": "stream",
     "text": [
      "True\n"
     ]
    }
   ],
   "source": [
    "# 1. Compare the length of your first name and your last name\n",
    "\n",
    "c_length = first_name == last_name\n",
    "print(c_length)"
   ]
  },
  {
   "cell_type": "code",
   "execution_count": 53,
   "id": "0cc13469-2943-4cdd-ab75-2f3fe3e27aed",
   "metadata": {},
   "outputs": [
    {
     "name": "stdout",
     "output_type": "stream",
     "text": [
      "9\n"
     ]
    }
   ],
   "source": [
    "# 1. Declare 5 as num_one and 4 as num_two\n",
    "\n",
    "num_one = 5\n",
    "num_two = 4\n",
    "add = num_one+num_two\n",
    "print(add)"
   ]
  },
  {
   "cell_type": "code",
   "execution_count": 55,
   "id": "dcd2d620-df19-4030-9135-be41c83f5d29",
   "metadata": {},
   "outputs": [
    {
     "name": "stdout",
     "output_type": "stream",
     "text": [
      "1\n"
     ]
    }
   ],
   "source": [
    "# 2. Subtract num_two from num_one and assign the value to a variable diff\n",
    "\n",
    "sub = num_one-num_two\n",
    "print(sub)"
   ]
  },
  {
   "cell_type": "code",
   "execution_count": 57,
   "id": "48c60c9c-6c77-4fe1-b598-e432fb8ef30e",
   "metadata": {},
   "outputs": [
    {
     "name": "stdout",
     "output_type": "stream",
     "text": [
      "20\n"
     ]
    }
   ],
   "source": [
    "# 3. Multiply num_two and num_one and assign the value to a variable product\n",
    "\n",
    "multy = num_one*num_two\n",
    "print(multy)"
   ]
  },
  {
   "cell_type": "code",
   "execution_count": 60,
   "id": "d686f871-8f2a-46f6-9560-12680c7a9e06",
   "metadata": {},
   "outputs": [
    {
     "name": "stdout",
     "output_type": "stream",
     "text": [
      "1.25\n"
     ]
    }
   ],
   "source": [
    "# 4. Divide num_one by num_two and assign the value to a variable division\n",
    "\n",
    "div = num_one/num_two\n",
    "print(div)"
   ]
  },
  {
   "cell_type": "code",
   "execution_count": 61,
   "id": "4fd2a5c2-ca20-4eb2-bc87-43ceab5d5ac6",
   "metadata": {},
   "outputs": [
    {
     "name": "stdout",
     "output_type": "stream",
     "text": [
      "1\n"
     ]
    }
   ],
   "source": [
    "# 5. Use modulus division to find num_two divided by num_one and assign the value to a variable remainder\n",
    "\n",
    "mod = num_one%num_two\n",
    "print(mod)"
   ]
  },
  {
   "cell_type": "code",
   "execution_count": 62,
   "id": "dabb974b-0b3f-44de-bbd7-15bc45d43656",
   "metadata": {},
   "outputs": [
    {
     "name": "stdout",
     "output_type": "stream",
     "text": [
      "625\n"
     ]
    }
   ],
   "source": [
    "# 6. Calculate num_one to the power of num_two and assign the value to a variable exp\n",
    "\n",
    "pow = num_one**num_two\n",
    "print(pow)"
   ]
  },
  {
   "cell_type": "code",
   "execution_count": null,
   "id": "bf648710-3c5b-45a0-bfa4-0ce0f1d16b4e",
   "metadata": {},
   "outputs": [],
   "source": [
    "# 7. Find floor division of num_one by num_two and assign the value to a variable floor_division\n",
    "\n",
    "div = num_one/num_two\n",
    "print(div)"
   ]
  },
  {
   "cell_type": "code",
   "execution_count": 70,
   "id": "3d32d46b-0345-43bf-ab1d-1d8836cdc5a8",
   "metadata": {},
   "outputs": [
    {
     "name": "stdout",
     "output_type": "stream",
     "text": [
      "2826.0\n"
     ]
    }
   ],
   "source": [
    "# 1. The radius of a circle is 30 meters.\n",
    "# 1. Calculate the area of a circle and assign the value to a variable name of _area_of_circle\n",
    "radius = 30\n",
    "pi = 3.14\n",
    "area = pi*radius*radius\n",
    "print(area)"
   ]
  },
  {
   "cell_type": "code",
   "execution_count": 72,
   "id": "138e5db3-c704-438f-8cf2-46064766c7a2",
   "metadata": {},
   "outputs": [
    {
     "name": "stdout",
     "output_type": "stream",
     "text": [
      "188.4\n"
     ]
    }
   ],
   "source": [
    "# 2. Calculate the circumference of a circle and assign the value to a variable name of _circum_of_circle\n",
    "\n",
    "radius = 30\n",
    "pi = 3.14\n",
    "circumference_of_a_circle = 2*pi*radius\n",
    "print(circumference_of_a_circle)"
   ]
  },
  {
   "cell_type": "code",
   "execution_count": 76,
   "id": "1074560a-1dd6-45e7-9ada-a3370627754a",
   "metadata": {},
   "outputs": [
    {
     "name": "stdin",
     "output_type": "stream",
     "text": [
      "Enter the value :  30\n"
     ]
    },
    {
     "name": "stdout",
     "output_type": "stream",
     "text": [
      "2826.0\n"
     ]
    }
   ],
   "source": [
    "# 3. Take radius as user input and calculate the area.\n",
    "\n",
    "radius = int(input(\"Enter the value : \"))\n",
    "pi = 3.14\n",
    "area = pi*radius*radius\n",
    "print(area)"
   ]
  },
  {
   "cell_type": "code",
   "execution_count": 78,
   "id": "03190341-ab12-4a9c-bfb8-9bc038469076",
   "metadata": {},
   "outputs": [
    {
     "name": "stdin",
     "output_type": "stream",
     "text": [
      "Enter your First Name :  Parag\n",
      "Enter your Last Name :  Dorle\n",
      "Enter your country name :  India\n",
      "Enter your age :  25\n"
     ]
    },
    {
     "name": "stdout",
     "output_type": "stream",
     "text": [
      "Parag Dorle India 25\n"
     ]
    }
   ],
   "source": [
    "# 1. Use the built-in input function to get first name, last name, country and age from a user and store the value to their corresponding variable names\n",
    "\n",
    "first_name = str(input(\"Enter your First Name : \"))\n",
    "last_name = str(input(\"Enter your Last Name : \"))\n",
    "country = str(input(\"Enter your country name : \"))\n",
    "age = int(input(\"Enter your age : \"))\n",
    "print(first_name, last_name, country, age)"
   ]
  }
 ],
 "metadata": {
  "kernelspec": {
   "display_name": "Python 3 (ipykernel)",
   "language": "python",
   "name": "python3"
  },
  "language_info": {
   "codemirror_mode": {
    "name": "ipython",
    "version": 3
   },
   "file_extension": ".py",
   "mimetype": "text/x-python",
   "name": "python",
   "nbconvert_exporter": "python",
   "pygments_lexer": "ipython3",
   "version": "3.11.7"
  }
 },
 "nbformat": 4,
 "nbformat_minor": 5
}
