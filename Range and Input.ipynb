{
 "cells": [
  {
   "cell_type": "code",
   "execution_count": 1,
   "id": "6856db77-2ab6-467b-af71-33f72176ad97",
   "metadata": {},
   "outputs": [
    {
     "data": {
      "text/plain": [
       "range(0, 10)"
      ]
     },
     "execution_count": 1,
     "metadata": {},
     "output_type": "execute_result"
    }
   ],
   "source": [
    "range(10)"
   ]
  },
  {
   "cell_type": "code",
   "execution_count": 2,
   "id": "28b06931-61d4-49ff-856f-3aa5a4e44948",
   "metadata": {},
   "outputs": [
    {
     "data": {
      "text/plain": [
       "[0, 1, 2, 3, 4, 5, 6, 7, 8, 9]"
      ]
     },
     "execution_count": 2,
     "metadata": {},
     "output_type": "execute_result"
    }
   ],
   "source": [
    "list(range(10))"
   ]
  },
  {
   "cell_type": "code",
   "execution_count": 3,
   "id": "6d41877f-12e1-492a-b038-e80a5a11968c",
   "metadata": {},
   "outputs": [
    {
     "data": {
      "text/plain": [
       "(0, 1, 2, 3, 4, 5, 6, 7, 8, 9)"
      ]
     },
     "execution_count": 3,
     "metadata": {},
     "output_type": "execute_result"
    }
   ],
   "source": [
    "tuple(range(10))"
   ]
  },
  {
   "cell_type": "code",
   "execution_count": 4,
   "id": "7b356f96-8a7f-4c2b-b18c-4ee84a012828",
   "metadata": {},
   "outputs": [
    {
     "data": {
      "text/plain": [
       "{0, 1, 2, 3, 4, 5, 6, 7, 8, 9}"
      ]
     },
     "execution_count": 4,
     "metadata": {},
     "output_type": "execute_result"
    }
   ],
   "source": [
    "set(range(10))"
   ]
  },
  {
   "cell_type": "code",
   "execution_count": 5,
   "id": "3538efe6-abb8-4da4-b097-f120783e3f44",
   "metadata": {},
   "outputs": [],
   "source": [
    "var = range(10)"
   ]
  },
  {
   "cell_type": "code",
   "execution_count": 6,
   "id": "293455a2-1acd-45f5-b643-1a6634c0c89d",
   "metadata": {},
   "outputs": [
    {
     "data": {
      "text/plain": [
       "range(9, -1, -1)"
      ]
     },
     "execution_count": 6,
     "metadata": {},
     "output_type": "execute_result"
    }
   ],
   "source": [
    "var[::-1]"
   ]
  },
  {
   "cell_type": "code",
   "execution_count": 7,
   "id": "1f0ae556-ddb3-4458-9acd-09809425dc25",
   "metadata": {},
   "outputs": [
    {
     "name": "stdin",
     "output_type": "stream",
     "text": [
      " Parag\n"
     ]
    }
   ],
   "source": [
    "name = input()"
   ]
  },
  {
   "cell_type": "code",
   "execution_count": 8,
   "id": "0ff5b807-c044-40b5-99f4-7ed8ee7840c0",
   "metadata": {},
   "outputs": [
    {
     "data": {
      "text/plain": [
       "'Parag'"
      ]
     },
     "execution_count": 8,
     "metadata": {},
     "output_type": "execute_result"
    }
   ],
   "source": [
    "name"
   ]
  },
  {
   "cell_type": "code",
   "execution_count": 9,
   "id": "7a889363-ffb4-46bd-9142-e0b1e16c61c6",
   "metadata": {},
   "outputs": [
    {
     "name": "stdin",
     "output_type": "stream",
     "text": [
      " Parag\n"
     ]
    }
   ],
   "source": [
    "num = input()"
   ]
  },
  {
   "cell_type": "code",
   "execution_count": 10,
   "id": "b745bb79-ca7f-41ca-9b4b-41f49ec79897",
   "metadata": {},
   "outputs": [
    {
     "name": "stdin",
     "output_type": "stream",
     "text": [
      " 5\n"
     ]
    }
   ],
   "source": [
    "num1 = int(input())"
   ]
  },
  {
   "cell_type": "code",
   "execution_count": 11,
   "id": "134e132c-8d4d-4970-b5da-b5b061137358",
   "metadata": {},
   "outputs": [
    {
     "data": {
      "text/plain": [
       "5"
      ]
     },
     "execution_count": 11,
     "metadata": {},
     "output_type": "execute_result"
    }
   ],
   "source": [
    "num1"
   ]
  },
  {
   "cell_type": "code",
   "execution_count": 12,
   "id": "a81b8977-cb23-4c1a-9639-b9bf7ff33b89",
   "metadata": {},
   "outputs": [
    {
     "name": "stdin",
     "output_type": "stream",
     "text": [
      " 2.5\n"
     ]
    }
   ],
   "source": [
    "num2 = float(input())"
   ]
  },
  {
   "cell_type": "code",
   "execution_count": 13,
   "id": "84e8d1f2-9dac-4629-9412-04b1b9a27880",
   "metadata": {},
   "outputs": [
    {
     "data": {
      "text/plain": [
       "2.5"
      ]
     },
     "execution_count": 13,
     "metadata": {},
     "output_type": "execute_result"
    }
   ],
   "source": [
    "num2"
   ]
  },
  {
   "cell_type": "code",
   "execution_count": 14,
   "id": "0ff77e4f-9fb4-4fc2-b7ba-2c7a0026e19a",
   "metadata": {},
   "outputs": [
    {
     "name": "stdin",
     "output_type": "stream",
     "text": [
      " 0\n"
     ]
    }
   ],
   "source": [
    "boolean = bool(input())"
   ]
  },
  {
   "cell_type": "code",
   "execution_count": 15,
   "id": "a2a85a0e-0a5f-4387-9f4c-bf91dec822cb",
   "metadata": {},
   "outputs": [
    {
     "data": {
      "text/plain": [
       "True"
      ]
     },
     "execution_count": 15,
     "metadata": {},
     "output_type": "execute_result"
    }
   ],
   "source": [
    "boolean"
   ]
  },
  {
   "cell_type": "code",
   "execution_count": 16,
   "id": "f3f79b0c-bafb-4491-a032-7906d25421cd",
   "metadata": {},
   "outputs": [
    {
     "data": {
      "text/plain": [
       "2"
      ]
     },
     "execution_count": 16,
     "metadata": {},
     "output_type": "execute_result"
    }
   ],
   "source": [
    "True + True"
   ]
  },
  {
   "cell_type": "code",
   "execution_count": 17,
   "id": "ad1b6c19-24f8-4424-bbab-d5e15de78ee0",
   "metadata": {},
   "outputs": [
    {
     "data": {
      "text/plain": [
       "4"
      ]
     },
     "execution_count": 17,
     "metadata": {},
     "output_type": "execute_result"
    }
   ],
   "source": [
    "True + True + True + False + True + False"
   ]
  },
  {
   "cell_type": "code",
   "execution_count": 18,
   "id": "5020091f-fc6d-4c43-8fe4-5d1d7607d04a",
   "metadata": {},
   "outputs": [
    {
     "name": "stdin",
     "output_type": "stream",
     "text": [
      " 2+4\n"
     ]
    },
    {
     "ename": "ValueError",
     "evalue": "invalid literal for int() with base 10: '2+4'",
     "output_type": "error",
     "traceback": [
      "\u001b[1;31m---------------------------------------------------------------------------\u001b[0m",
      "\u001b[1;31mValueError\u001b[0m                                Traceback (most recent call last)",
      "Cell \u001b[1;32mIn[18], line 1\u001b[0m\n\u001b[1;32m----> 1\u001b[0m var2 \u001b[38;5;241m=\u001b[39m \u001b[38;5;28mint\u001b[39m(\u001b[38;5;28minput\u001b[39m())\n",
      "\u001b[1;31mValueError\u001b[0m: invalid literal for int() with base 10: '2+4'"
     ]
    }
   ],
   "source": [
    "var2 = int(input())"
   ]
  },
  {
   "cell_type": "code",
   "execution_count": 19,
   "id": "68165201-258f-4fcd-a111-a987100eb7db",
   "metadata": {},
   "outputs": [
    {
     "name": "stdin",
     "output_type": "stream",
     "text": [
      " 40/3\n"
     ]
    }
   ],
   "source": [
    "var2 = eval(input())"
   ]
  },
  {
   "cell_type": "code",
   "execution_count": 20,
   "id": "e7cc6b91-5ccc-46f9-8b42-a9b7fc48e44a",
   "metadata": {},
   "outputs": [
    {
     "data": {
      "text/plain": [
       "13.333333333333334"
      ]
     },
     "execution_count": 20,
     "metadata": {},
     "output_type": "execute_result"
    }
   ],
   "source": [
    "var2"
   ]
  },
  {
   "cell_type": "code",
   "execution_count": 21,
   "id": "4692295a-972c-484c-9566-5cf8df623e62",
   "metadata": {},
   "outputs": [],
   "source": [
    "name = \"Parag\"\n",
    "lastname = \"Dorle\""
   ]
  },
  {
   "cell_type": "code",
   "execution_count": 22,
   "id": "7cacc394-bf32-4a06-bd38-c6062c01a721",
   "metadata": {},
   "outputs": [
    {
     "name": "stdout",
     "output_type": "stream",
     "text": [
      "Parag Dorle\n"
     ]
    }
   ],
   "source": [
    "print(name, lastname)"
   ]
  },
  {
   "cell_type": "code",
   "execution_count": 23,
   "id": "ad4ab291-5e43-47b6-a7be-361761ec184b",
   "metadata": {},
   "outputs": [
    {
     "name": "stdout",
     "output_type": "stream",
     "text": [
      "Parag Dorle 30\n"
     ]
    }
   ],
   "source": [
    "print(name, end = \" \")\n",
    "print(lastname, end = \" \")\n",
    "print(30)"
   ]
  },
  {
   "cell_type": "code",
   "execution_count": 25,
   "id": "9b0798c0-eda4-47ed-acfa-ff114b4a2fa3",
   "metadata": {},
   "outputs": [
    {
     "name": "stdout",
     "output_type": "stream",
     "text": [
      "I am Parag \n",
      "and \n",
      "I am a Student\n"
     ]
    }
   ],
   "source": [
    "print(\"I am Parag \\nand \\nI am a Student\")"
   ]
  },
  {
   "cell_type": "code",
   "execution_count": null,
   "id": "730fb338-5921-4b67-bedb-a61c5687504e",
   "metadata": {},
   "outputs": [],
   "source": []
  }
 ],
 "metadata": {
  "kernelspec": {
   "display_name": "Python 3 (ipykernel)",
   "language": "python",
   "name": "python3"
  },
  "language_info": {
   "codemirror_mode": {
    "name": "ipython",
    "version": 3
   },
   "file_extension": ".py",
   "mimetype": "text/x-python",
   "name": "python",
   "nbconvert_exporter": "python",
   "pygments_lexer": "ipython3",
   "version": "3.11.7"
  }
 },
 "nbformat": 4,
 "nbformat_minor": 5
}
