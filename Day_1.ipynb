{
 "cells": [
  {
   "cell_type": "code",
   "execution_count": 5,
   "id": "7cb36a82",
   "metadata": {},
   "outputs": [
    {
     "name": "stdout",
     "output_type": "stream",
     "text": [
      "python\n"
     ]
    }
   ],
   "source": [
    "print(\"python\")"
   ]
  },
  {
   "cell_type": "code",
   "execution_count": null,
   "id": "9da8c814",
   "metadata": {},
   "outputs": [],
   "source": [
    "# Checking data types\n",
    "\n",
    "print(type(10))                  # Int\n",
    "\n",
    "print(type(3.14))                # Float\n",
    "\n",
    "print(type(1 + 3j))              # Complex\n",
    "\n",
    "print(type('Asabeneh'))          # String\n",
    "\n",
    "print(type([1, 2, 3]))           # List\n",
    "\n",
    "print(type({'name':'Asabeneh', 1 : \"march\" })) # Dictionary\n",
    "\n",
    "print(type({9.8, 3.14, 2.7}))    # Set\n",
    "\n",
    "print(type((9.8, 3.14, 2.7)))    # Tuple\n",
    "\n",
    "print(type(True/False))          # Bool"
   ]
  },
  {
   "cell_type": "code",
   "execution_count": 7,
   "id": "43e7b920",
   "metadata": {},
   "outputs": [
    {
     "data": {
      "text/plain": [
       "5"
      ]
     },
     "execution_count": 7,
     "metadata": {},
     "output_type": "execute_result"
    }
   ],
   "source": [
    "1 + 4 "
   ]
  },
  {
   "cell_type": "code",
   "execution_count": null,
   "id": "5d047406",
   "metadata": {},
   "outputs": [],
   "source": [
    "#math operator\n",
    "\n",
    "print(2 + 3)   # addition(+)\n",
    "print(3 - 1)   # subtraction(-)\n",
    "print(2 * 3)   # multiplication(*)\n",
    "print(3 / 2)   # division(/)\n",
    "print(3 ** 2)  # exponential(**)\n",
    "print(3 % 2)   # modulus(%)\n",
    "print(3 // 2)  # Floor division operator(//)"
   ]
  },
  {
   "cell_type": "code",
   "execution_count": 11,
   "id": "0f255d71",
   "metadata": {},
   "outputs": [
    {
     "data": {
      "text/plain": [
       "3.5"
      ]
     },
     "execution_count": 11,
     "metadata": {},
     "output_type": "execute_result"
    }
   ],
   "source": [
    "7/2"
   ]
  },
  {
   "cell_type": "code",
   "execution_count": 12,
   "id": "37722387",
   "metadata": {},
   "outputs": [
    {
     "data": {
      "text/plain": [
       "1"
      ]
     },
     "execution_count": 12,
     "metadata": {},
     "output_type": "execute_result"
    }
   ],
   "source": [
    "7%2"
   ]
  },
  {
   "cell_type": "code",
   "execution_count": 13,
   "id": "0d5f94c0",
   "metadata": {},
   "outputs": [
    {
     "data": {
      "text/plain": [
       "1"
      ]
     },
     "execution_count": 13,
     "metadata": {},
     "output_type": "execute_result"
    }
   ],
   "source": [
    "31%5"
   ]
  },
  {
   "cell_type": "code",
   "execution_count": 14,
   "id": "d2c7ab40",
   "metadata": {},
   "outputs": [
    {
     "data": {
      "text/plain": [
       "1"
      ]
     },
     "execution_count": 14,
     "metadata": {},
     "output_type": "execute_result"
    }
   ],
   "source": [
    "3//2"
   ]
  },
  {
   "cell_type": "code",
   "execution_count": 15,
   "id": "46db7863",
   "metadata": {},
   "outputs": [
    {
     "data": {
      "text/plain": [
       "2"
      ]
     },
     "execution_count": 15,
     "metadata": {},
     "output_type": "execute_result"
    }
   ],
   "source": [
    "5//2"
   ]
  },
  {
   "cell_type": "code",
   "execution_count": 16,
   "id": "1418c18c",
   "metadata": {},
   "outputs": [
    {
     "data": {
      "text/plain": [
       "5"
      ]
     },
     "execution_count": 16,
     "metadata": {},
     "output_type": "execute_result"
    }
   ],
   "source": [
    "11//2"
   ]
  },
  {
   "cell_type": "code",
   "execution_count": null,
   "id": "96a4a909",
   "metadata": {},
   "outputs": [],
   "source": []
  },
  {
   "cell_type": "code",
   "execution_count": null,
   "id": "325f6828",
   "metadata": {},
   "outputs": [],
   "source": []
  },
  {
   "cell_type": "code",
   "execution_count": null,
   "id": "4192d044",
   "metadata": {},
   "outputs": [],
   "source": [
    "## Variables\n",
    "\n",
    "Variables store data in a computer memory. Mnemonic variables are recommended to use in many programming languages. A mnemonic variable is a variable name that can be easily remembered and associated. A variable refers to a memory address in which data is stored.\n",
    "Number at the beginning, special character, hyphen are not allowed when naming a variable. A variable can have a short name (like x, y, z), but a more descriptive name (firstname, lastname, age, country) is highly recommended.\n",
    "\n",
    "Python Variable Name Rules\n",
    "\n",
    "- A variable name must start with a letter or the underscore character\n",
    "- A variable name cannot start with a number\n",
    "- A variable name can only contain alpha-numeric characters and underscores (A-z, 0-9, and \\_ )\n",
    "- Variable names are case-sensitive (firstname, Firstname, FirstName and FIRSTNAME) are different variables)"
   ]
  },
  {
   "cell_type": "code",
   "execution_count": null,
   "id": "0c8e8795",
   "metadata": {},
   "outputs": [],
   "source": [
    "We will use standard Python variable naming style which has been adopted by many Python developers. Python developers use snake case(snake_case) variable naming convention. We use underscore character after each word for a variable containing more than one word(eg. first_name, last_name, engine_rotation_speed).  The example below is an example of standard naming of variables, underscore is required when the variable name is more than one word.\n",
    "\n",
    "When we assign a certain data type to a variable, it is called variable declaration. For instance in the example below my first name is assigned to a variable first_name. The equal sign is an assignment operator. Assigning means storing data in the variable. The equal sign in Python is not equality as in Mathematics."
   ]
  },
  {
   "cell_type": "code",
   "execution_count": 37,
   "id": "9f9686ec",
   "metadata": {},
   "outputs": [],
   "source": [
    "\n",
    "#_Example:_\n",
    "\n",
    "# Variables in Python\n",
    "first_name = 'Asabeneh'\n",
    "last_name = 'Yetayeh'\n",
    "country = 'Finland'\n",
    "city = 'Helsinki'\n",
    "age = 250\n",
    "is_married = True\n",
    "skills = ['HTML', 'CSS', 'JS', 'React', 'Python']\n",
    "person_info = {\n",
    "   'firstname':'Asabeneh',\n",
    "   'lastname':'Yetayeh',\n",
    "   'country':'Finland',\n",
    "   'city':'Helsinki'\n",
    "   }\n"
   ]
  },
  {
   "cell_type": "code",
   "execution_count": 18,
   "id": "1110af8a",
   "metadata": {},
   "outputs": [],
   "source": [
    "var = 344"
   ]
  },
  {
   "cell_type": "code",
   "execution_count": 19,
   "id": "37c66e6f",
   "metadata": {},
   "outputs": [
    {
     "ename": "SyntaxError",
     "evalue": "invalid decimal literal (1671115991.py, line 1)",
     "output_type": "error",
     "traceback": [
      "\u001b[1;36m  Cell \u001b[1;32mIn[19], line 1\u001b[1;36m\u001b[0m\n\u001b[1;33m    1var = 344\u001b[0m\n\u001b[1;37m    ^\u001b[0m\n\u001b[1;31mSyntaxError\u001b[0m\u001b[1;31m:\u001b[0m invalid decimal literal\n"
     ]
    }
   ],
   "source": [
    "1var = 344"
   ]
  },
  {
   "cell_type": "code",
   "execution_count": 20,
   "id": "731eb1ed",
   "metadata": {},
   "outputs": [],
   "source": [
    "var1 = 344"
   ]
  },
  {
   "cell_type": "code",
   "execution_count": 21,
   "id": "c44433be",
   "metadata": {},
   "outputs": [
    {
     "ename": "SyntaxError",
     "evalue": "invalid syntax (2296414443.py, line 1)",
     "output_type": "error",
     "traceback": [
      "\u001b[1;36m  Cell \u001b[1;32mIn[21], line 1\u001b[1;36m\u001b[0m\n\u001b[1;33m    var 1 = 344\u001b[0m\n\u001b[1;37m        ^\u001b[0m\n\u001b[1;31mSyntaxError\u001b[0m\u001b[1;31m:\u001b[0m invalid syntax\n"
     ]
    }
   ],
   "source": [
    "var 1 = 344"
   ]
  },
  {
   "cell_type": "code",
   "execution_count": 22,
   "id": "b46922f8",
   "metadata": {},
   "outputs": [],
   "source": [
    "var_1 = 344"
   ]
  },
  {
   "cell_type": "code",
   "execution_count": 23,
   "id": "48e6d73b",
   "metadata": {},
   "outputs": [
    {
     "ename": "SyntaxError",
     "evalue": "cannot assign to expression here. Maybe you meant '==' instead of '='? (18457576.py, line 1)",
     "output_type": "error",
     "traceback": [
      "\u001b[1;36m  Cell \u001b[1;32mIn[23], line 1\u001b[1;36m\u001b[0m\n\u001b[1;33m    var%1 = 344\u001b[0m\n\u001b[1;37m    ^\u001b[0m\n\u001b[1;31mSyntaxError\u001b[0m\u001b[1;31m:\u001b[0m cannot assign to expression here. Maybe you meant '==' instead of '='?\n"
     ]
    }
   ],
   "source": [
    "var%1 = 344"
   ]
  },
  {
   "cell_type": "code",
   "execution_count": 24,
   "id": "840e014c",
   "metadata": {},
   "outputs": [
    {
     "ename": "SyntaxError",
     "evalue": "cannot assign to literal here. Maybe you meant '==' instead of '='? (2150607174.py, line 1)",
     "output_type": "error",
     "traceback": [
      "\u001b[1;36m  Cell \u001b[1;32mIn[24], line 1\u001b[1;36m\u001b[0m\n\u001b[1;33m    1 = 344\u001b[0m\n\u001b[1;37m    ^\u001b[0m\n\u001b[1;31mSyntaxError\u001b[0m\u001b[1;31m:\u001b[0m cannot assign to literal here. Maybe you meant '==' instead of '='?\n"
     ]
    }
   ],
   "source": [
    "1 = 344"
   ]
  },
  {
   "cell_type": "code",
   "execution_count": 25,
   "id": "7b5baa97",
   "metadata": {},
   "outputs": [],
   "source": [
    "_1 = 344"
   ]
  },
  {
   "cell_type": "code",
   "execution_count": 26,
   "id": "f1eac290",
   "metadata": {},
   "outputs": [],
   "source": [
    "_ = 344"
   ]
  },
  {
   "cell_type": "code",
   "execution_count": 27,
   "id": "26c55a3b",
   "metadata": {},
   "outputs": [
    {
     "data": {
      "text/plain": [
       "344"
      ]
     },
     "execution_count": 27,
     "metadata": {},
     "output_type": "execute_result"
    }
   ],
   "source": [
    "_"
   ]
  },
  {
   "cell_type": "code",
   "execution_count": 28,
   "id": "ab877bff",
   "metadata": {},
   "outputs": [
    {
     "data": {
      "text/plain": [
       "344"
      ]
     },
     "execution_count": 28,
     "metadata": {},
     "output_type": "execute_result"
    }
   ],
   "source": [
    "_"
   ]
  },
  {
   "cell_type": "code",
   "execution_count": 33,
   "id": "1e1cbf88",
   "metadata": {},
   "outputs": [],
   "source": [
    "var = \"amit\""
   ]
  },
  {
   "cell_type": "code",
   "execution_count": 30,
   "id": "fff3bf29",
   "metadata": {},
   "outputs": [],
   "source": [
    "var = 6543"
   ]
  },
  {
   "cell_type": "code",
   "execution_count": 31,
   "id": "3e19431a",
   "metadata": {},
   "outputs": [
    {
     "data": {
      "text/plain": [
       "6543"
      ]
     },
     "execution_count": 31,
     "metadata": {},
     "output_type": "execute_result"
    }
   ],
   "source": [
    "var"
   ]
  },
  {
   "cell_type": "code",
   "execution_count": 34,
   "id": "bed69f58",
   "metadata": {},
   "outputs": [
    {
     "data": {
      "text/plain": [
       "str"
      ]
     },
     "execution_count": 34,
     "metadata": {},
     "output_type": "execute_result"
    }
   ],
   "source": [
    "type(var)"
   ]
  },
  {
   "cell_type": "code",
   "execution_count": null,
   "id": "deb2df5f",
   "metadata": {},
   "outputs": [],
   "source": [
    "Here are some example of valid variable names:\n",
    "\n",
    "```shell\n",
    "firstname\n",
    "lastname\n",
    "age\n",
    "country\n",
    "city\n",
    "first_name\n",
    "last_name\n",
    "capital_city\n",
    "_if # if we want to use reserved word as a variable\n",
    "year_2021\n",
    "year2021\n",
    "current_year_2021\n",
    "birth_year\n",
    "num1\n",
    "num2\n",
    "```\n",
    "\n",
    "Invalid variables names\n",
    "\n",
    "```shell\n",
    "first-name\n",
    "first@name\n",
    "first$name\n",
    "num-1\n",
    "1num"
   ]
  },
  {
   "cell_type": "code",
   "execution_count": null,
   "id": "980b1424",
   "metadata": {},
   "outputs": [],
   "source": []
  },
  {
   "cell_type": "code",
   "execution_count": 36,
   "id": "aab59cbe",
   "metadata": {},
   "outputs": [
    {
     "name": "stdout",
     "output_type": "stream",
     "text": [
      "Hello, World!\n",
      "Hello , World !\n",
      "13\n"
     ]
    }
   ],
   "source": [
    "#Let us use the _print()_ and _len()_ built-in functions. Print function takes unlimited number of arguments. An argument is a value which we can be passed or put inside the function parenthesis, see the example below.\n",
    "\n",
    "#**Example:**\n",
    "\n",
    "print('Hello, World!') # The text Hello, World! is an argument\n",
    "print('Hello',',', 'World','!') # it can take multiple arguments, four arguments have been passed\n",
    "print(len('Hello, World!')) # it takes only one argument"
   ]
  },
  {
   "cell_type": "code",
   "execution_count": null,
   "id": "275e1dd7",
   "metadata": {},
   "outputs": [],
   "source": [
    "print\n",
    "len\n",
    "type\n",
    "bool\n",
    "list\n",
    "tuple\n",
    "dict\n",
    "set\n",
    "pow\n",
    "del\n",
    "input\n",
    "range"
   ]
  },
  {
   "cell_type": "code",
   "execution_count": 38,
   "id": "f90dc97d",
   "metadata": {},
   "outputs": [
    {
     "name": "stdout",
     "output_type": "stream",
     "text": [
      "First name: Asabeneh\n",
      "First name length: 8\n",
      "Last name:  Yetayeh\n",
      "Last name length:  7\n",
      "Country:  Finland\n",
      "City:  Helsinki\n",
      "Age:  250\n",
      "Married:  True\n",
      "Skills:  ['HTML', 'CSS', 'JS', 'React', 'Python']\n",
      "Person information:  {'firstname': 'Asabeneh', 'lastname': 'Yetayeh', 'country': 'Finland', 'city': 'Helsinki'}\n"
     ]
    }
   ],
   "source": [
    "#Let us print and also find the length of the variables declared at the top:\n",
    "\n",
    "#**Example:**\n",
    "\n",
    "# Printing the values stored in the variables\n",
    "\n",
    "print('First name:', first_name)\n",
    "print('First name length:', len(first_name))\n",
    "print('Last name: ', last_name)\n",
    "print('Last name length: ', len(last_name))\n",
    "print('Country: ', country)\n",
    "print('City: ', city)\n",
    "print('Age: ', age)\n",
    "print('Married: ', is_married)\n",
    "print('Skills: ', skills)\n",
    "print('Person information: ', person_info)"
   ]
  },
  {
   "cell_type": "code",
   "execution_count": 39,
   "id": "4a692e16",
   "metadata": {},
   "outputs": [
    {
     "name": "stdout",
     "output_type": "stream",
     "text": [
      "Asabeneh Yetayeh Helsink 250 True\n",
      "First name: Asabeneh\n",
      "Last name:  Yetayeh\n",
      "Country:  Helsink\n",
      "Age:  250\n",
      "Married:  True\n"
     ]
    }
   ],
   "source": [
    "### Declaring Multiple Variable in a Line\n",
    "\n",
    "#Multiple variables can also be declared in one line:\n",
    "\n",
    "#**Example:**\n",
    "\n",
    "\n",
    "first_name, last_name, country, age, is_married = 'Asabeneh', 'Yetayeh', 'Helsink', 250, True\n",
    "\n",
    "print(first_name, last_name, country, age, is_married)\n",
    "print('First name:', first_name)\n",
    "print('Last name: ', last_name)\n",
    "print('Country: ', country)\n",
    "print('Age: ', age)\n",
    "print('Married: ', is_married)"
   ]
  },
  {
   "cell_type": "code",
   "execution_count": 40,
   "id": "103ddfdb",
   "metadata": {},
   "outputs": [
    {
     "name": "stdout",
     "output_type": "stream",
     "text": [
      "What is your name: amit\n",
      "How old are you? 30\n",
      "amit\n",
      "30\n"
     ]
    }
   ],
   "source": [
    "#Getting user input using the _input()_ built-in function. Let us assign the data we get from a user into first_name and age variables.\n",
    "#**Example:**\n",
    "\n",
    "first_name = input('What is your name: ')\n",
    "age = input('How old are you? ')\n",
    "\n",
    "print(first_name)\n",
    "print(age)"
   ]
  },
  {
   "cell_type": "code",
   "execution_count": 41,
   "id": "0b34f3fa",
   "metadata": {},
   "outputs": [
    {
     "name": "stdout",
     "output_type": "stream",
     "text": [
      "3\n"
     ]
    },
    {
     "data": {
      "text/plain": [
       "'3'"
      ]
     },
     "execution_count": 41,
     "metadata": {},
     "output_type": "execute_result"
    }
   ],
   "source": [
    "input()"
   ]
  },
  {
   "cell_type": "code",
   "execution_count": 42,
   "id": "8670497b",
   "metadata": {},
   "outputs": [
    {
     "name": "stdout",
     "output_type": "stream",
     "text": [
      "number is :4\n"
     ]
    },
    {
     "data": {
      "text/plain": [
       "'4'"
      ]
     },
     "execution_count": 42,
     "metadata": {},
     "output_type": "execute_result"
    }
   ],
   "source": [
    "input(\"number is :\")"
   ]
  },
  {
   "cell_type": "code",
   "execution_count": 43,
   "id": "a66a0117",
   "metadata": {},
   "outputs": [
    {
     "name": "stdout",
     "output_type": "stream",
     "text": [
      "<class 'str'>\n",
      "<class 'str'>\n",
      "<class 'int'>\n",
      "<class 'float'>\n",
      "<class 'complex'>\n",
      "<class 'bool'>\n",
      "<class 'list'>\n",
      "<class 'dict'>\n",
      "<class 'tuple'>\n",
      "<class 'zip'>\n"
     ]
    }
   ],
   "source": [
    "## Data Types\n",
    "\n",
    "#There are several data types in Python. To identify the data type we use the _type_ built-in function. I would like to ask you to focus on understanding different data types very well. When it comes to programming, it is all about data types. I introduced data types at the very beginning and it comes again, because every topic is related to data types. We will cover data types in more detail in their respective sections.\n",
    "\n",
    "## Checking Data types and Casting\n",
    "\n",
    "#Check Data types: To check the data type of certain data/variable we use the _type_\n",
    "#**Example:**\n",
    "\n",
    "\n",
    "# Different python data types\n",
    "# Let's declare variables with various data types\n",
    "\n",
    "first_name = 'Asabeneh'     # str\n",
    "last_name = 'Yetayeh'       # str\n",
    "country = 'Finland'         # str\n",
    "city= 'Helsinki'            # str\n",
    "age = 250                   # int, it is not my real age, don't worry about it\n",
    "\n",
    "# Printing out types\n",
    "print(type('Asabeneh'))     # str\n",
    "print(type(first_name))     # str\n",
    "print(type(10))             # int\n",
    "print(type(3.14))           # float\n",
    "print(type(1 + 1j))         # complex\n",
    "print(type(True))           # bool\n",
    "print(type([1, 2, 3, 4]))     # list\n",
    "print(type({'name':'Asabeneh','age':250, 'is_married':250}))    # dict\n",
    "print(type((1,2)))                                              # tuple\n",
    "print(type(zip([1,2],[3,4])))                                   # set\n"
   ]
  },
  {
   "cell_type": "code",
   "execution_count": 45,
   "id": "67728b86",
   "metadata": {},
   "outputs": [
    {
     "data": {
      "text/plain": [
       "set"
      ]
     },
     "execution_count": 45,
     "metadata": {},
     "output_type": "execute_result"
    }
   ],
   "source": [
    "type({3,5.5, \"py\", True})"
   ]
  },
  {
   "cell_type": "code",
   "execution_count": null,
   "id": "0109f2d5",
   "metadata": {},
   "outputs": [],
   "source": [
    "#Casting: Converting one data type to another data type. We use _int()_, _float()_, _str()_, _list_, _set_\n",
    "#When we do arithmetic operations string numbers should be first converted to int or float otherwise it will return an error. If we concatenate a number with a string, the number should be first converted to a string. We will talk about concatenation in String section.\n",
    "\n",
    "#**Example:**\n",
    "\n",
    "\n",
    "# int to float\n",
    "num_int = 10\n",
    "print('num_int',num_int)         # 10\n",
    "num_float = float(num_int)\n",
    "print('num_float:', num_float)   # 10.0\n",
    "\n",
    "# float to int\n",
    "gravity = 9.81\n",
    "print(int(gravity))             # 9\n",
    "\n",
    "# int to str\n",
    "num_int = 10\n",
    "print(num_int)                  # 10\n",
    "num_str = str(num_int)\n",
    "print(num_str)                  # '10'\n",
    "\n",
    "# str to int or float\n",
    "num_str = '10.6'\n",
    "print('num_int', int(num_str))      # 10\n",
    "print('num_float', float(num_str))  # 10.6\n",
    "\n",
    "# str to list\n",
    "first_name = 'Asabeneh'\n",
    "print(first_name)               # 'Asabeneh'\n",
    "first_name_to_list = list(first_name)\n",
    "print(first_name_to_list)            # ['A', 's', 'a', 'b', 'e', 'n', 'e', 'h']"
   ]
  },
  {
   "cell_type": "code",
   "execution_count": null,
   "id": "d62698a4",
   "metadata": {},
   "outputs": [],
   "source": [
    "## Numbers\n",
    "\n",
    "#Number data types in Python:\n",
    "\n",
    "1. Integers: Integer(negative, zero and positive) numbers\n",
    "   #Example:\n",
    "   ... -3, -2, -1, 0, 1, 2, 3 ...\n",
    "\n",
    "2. Floating Point Numbers(Decimal numbers)\n",
    "   #Example:\n",
    "   ... -3.5, -2.25, -1.0, 0.0, 1.1, 2.2, 3.5 ...\n",
    "\n",
    "3. Complex Numbers\n",
    "   #Example:\n",
    "   1 + j, 2 + 4j, 1 - 1j"
   ]
  },
  {
   "cell_type": "code",
   "execution_count": 46,
   "id": "eeb16cf7",
   "metadata": {},
   "outputs": [],
   "source": [
    "num = 56"
   ]
  },
  {
   "cell_type": "code",
   "execution_count": 47,
   "id": "47b2bc45",
   "metadata": {},
   "outputs": [
    {
     "data": {
      "text/plain": [
       "int"
      ]
     },
     "execution_count": 47,
     "metadata": {},
     "output_type": "execute_result"
    }
   ],
   "source": [
    "type(num)"
   ]
  },
  {
   "cell_type": "code",
   "execution_count": 49,
   "id": "fbe955b4",
   "metadata": {},
   "outputs": [
    {
     "data": {
      "text/plain": [
       "float"
      ]
     },
     "execution_count": 49,
     "metadata": {},
     "output_type": "execute_result"
    }
   ],
   "source": [
    "type(float(num))"
   ]
  },
  {
   "cell_type": "code",
   "execution_count": 50,
   "id": "ddebd72a",
   "metadata": {},
   "outputs": [],
   "source": [
    "dec = 30.55"
   ]
  },
  {
   "cell_type": "code",
   "execution_count": 51,
   "id": "2ca658c5",
   "metadata": {},
   "outputs": [
    {
     "data": {
      "text/plain": [
       "30"
      ]
     },
     "execution_count": 51,
     "metadata": {},
     "output_type": "execute_result"
    }
   ],
   "source": [
    "int(dec)"
   ]
  },
  {
   "cell_type": "code",
   "execution_count": 52,
   "id": "b67602ce",
   "metadata": {},
   "outputs": [],
   "source": [
    "digit = 5678"
   ]
  },
  {
   "cell_type": "code",
   "execution_count": 53,
   "id": "f8d05bb8",
   "metadata": {},
   "outputs": [
    {
     "data": {
      "text/plain": [
       "'5678'"
      ]
     },
     "execution_count": 53,
     "metadata": {},
     "output_type": "execute_result"
    }
   ],
   "source": [
    "str(digit)"
   ]
  },
  {
   "cell_type": "code",
   "execution_count": null,
   "id": "b7701ac5",
   "metadata": {},
   "outputs": [],
   "source": [
    "\"adfkhj\", \"3452345\", \"%$*^\", \"   \", \"asf345&^  \""
   ]
  },
  {
   "cell_type": "code",
   "execution_count": 54,
   "id": "613469de",
   "metadata": {},
   "outputs": [],
   "source": [
    "str1 = \"python\""
   ]
  },
  {
   "cell_type": "code",
   "execution_count": 55,
   "id": "425ec53d",
   "metadata": {},
   "outputs": [
    {
     "ename": "ValueError",
     "evalue": "invalid literal for int() with base 10: 'python'",
     "output_type": "error",
     "traceback": [
      "\u001b[1;31m---------------------------------------------------------------------------\u001b[0m",
      "\u001b[1;31mValueError\u001b[0m                                Traceback (most recent call last)",
      "Cell \u001b[1;32mIn[55], line 1\u001b[0m\n\u001b[1;32m----> 1\u001b[0m \u001b[38;5;28mint\u001b[39m(str1)\n",
      "\u001b[1;31mValueError\u001b[0m: invalid literal for int() with base 10: 'python'"
     ]
    }
   ],
   "source": [
    "int(str1)"
   ]
  },
  {
   "cell_type": "code",
   "execution_count": 56,
   "id": "596ebdf2",
   "metadata": {},
   "outputs": [],
   "source": [
    "str2 = \"2716498\""
   ]
  },
  {
   "cell_type": "code",
   "execution_count": 57,
   "id": "a6c95292",
   "metadata": {},
   "outputs": [
    {
     "data": {
      "text/plain": [
       "str"
      ]
     },
     "execution_count": 57,
     "metadata": {},
     "output_type": "execute_result"
    }
   ],
   "source": [
    "type(str2)"
   ]
  },
  {
   "cell_type": "code",
   "execution_count": 58,
   "id": "6624b2ed",
   "metadata": {},
   "outputs": [
    {
     "data": {
      "text/plain": [
       "2716498"
      ]
     },
     "execution_count": 58,
     "metadata": {},
     "output_type": "execute_result"
    }
   ],
   "source": [
    "int(str2)"
   ]
  },
  {
   "cell_type": "code",
   "execution_count": null,
   "id": "cd2e53ce",
   "metadata": {},
   "outputs": [],
   "source": []
  },
  {
   "cell_type": "code",
   "execution_count": null,
   "id": "b0069e11",
   "metadata": {},
   "outputs": [],
   "source": [
    "### Exercises: Level 1\n",
    "\n",
    "1. Inside 30DaysOfPython create a folder called day_2. Inside this folder create a file named variables.py\n",
    "2. Write a python comment saying 'Day 2: 30 Days of python programming'\n",
    "3. Declare a first name variable and assign a value to it\n",
    "4. Declare a last name variable and assign a value to it\n",
    "5. Declare a full name variable and assign a value to it\n",
    "6. Declare a country variable and assign a value to it\n",
    "7. Declare a city variable and assign a value to it\n",
    "8. Declare an age variable and assign a value to it\n",
    "9. Declare a year variable and assign a value to it\n",
    "10. Declare a variable is_married and assign a value to it\n",
    "11. Declare a variable is_true and assign a value to it\n",
    "12. Declare a variable is_light_on and assign a value to it\n",
    "13. Declare multiple variable on one line\n",
    "\n",
    "### Exercises: Level 2\n",
    "\n",
    "1. Check the data type of all your variables using type() built-in function\n",
    "1. Using the _len()_ built-in function, find the length of your first name\n",
    "1. Compare the length of your first name and your last name\n",
    "1. Declare 5 as num_one and 4 as num_two\n",
    "    1. Add num_one and num_two and assign the value to a variable total\n",
    "    2. Subtract num_two from num_one and assign the value to a variable diff\n",
    "    3. Multiply num_two and num_one and assign the value to a variable product\n",
    "    4. Divide num_one by num_two and assign the value to a variable division\n",
    "    5. Use modulus division to find num_two divided by num_one and assign the value to a variable remainder\n",
    "    6. Calculate num_one to the power of num_two and assign the value to a variable exp\n",
    "    7. Find floor division of num_one by num_two and assign the value to a variable floor_division\n",
    "1. The radius of a circle is 30 meters.\n",
    "    1. Calculate the area of a circle and assign the value to a variable name of _area_of_circle_\n",
    "    2. Calculate the circumference of a circle and assign the value to a variable name of _circum_of_circle_\n",
    "    3. Take radius as user input and calculate the area.\n",
    "1. Use the built-in input function to get first name, last name, country and age from a user and store the value to their corresponding variable names\n",
    "1. Run help('keywords') in Python shell or in your file to check for the Python reserved words or keywords\n"
   ]
  },
  {
   "cell_type": "code",
   "execution_count": null,
   "id": "a0f9e35f",
   "metadata": {},
   "outputs": [],
   "source": []
  },
  {
   "cell_type": "code",
   "execution_count": null,
   "id": "7fa948b9",
   "metadata": {},
   "outputs": [],
   "source": []
  }
 ],
 "metadata": {
  "kernelspec": {
   "display_name": "Python 3 (ipykernel)",
   "language": "python",
   "name": "python3"
  },
  "language_info": {
   "codemirror_mode": {
    "name": "ipython",
    "version": 3
   },
   "file_extension": ".py",
   "mimetype": "text/x-python",
   "name": "python",
   "nbconvert_exporter": "python",
   "pygments_lexer": "ipython3",
   "version": "3.11.5"
  }
 },
 "nbformat": 4,
 "nbformat_minor": 5
}
