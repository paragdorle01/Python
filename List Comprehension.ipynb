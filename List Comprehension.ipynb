{
 "cells": [
  {
   "cell_type": "code",
   "execution_count": 1,
   "id": "3b47a7a7-e3e1-4ccb-91cf-f830cce51735",
   "metadata": {},
   "outputs": [],
   "source": [
    "lis = [4,5,7,1,4,9,6]"
   ]
  },
  {
   "cell_type": "code",
   "execution_count": 2,
   "id": "9e398df7-d5e6-450d-a54a-6144ef4a81c6",
   "metadata": {},
   "outputs": [
    {
     "name": "stdout",
     "output_type": "stream",
     "text": [
      "4\n",
      "5\n",
      "7\n",
      "1\n",
      "4\n",
      "9\n",
      "6\n"
     ]
    }
   ],
   "source": [
    "for i in lis:\n",
    "    print(i)"
   ]
  },
  {
   "cell_type": "code",
   "execution_count": 3,
   "id": "a3fbbc27-e6d0-4432-8e23-364bb6f9a3ce",
   "metadata": {},
   "outputs": [
    {
     "data": {
      "text/plain": [
       "[4, 5, 7, 1, 4, 9, 6]"
      ]
     },
     "execution_count": 3,
     "metadata": {},
     "output_type": "execute_result"
    }
   ],
   "source": [
    "[i for i in lis]"
   ]
  },
  {
   "cell_type": "code",
   "execution_count": 4,
   "id": "239ee7a8-1bd3-4866-9927-0d461473d24d",
   "metadata": {},
   "outputs": [],
   "source": [
    "strvar = \"Data Science\""
   ]
  },
  {
   "cell_type": "code",
   "execution_count": 6,
   "id": "8cba4393-9b56-4807-87d1-20ab369d7e8d",
   "metadata": {},
   "outputs": [
    {
     "data": {
      "text/plain": [
       "['D', 'a', 't', 'a', ' ', 'S', 'c', 'i', 'e', 'n', 'c', 'e']"
      ]
     },
     "execution_count": 6,
     "metadata": {},
     "output_type": "execute_result"
    }
   ],
   "source": [
    "[i for i in strvar]"
   ]
  },
  {
   "cell_type": "code",
   "execution_count": 7,
   "id": "1b2ba281-63bc-4046-8d4b-0c7c4f327372",
   "metadata": {},
   "outputs": [
    {
     "data": {
      "text/plain": [
       "<generator object <genexpr> at 0x0000023E9A2781E0>"
      ]
     },
     "execution_count": 7,
     "metadata": {},
     "output_type": "execute_result"
    }
   ],
   "source": [
    "(i for i in strvar)"
   ]
  },
  {
   "cell_type": "code",
   "execution_count": 8,
   "id": "a695d54f-3583-4688-8ae0-0ae13ae9b951",
   "metadata": {},
   "outputs": [
    {
     "data": {
      "text/plain": [
       "[{4, int}, {5, int}, {7, int}, {1, int}, {4, int}, {9, int}, {6, int}]"
      ]
     },
     "execution_count": 8,
     "metadata": {},
     "output_type": "execute_result"
    }
   ],
   "source": [
    "[{type(i), i}for i in lis]"
   ]
  },
  {
   "cell_type": "code",
   "execution_count": 10,
   "id": "1f46a678-6aa7-47a2-9e8a-12278771c7fb",
   "metadata": {},
   "outputs": [
    {
     "name": "stdout",
     "output_type": "stream",
     "text": [
      "[1, 8, 27, 64, 125, 216]\n"
     ]
    }
   ],
   "source": [
    "numbers = [1,2,3,4,5,6]\n",
    "\n",
    "squared = [i ** 3 for i in numbers]\n",
    "print(squared)"
   ]
  },
  {
   "cell_type": "code",
   "execution_count": 11,
   "id": "9a2a2b75-3df6-4495-9fd7-2df72183ed23",
   "metadata": {},
   "outputs": [
    {
     "name": "stdout",
     "output_type": "stream",
     "text": [
      "[0, 2, 4, 6, 8, 10]\n"
     ]
    }
   ],
   "source": [
    "list = [i for i in range(11) if i%2 ==0]\n",
    "print(list)"
   ]
  },
  {
   "cell_type": "code",
   "execution_count": 12,
   "id": "e890217c-400b-461d-bc5c-c8ba9636a6f1",
   "metadata": {},
   "outputs": [
    {
     "name": "stdout",
     "output_type": "stream",
     "text": [
      "[{0, <class 'int'>}, {<class 'int'>, 2}, {<class 'int'>, 4}, {<class 'int'>, 6}, {8, <class 'int'>}, {<class 'int'>, 10}]\n"
     ]
    }
   ],
   "source": [
    "list = [{type(i),i} for i in range(11) if i%2 ==0]\n",
    "print(list)"
   ]
  },
  {
   "cell_type": "code",
   "execution_count": 13,
   "id": "7926b0f1-939a-46af-972f-9f80fe0eb8b9",
   "metadata": {},
   "outputs": [
    {
     "name": "stdout",
     "output_type": "stream",
     "text": [
      "['Even Numbers', 'Odd Number', 'Even Numbers', 'Odd Number', 'Even Numbers', 'Odd Number', 'Even Numbers', 'Odd Number']\n"
     ]
    }
   ],
   "source": [
    "lis = [\"Even Numbers\" if i%2==0 else \"Odd Number\" for i in range(8)]\n",
    "print(lis)"
   ]
  },
  {
   "cell_type": "code",
   "execution_count": 15,
   "id": "ddc80796-1434-45b5-a800-697ccf3787a4",
   "metadata": {},
   "outputs": [
    {
     "ename": "SyntaxError",
     "evalue": "invalid syntax (3010792895.py, line 2)",
     "output_type": "error",
     "traceback": [
      "\u001b[1;36m  Cell \u001b[1;32mIn[15], line 2\u001b[1;36m\u001b[0m\n\u001b[1;33m    [i while i<n in lis]\u001b[0m\n\u001b[1;37m       ^\u001b[0m\n\u001b[1;31mSyntaxError\u001b[0m\u001b[1;31m:\u001b[0m invalid syntax\n"
     ]
    }
   ],
   "source": [
    "n = 4\n",
    "[i while i<n in lis]"
   ]
  },
  {
   "cell_type": "code",
   "execution_count": 16,
   "id": "39dc6a73-30c7-4499-8026-a6112ca61d14",
   "metadata": {},
   "outputs": [
    {
     "name": "stdout",
     "output_type": "stream",
     "text": [
      "[0, 15, 30, 45, 60, 75, 90]\n"
     ]
    }
   ],
   "source": [
    "lis = [i for i in range(100) if i%5 == 0 if i % 3 == 0]\n",
    "print(lis)"
   ]
  },
  {
   "cell_type": "markdown",
   "id": "1b725ef9-4904-4bf1-9843-a750089a31db",
   "metadata": {},
   "source": [
    "#Lambda"
   ]
  },
  {
   "cell_type": "code",
   "execution_count": 18,
   "id": "a7b55d94-754f-4891-b14f-856251729e20",
   "metadata": {},
   "outputs": [
    {
     "data": {
      "text/plain": [
       "<function __main__.<lambda>(a, b)>"
      ]
     },
     "execution_count": 18,
     "metadata": {},
     "output_type": "execute_result"
    }
   ],
   "source": [
    "lambda a, b : a+b"
   ]
  },
  {
   "cell_type": "code",
   "execution_count": 19,
   "id": "108ea29d-83ae-4418-b6c2-726785b1fa71",
   "metadata": {},
   "outputs": [
    {
     "ename": "SyntaxError",
     "evalue": "invalid syntax (1856785460.py, line 1)",
     "output_type": "error",
     "traceback": [
      "\u001b[1;36m  Cell \u001b[1;32mIn[19], line 1\u001b[1;36m\u001b[0m\n\u001b[1;33m    lambda(10,20)\u001b[0m\n\u001b[1;37m          ^\u001b[0m\n\u001b[1;31mSyntaxError\u001b[0m\u001b[1;31m:\u001b[0m invalid syntax\n"
     ]
    }
   ],
   "source": [
    "lambda(10,20)"
   ]
  },
  {
   "cell_type": "code",
   "execution_count": 20,
   "id": "c7f09b53-e7d5-401e-a176-5ded9018b76d",
   "metadata": {},
   "outputs": [],
   "source": [
    "f1 = lambda a, b : a +b"
   ]
  },
  {
   "cell_type": "code",
   "execution_count": 21,
   "id": "b42e422e-791b-4e59-ac21-292fb585a9b0",
   "metadata": {},
   "outputs": [
    {
     "data": {
      "text/plain": [
       "30"
      ]
     },
     "execution_count": 21,
     "metadata": {},
     "output_type": "execute_result"
    }
   ],
   "source": [
    "f1(10,20)"
   ]
  },
  {
   "cell_type": "code",
   "execution_count": 22,
   "id": "1ccbbb22-02dd-4e86-abfd-3d506184d752",
   "metadata": {},
   "outputs": [],
   "source": [
    "str1 = \"Python is a Data Science Language\"\n",
    "\n",
    "upper = lambda string_var: string_var.upper"
   ]
  },
  {
   "cell_type": "code",
   "execution_count": 23,
   "id": "b2456521-1812-406b-8130-8b5d2cc50005",
   "metadata": {},
   "outputs": [
    {
     "data": {
      "text/plain": [
       "<function str.upper()>"
      ]
     },
     "execution_count": 23,
     "metadata": {},
     "output_type": "execute_result"
    }
   ],
   "source": [
    "upper(str1)"
   ]
  },
  {
   "cell_type": "code",
   "execution_count": 24,
   "id": "d1910103-83e0-4a34-844e-1f3ec86faebc",
   "metadata": {},
   "outputs": [],
   "source": [
    "power = lambda a, b: a**b"
   ]
  },
  {
   "cell_type": "code",
   "execution_count": 25,
   "id": "a8f67b92-5047-4f92-a935-b77cf466c377",
   "metadata": {},
   "outputs": [
    {
     "data": {
      "text/plain": [
       "25"
      ]
     },
     "execution_count": 25,
     "metadata": {},
     "output_type": "execute_result"
    }
   ],
   "source": [
    "power(5,2)"
   ]
  },
  {
   "cell_type": "code",
   "execution_count": 26,
   "id": "3a93ac96-cfc1-4a52-b474-3fc74ad91e20",
   "metadata": {},
   "outputs": [],
   "source": [
    "area = lambda x,y : print(x*y, \"area of square\")"
   ]
  },
  {
   "cell_type": "code",
   "execution_count": 27,
   "id": "be4ffcf0-a0f0-452b-929e-4a54c8301d22",
   "metadata": {},
   "outputs": [
    {
     "name": "stdout",
     "output_type": "stream",
     "text": [
      "1500 area of square\n"
     ]
    }
   ],
   "source": [
    "area(30,50)"
   ]
  },
  {
   "cell_type": "code",
   "execution_count": 28,
   "id": "c7cc79b0-1704-4067-bb47-12a4a59a36ef",
   "metadata": {},
   "outputs": [],
   "source": [
    "loop = lambda list1 : [i for i in list1]"
   ]
  },
  {
   "cell_type": "code",
   "execution_count": 29,
   "id": "d2087d99-85b4-4b5a-9322-f5929454a9c3",
   "metadata": {},
   "outputs": [
    {
     "data": {
      "text/plain": [
       "[12, 3, 4, 5, 6]"
      ]
     },
     "execution_count": 29,
     "metadata": {},
     "output_type": "execute_result"
    }
   ],
   "source": [
    "loop([12,3,4,5,6])"
   ]
  },
  {
   "cell_type": "code",
   "execution_count": 31,
   "id": "469e86a2-d64d-4f3e-824c-d1c31e191fae",
   "metadata": {},
   "outputs": [],
   "source": [
    "is_even_list = [lambda arg = x: arg * 10 for x in range(1,5)]"
   ]
  },
  {
   "cell_type": "code",
   "execution_count": 32,
   "id": "fa229c6d-a716-47ac-9c0a-9a392e66ba53",
   "metadata": {},
   "outputs": [
    {
     "data": {
      "text/plain": [
       "[<function __main__.<listcomp>.<lambda>(arg=1)>,\n",
       " <function __main__.<listcomp>.<lambda>(arg=2)>,\n",
       " <function __main__.<listcomp>.<lambda>(arg=3)>,\n",
       " <function __main__.<listcomp>.<lambda>(arg=4)>]"
      ]
     },
     "execution_count": 32,
     "metadata": {},
     "output_type": "execute_result"
    }
   ],
   "source": [
    "is_even_list"
   ]
  },
  {
   "cell_type": "code",
   "execution_count": 33,
   "id": "1f05fed9-51eb-472c-b83d-31919737f76b",
   "metadata": {},
   "outputs": [],
   "source": [
    "list = [[2,3,4],[1,4,16,64],[3,6,9,12]]\n",
    "sortlist = lambda x: [type(i) for i in x]"
   ]
  },
  {
   "cell_type": "code",
   "execution_count": 34,
   "id": "8d05a71b-8838-4305-8bbd-e3708cbd1dee",
   "metadata": {},
   "outputs": [
    {
     "data": {
      "text/plain": [
       "[list, list, list]"
      ]
     },
     "execution_count": 34,
     "metadata": {},
     "output_type": "execute_result"
    }
   ],
   "source": [
    "sortlist(list)"
   ]
  },
  {
   "cell_type": "code",
   "execution_count": 35,
   "id": "48efa197-e7eb-4f5c-9da6-71596516b954",
   "metadata": {},
   "outputs": [],
   "source": [
    "perc = lambda a, b: (a*b)/100"
   ]
  },
  {
   "cell_type": "code",
   "execution_count": 36,
   "id": "8e7b7aed-4b3d-48f7-b928-09da012a7ce0",
   "metadata": {},
   "outputs": [
    {
     "data": {
      "text/plain": [
       "9862.71"
      ]
     },
     "execution_count": 36,
     "metadata": {},
     "output_type": "execute_result"
    }
   ],
   "source": [
    "perc(29887, 33)"
   ]
  },
  {
   "cell_type": "code",
   "execution_count": 2,
   "id": "08d5ef9b-6168-4ce6-8478-48757957dda1",
   "metadata": {},
   "outputs": [],
   "source": [
    "def sum_numbers(nums):\n",
    "    return sum(nums)"
   ]
  },
  {
   "cell_type": "code",
   "execution_count": 3,
   "id": "388ae3ea-e6b3-4d54-8d10-785c90f8d0a0",
   "metadata": {},
   "outputs": [
    {
     "name": "stdout",
     "output_type": "stream",
     "text": [
      "15\n"
     ]
    }
   ],
   "source": [
    "def higher_order_function(f, lst):\n",
    "\n",
    "    summation = f(lst)\n",
    "    return summation\n",
    "\n",
    "result = higher_order_function(sum_numbers, [1,2,3,4,5])\n",
    "print(result)"
   ]
  },
  {
   "cell_type": "code",
   "execution_count": 4,
   "id": "8a1b5e3a-3ba7-4ec6-b3d2-60e52ef96b81",
   "metadata": {},
   "outputs": [],
   "source": [
    "def square(x):\n",
    "    return x**2\n",
    "\n",
    "def cube(x):\n",
    "    return x**3\n",
    "\n",
    "def absolute(x):\n",
    "    if x >= 0:\n",
    "        return x\n",
    "    else:\n",
    "        return -(x)\n",
    "\n",
    "def higher_order_function(type):\n",
    "\n",
    "    if type ==\"square\":\n",
    "        return square\n",
    "    elif type == \"cube\":\n",
    "        return cube\n",
    "    elif type == \"absolute\":\n",
    "        return absolute"
   ]
  },
  {
   "cell_type": "code",
   "execution_count": 5,
   "id": "b961df6d-d48e-4c6c-9447-9f3a503154e8",
   "metadata": {},
   "outputs": [
    {
     "name": "stdout",
     "output_type": "stream",
     "text": [
      "9\n",
      "27\n",
      "3\n"
     ]
    }
   ],
   "source": [
    "result = higher_order_function(\"square\")\n",
    "print(result(3))\n",
    "result = higher_order_function(\"cube\")\n",
    "print(result(3))\n",
    "result = higher_order_function(\"absolute\")\n",
    "print(result(-3))"
   ]
  },
  {
   "cell_type": "code",
   "execution_count": 7,
   "id": "3851ac55-4dcd-40ba-80e8-964f5b5cbc1b",
   "metadata": {},
   "outputs": [],
   "source": [
    "def add_ten():\n",
    "    ten = 10\n",
    "    def add(num):\n",
    "        return num + ten\n",
    "    return add"
   ]
  },
  {
   "cell_type": "code",
   "execution_count": 8,
   "id": "d499ac29-e870-4044-9c64-46151ee59cdc",
   "metadata": {},
   "outputs": [
    {
     "data": {
      "text/plain": [
       "<function __main__.add_ten.<locals>.add(num)>"
      ]
     },
     "execution_count": 8,
     "metadata": {},
     "output_type": "execute_result"
    }
   ],
   "source": [
    "closure_result = add_ten()\n",
    "closure_result"
   ]
  },
  {
   "cell_type": "code",
   "execution_count": 9,
   "id": "c09ff5ea-b65d-46d7-82c0-ab569de9c73b",
   "metadata": {},
   "outputs": [
    {
     "name": "stdout",
     "output_type": "stream",
     "text": [
      "15\n"
     ]
    }
   ],
   "source": [
    "print(closure_result(5))"
   ]
  },
  {
   "cell_type": "code",
   "execution_count": 10,
   "id": "94e55e86-4347-483d-83ea-9a72c2dbdfde",
   "metadata": {},
   "outputs": [
    {
     "name": "stdout",
     "output_type": "stream",
     "text": [
      "20\n"
     ]
    }
   ],
   "source": [
    "print(closure_result(10))"
   ]
  },
  {
   "cell_type": "code",
   "execution_count": 11,
   "id": "ed6776e5-5722-479f-ad5c-30cbddf1cd2b",
   "metadata": {},
   "outputs": [],
   "source": [
    "f11 = add_ten()"
   ]
  },
  {
   "cell_type": "code",
   "execution_count": 12,
   "id": "92137591-06b0-451b-adc6-8f63d2c4a2e3",
   "metadata": {},
   "outputs": [
    {
     "data": {
      "text/plain": [
       "30"
      ]
     },
     "execution_count": 12,
     "metadata": {},
     "output_type": "execute_result"
    }
   ],
   "source": [
    "f11(20) "
   ]
  },
  {
   "cell_type": "code",
   "execution_count": 13,
   "id": "1aabb725-5d7d-4b09-8bfd-e650d4e8e5a8",
   "metadata": {},
   "outputs": [],
   "source": [
    "def greeting():\n",
    "    return \"Welcome to Python\"\n",
    "\n",
    "def uppercase_decorator(function):\n",
    "    def wrapper():\n",
    "        func = function()\n",
    "        make_uppercase = func.upper()\n",
    "        return make_uppercase\n",
    "    return wrapper"
   ]
  },
  {
   "cell_type": "code",
   "execution_count": 16,
   "id": "c8718663-aa2e-4e89-b674-200edd0f607b",
   "metadata": {},
   "outputs": [
    {
     "name": "stdout",
     "output_type": "stream",
     "text": [
      "WELCOME TO PYTHON\n"
     ]
    }
   ],
   "source": [
    "g = uppercase_decorator(greeting)\n",
    "print(g())"
   ]
  },
  {
   "cell_type": "code",
   "execution_count": 3,
   "id": "30970487-2899-4c50-885e-f0a7e6247395",
   "metadata": {},
   "outputs": [
    {
     "name": "stdout",
     "output_type": "stream",
     "text": [
      "WELCOME TO PYTHON\n"
     ]
    }
   ],
   "source": [
    "def uppercase_decorator(function):\n",
    "    def wrapper():\n",
    "        func = function()\n",
    "        make_uppercase = func.upper()\n",
    "        return make_uppercase\n",
    "    return wrapper\n",
    "@uppercase_decorator\n",
    "def greeting():\n",
    "    return \"Welcome to Python\"\n",
    "print(greeting())"
   ]
  },
  {
   "cell_type": "code",
   "execution_count": null,
   "id": "523f9765-1332-4aa4-a8dc-749db974cb55",
   "metadata": {},
   "outputs": [],
   "source": []
  }
 ],
 "metadata": {
  "kernelspec": {
   "display_name": "Python 3 (ipykernel)",
   "language": "python",
   "name": "python3"
  },
  "language_info": {
   "codemirror_mode": {
    "name": "ipython",
    "version": 3
   },
   "file_extension": ".py",
   "mimetype": "text/x-python",
   "name": "python",
   "nbconvert_exporter": "python",
   "pygments_lexer": "ipython3",
   "version": "3.11.7"
  }
 },
 "nbformat": 4,
 "nbformat_minor": 5
}
