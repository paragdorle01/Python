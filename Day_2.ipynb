{
 "cells": [
  {
   "cell_type": "code",
   "execution_count": 2,
   "id": "48cbe625-1ed1-497e-8165-bb55771405f8",
   "metadata": {},
   "outputs": [
    {
     "name": "stdout",
     "output_type": "stream",
     "text": [
      "25\n"
     ]
    }
   ],
   "source": [
    "# 1. Declare your age as integer variable\n",
    "\n",
    "age = int(25)\n",
    "print(age)"
   ]
  },
  {
   "cell_type": "code",
   "execution_count": 5,
   "id": "feaabcd4-02de-45dc-99e7-3781853aaaf3",
   "metadata": {},
   "outputs": [
    {
     "name": "stdout",
     "output_type": "stream",
     "text": [
      "5.11\n"
     ]
    }
   ],
   "source": [
    "# 2. Declare your height as a float variable\n",
    "\n",
    "height = float(5.11)\n",
    "print(height)"
   ]
  },
  {
   "cell_type": "code",
   "execution_count": 8,
   "id": "90408e16-423b-4dd2-a407-22e830973a7d",
   "metadata": {},
   "outputs": [
    {
     "name": "stdout",
     "output_type": "stream",
     "text": [
      "(1+4j)\n"
     ]
    }
   ],
   "source": [
    "#3. Declare a variable that store a complex number\n",
    "\n",
    "com = complex(1+4j)\n",
    "print(com)"
   ]
  },
  {
   "cell_type": "code",
   "execution_count": 11,
   "id": "4ffb7acd-b6f0-42d5-a068-eadd00fbf353",
   "metadata": {},
   "outputs": [
    {
     "name": "stdout",
     "output_type": "stream",
     "text": [
      "The area of the triangle is :  100.0\n"
     ]
    }
   ],
   "source": [
    "# 4. Write a script that prompts the user to enter base and height of the triangle and calculate an area of this triangle (area = 0.5 x b x h).\n",
    "\n",
    "base = 20\n",
    "height = 10\n",
    "area = 0.5*base*height\n",
    "print(\"The area of the triangle is : \", area)"
   ]
  },
  {
   "cell_type": "code",
   "execution_count": 3,
   "id": "d44e925b-e05b-461b-828b-3ea9ce6964bf",
   "metadata": {},
   "outputs": [
    {
     "name": "stdin",
     "output_type": "stream",
     "text": [
      "Enter side a :  5\n",
      "Enter side b :  4\n",
      "Enter side c :  3\n"
     ]
    },
    {
     "name": "stdout",
     "output_type": "stream",
     "text": [
      "12\n"
     ]
    }
   ],
   "source": [
    "# 5. Write a script that prompts the user to enter side a, side b, and side c of the triangle. Calculate the perimeter of the triangle (perimeter = a + b + c).\n",
    "\n",
    "a = int(input(\"Enter side a : \"))\n",
    "b = int(input(\"Enter side b : \"))\n",
    "c = int(input(\"Enter side c : \"))\n",
    "perimeter = a+b+c\n",
    "print(perimeter)"
   ]
  },
  {
   "cell_type": "code",
   "execution_count": 5,
   "id": "6126d643-4e6f-436d-9278-e7419b4b5f5f",
   "metadata": {},
   "outputs": [
    {
     "name": "stdin",
     "output_type": "stream",
     "text": [
      "Enter the Length 12\n",
      "Enter the Width 15\n"
     ]
    },
    {
     "name": "stdout",
     "output_type": "stream",
     "text": [
      "Area of Rectangle is :  180\n",
      "Perimeter of Rectangle is :  54\n"
     ]
    }
   ],
   "source": [
    "# 6. Get length and width of a rectangle using prompt. Calculate its area (area = length x width) and perimeter (perimeter = 2 x (length + width))\n",
    "\n",
    "length = int(input(\"Enter the Length\"))\n",
    "width = int(input(\"Enter the Width\"))\n",
    "area = length*width\n",
    "perimeter = 2*(length+width)\n",
    "\n",
    "print(\"Area of Rectangle is : \", area)\n",
    "print(\"Perimeter of Rectangle is : \", perimeter)"
   ]
  },
  {
   "cell_type": "code",
   "execution_count": 7,
   "id": "b7837e38-6087-4d82-a1be-cbb0f3969c32",
   "metadata": {},
   "outputs": [
    {
     "name": "stdin",
     "output_type": "stream",
     "text": [
      "Enter the radius of circle 12\n"
     ]
    },
    {
     "name": "stdout",
     "output_type": "stream",
     "text": [
      "Area of the circle is :  452.15999999999997\n",
      "Circumference of the Circle 75.36\n"
     ]
    }
   ],
   "source": [
    "# 7. Get radius of a circle using prompt. Calculate the area (area = pi x r x r) and circumference (c = 2 x pi x r) where pi = 3.14.\n",
    "\n",
    "radius = int(input(\"Enter the radius of circle\"))\n",
    "pi = 3.14\n",
    "area = pi*radius*radius\n",
    "circum = 2*pi*radius\n",
    "print(\"Area of the circle is : \", area)\n",
    "print(\"Circumference of the Circle\", circum)"
   ]
  },
  {
   "cell_type": "code",
   "execution_count": 14,
   "id": "ba84e71c-17f5-4406-aad2-a4ca77861829",
   "metadata": {},
   "outputs": [
    {
     "name": "stdout",
     "output_type": "stream",
     "text": [
      "Slope (m): 2\n",
      "Y-intercept (b): -2\n",
      "X-intercept does not exist (for non-zero y-intercept)\n"
     ]
    }
   ],
   "source": [
    "# 8. Calculate the slope, x-intercept and y-intercept of y = 2x -2\n",
    "\n",
    "equation = \"y = 2x - 2\"\n",
    "\n",
    "slope = 2\n",
    "\n",
    "y_intercept = -2\n",
    "\n",
    "print(f\"Slope (m): {slope}\")\n",
    "print(f\"Y-intercept (b): {y_intercept}\")\n",
    "\n",
    "print(\"X-intercept does not exist (for non-zero y-intercept)\")"
   ]
  },
  {
   "cell_type": "code",
   "execution_count": 9,
   "id": "35c6f8f9-84e1-4c5a-8d3d-0472ad92b2d3",
   "metadata": {},
   "outputs": [],
   "source": [
    "# 9. Slope is (m = y2-y1/x2-x1). Find the slope and [Euclidean distance]"
   ]
  },
  {
   "cell_type": "code",
   "execution_count": 15,
   "id": "be5053bb-d4c0-4d88-a98c-797029e8e9ee",
   "metadata": {},
   "outputs": [
    {
     "name": "stdout",
     "output_type": "stream",
     "text": [
      "Task 8 slope (m): 2\n",
      "Task 9 slope (m): Formula for any two points\n",
      "\n",
      "Note:\n",
      "The slopes cannot be directly compared in this case.\n",
      "Task 8 represents a specific equation (y = 2x - 2) with a constant slope of 2.\n",
      "Task 9 defines the general slope formula, which depends on the specific coordinates of two points.\n"
     ]
    }
   ],
   "source": [
    "# 10. Compare the slopes in tasks 8 and 9.\n",
    "\n",
    "slope_8 = 2\n",
    "\n",
    "print(\"Task 8 slope (m):\", slope_8)\n",
    "print(\"Task 9 slope (m): Formula for any two points\")\n",
    "\n",
    "print(\"\\nNote:\")\n",
    "print(\"The slopes cannot be directly compared in this case.\")\n",
    "print(\"Task 8 represents a specific equation (y = 2x - 2) with a constant slope of 2.\")\n",
    "print(\"Task 9 defines the general slope formula, which depends on the specific coordinates of two points.\")"
   ]
  },
  {
   "cell_type": "code",
   "execution_count": 11,
   "id": "94f85908-1f49-4a8e-96fe-185cd8d70875",
   "metadata": {},
   "outputs": [],
   "source": [
    "# 11. Calculate the value of y (y = x^2 + 6x + 9). Try to use different x values and figure out at what x value y is going to be 0"
   ]
  },
  {
   "cell_type": "code",
   "execution_count": 27,
   "id": "0b9d4961-ec89-41e4-9c76-30e7dfb8b046",
   "metadata": {},
   "outputs": [
    {
     "name": "stdout",
     "output_type": "stream",
     "text": [
      "False\n"
     ]
    }
   ],
   "source": [
    "# 12. Find the length of 'python' and 'dragon' and make a falsy comparison statement.\n",
    "\n",
    "a = len(\"python\")\n",
    "b = len(\"dragon\")\n",
    "c = a != b\n",
    "print(c)"
   ]
  },
  {
   "cell_type": "code",
   "execution_count": 28,
   "id": "0404bc97-3f31-40d5-a050-a5c7eacb7ec6",
   "metadata": {},
   "outputs": [
    {
     "name": "stdout",
     "output_type": "stream",
     "text": [
      "True\n"
     ]
    }
   ],
   "source": [
    "# 13. Use _and_ operator to check if 'on' is found in both 'python' and 'dragon'\n",
    "\n",
    "word1 = \"python\"\n",
    "word2 = \"dragon\"\n",
    "\n",
    "sub_string = \"on\"\n",
    "sub_string = \"on\" in word1 and \"on\" in word2\n",
    "print(sub_string)"
   ]
  },
  {
   "cell_type": "code",
   "execution_count": 13,
   "id": "d9166fc2-74bc-44f9-8d99-e3e3e5fbc9d6",
   "metadata": {},
   "outputs": [
    {
     "name": "stdout",
     "output_type": "stream",
     "text": [
      "The substring 'jargon' is found in the sentence\n"
     ]
    }
   ],
   "source": [
    "# 14. _I hope this course is not full of jargon_. Use _in_ operator to check if _jargon_ is in the sentence.\n",
    "\n",
    "sentence = \"I hope this course is not full of jargon\"\n",
    "sub_string = \"jargon\"\n",
    "\n",
    "if sub_string in sentence:\n",
    "  print(f\"The substring '{sub_string}' is found in the sentence\")\n",
    "else:\n",
    "  print(f\"The substring '{sub_string}' is not found in the sentence\")"
   ]
  },
  {
   "cell_type": "code",
   "execution_count": 12,
   "id": "91030ac0-2c60-4639-b7e5-34c1acc013ef",
   "metadata": {},
   "outputs": [
    {
     "name": "stdout",
     "output_type": "stream",
     "text": [
      "Both words contain the substring 'on'\n"
     ]
    }
   ],
   "source": [
    "# 15. There is no 'on' in both dragon and python\n",
    "\n",
    "word1 = \"dragon\"\n",
    "word2 = \"python\"\n",
    "\n",
    "if \"on\" in word1 and \"on\" in word2:\n",
    "  print(\"Both words contain the substring 'on'\")\n",
    "else:\n",
    "  print(\"Not both words contain the substring 'on'\")"
   ]
  },
  {
   "cell_type": "code",
   "execution_count": 34,
   "id": "29c24839-ed46-4a7b-b7fd-a619bf61ad97",
   "metadata": {},
   "outputs": [
    {
     "name": "stdout",
     "output_type": "stream",
     "text": [
      "Original text: python\n",
      "Length of the text: 6\n",
      "Length as float: 6.0\n",
      "Length as string: 6.0\n"
     ]
    }
   ],
   "source": [
    "# 16. Find the length of the text _python_ and convert the value to float and convert it to string\n",
    "\n",
    "text = \"python\"\n",
    "text_length = len(text)\n",
    "\n",
    "text_length_float = float(text_length)\n",
    "\n",
    "text_length_str = str(text_length_float)\n",
    "\n",
    "print(\"Original text:\", text)\n",
    "print(\"Length of the text:\", text_length)\n",
    "print(\"Length as float:\", text_length_float)\n",
    "print(\"Length as string:\", text_length_str)"
   ]
  },
  {
   "cell_type": "code",
   "execution_count": 9,
   "id": "9f131cf3-03c1-439b-b081-279ac47babd4",
   "metadata": {},
   "outputs": [
    {
     "name": "stdin",
     "output_type": "stream",
     "text": [
      "Enter a number:  5\n"
     ]
    },
    {
     "name": "stdout",
     "output_type": "stream",
     "text": [
      "5 is odd\n"
     ]
    }
   ],
   "source": [
    "# 17. Even numbers are divisible by 2 and the remainder is zero. How do you check if a number is even or not using python?\n",
    "\n",
    "number = int(input(\"Enter a number: \"))\n",
    "\n",
    "if number % 2 == 0:\n",
    "  print(f\"{number} is even\")\n",
    "else:\n",
    "  print(f\"{number} is odd\")"
   ]
  },
  {
   "cell_type": "code",
   "execution_count": 10,
   "id": "30557424-3f9c-4aea-9550-a08800afb3af",
   "metadata": {},
   "outputs": [
    {
     "name": "stdout",
     "output_type": "stream",
     "text": [
      "True\n"
     ]
    }
   ],
   "source": [
    "# 18. Check if the floor division of 7 by 3 is equal to the int converted value of 2.7.\n",
    "\n",
    "condition = (7 // 3) == int(2.7)\n",
    "\n",
    "print(condition)"
   ]
  },
  {
   "cell_type": "code",
   "execution_count": 11,
   "id": "538ce637-63cc-4355-bf31-1a23c544eefa",
   "metadata": {},
   "outputs": [
    {
     "name": "stdout",
     "output_type": "stream",
     "text": [
      "The types are different.\n"
     ]
    }
   ],
   "source": [
    "# 19. Check if type of '10' is equal to type of 10\n",
    "\n",
    "number_str = '10'\n",
    "number_int = 10\n",
    "\n",
    "if type(number_str) == type(number_int):\n",
    "  print(\"The types are equal.\")\n",
    "else:\n",
    "  print(\"The types are different.\")"
   ]
  },
  {
   "cell_type": "code",
   "execution_count": 5,
   "id": "2c4ee5c8-e2a8-44dc-b92c-b167c6548ad6",
   "metadata": {},
   "outputs": [
    {
     "name": "stdout",
     "output_type": "stream",
     "text": [
      "False\n"
     ]
    }
   ],
   "source": [
    "# 20. Check if int('9.8') is equal to 10\n",
    "\n",
    "a = 9.8\n",
    "b = 10\n",
    "c = a == b\n",
    "print(c)"
   ]
  },
  {
   "cell_type": "code",
   "execution_count": 3,
   "id": "4c50e0ac-cb82-41e8-9976-47d3524872c7",
   "metadata": {},
   "outputs": [
    {
     "name": "stdout",
     "output_type": "stream",
     "text": [
      "Your weekly earning is:  1120\n"
     ]
    }
   ],
   "source": [
    "# 21. Writ a script that prompts the user to enter hours and rate per hour. Calculate pay of the person?\n",
    "\n",
    "\"\"\"py\n",
    "Enter hours: 40\n",
    "Enter rate per hour: 28\n",
    "Your weekly earning is 1120\n",
    "\"\"\"\n",
    "\n",
    "hours = 40\n",
    "rate = 28\n",
    "\n",
    "weekly_earning = hours*rate\n",
    "print(\"Your weekly earning is: \",weekly_earning)"
   ]
  },
  {
   "cell_type": "code",
   "execution_count": 4,
   "id": "e963f8cc-1b0d-4de2-a9c1-f373b7f7ca32",
   "metadata": {},
   "outputs": [
    {
     "name": "stdin",
     "output_type": "stream",
     "text": [
      "Enter number of years you have lived:  65\n"
     ]
    },
    {
     "name": "stdout",
     "output_type": "stream",
     "text": [
      "You have lived for 2049840000 seconds\n"
     ]
    }
   ],
   "source": [
    "# 22. Write a script that prompts the user to enter number of years. Calculate the number of seconds a person can live. Assume a person can live hundred years\n",
    "\n",
    "\"\"\" Enter number of years you have lived: 100\n",
    "You have lived for 3153600000 seconds.\"\"\"\n",
    "\n",
    "years = int(input(\"Enter number of years you have lived: \"))\n",
    "\n",
    "if years > 100:\n",
    "    years = 100\n",
    "    print(\"Assuming a maximum lifespan of 100 years.\")\n",
    "\n",
    "seconds_per_year = 365 * 24 * 60 * 60\n",
    "\n",
    "total_seconds = years * seconds_per_year\n",
    "\n",
    "print(f\"You have lived for {total_seconds} seconds\")"
   ]
  },
  {
   "cell_type": "code",
   "execution_count": 8,
   "id": "1f741dfd-a64c-4ec7-b96c-c6b75e8407e6",
   "metadata": {},
   "outputs": [
    {
     "name": "stdout",
     "output_type": "stream",
     "text": [
      "1 1 1 1 1 \n",
      "2 4 8 16 32 \n",
      "3 9 27 81 243 \n",
      "4 16 64 256 1024 \n",
      "5 25 125 625 3125 \n"
     ]
    }
   ],
   "source": [
    "# 23. Write a Python script that displays the following table\n",
    "\"\"\"\n",
    "1 1 1 1 1\n",
    "2 1 2 4 8\n",
    "3 1 3 9 27\n",
    "4 1 4 16 64\n",
    "5 1 5 25 125\n",
    "\"\"\"\n",
    "rows = 5\n",
    "\n",
    "for i in range(1, rows + 1):\n",
    "  print(i, end=\" \")\n",
    "\n",
    "  for j in range(1, 5):\n",
    "    power = i ** (j + 1)\n",
    "    print(power, end=\" \")\n",
    "  print() "
   ]
  },
  {
   "cell_type": "code",
   "execution_count": null,
   "id": "8f9e3aeb-01e5-498b-a275-72b8c0762863",
   "metadata": {},
   "outputs": [],
   "source": []
  }
 ],
 "metadata": {
  "kernelspec": {
   "display_name": "Python 3 (ipykernel)",
   "language": "python",
   "name": "python3"
  },
  "language_info": {
   "codemirror_mode": {
    "name": "ipython",
    "version": 3
   },
   "file_extension": ".py",
   "mimetype": "text/x-python",
   "name": "python",
   "nbconvert_exporter": "python",
   "pygments_lexer": "ipython3",
   "version": "3.11.7"
  }
 },
 "nbformat": 4,
 "nbformat_minor": 5
}
