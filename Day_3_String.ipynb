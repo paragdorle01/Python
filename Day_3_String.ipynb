{
 "cells": [
  {
   "cell_type": "code",
   "execution_count": 4,
   "id": "8e1dec22-ff63-4e8c-a208-a617e07ec123",
   "metadata": {},
   "outputs": [
    {
     "name": "stdout",
     "output_type": "stream",
     "text": [
      "Thirty Days Of Python\n"
     ]
    }
   ],
   "source": [
    "# Concatenate the string 'Thirty', 'Days', 'Of', 'Python' to a single string, 'Thirty Days Of Python'.\n",
    "\n",
    "concat = \"Thirty\" + \" Days\" + \" Of\" + \" Python\"\n",
    "print(concat)"
   ]
  },
  {
   "cell_type": "code",
   "execution_count": 7,
   "id": "a4f1ba14-66e3-4999-8735-f8fd4021d3d4",
   "metadata": {},
   "outputs": [
    {
     "name": "stdout",
     "output_type": "stream",
     "text": [
      "Coding For All\n"
     ]
    }
   ],
   "source": [
    "# Concatenate the string 'Coding', 'For' , 'All' to a single string, 'Coding For All'.\n",
    "\n",
    "concat1 = \"Coding\" + \" For\" + \" All\"\n",
    "print(concat1)"
   ]
  },
  {
   "cell_type": "code",
   "execution_count": 9,
   "id": "82c77df7-cc1c-4828-9c65-4b757c5be774",
   "metadata": {},
   "outputs": [
    {
     "name": "stdout",
     "output_type": "stream",
     "text": [
      "Coding For All\n"
     ]
    }
   ],
   "source": [
    "# Declare a variable named company and assign it to an initial value \"Coding For All\".\n",
    "\n",
    "company = \"Coding For All\"\n",
    "print(company)"
   ]
  },
  {
   "cell_type": "code",
   "execution_count": 11,
   "id": "ab236875-b0c5-40b3-a566-a98802252a9c",
   "metadata": {},
   "outputs": [
    {
     "name": "stdout",
     "output_type": "stream",
     "text": [
      "Company is a Variable\n"
     ]
    }
   ],
   "source": [
    "# Print the variable company using _print()_.\n",
    "\n",
    "company = \"Company is a Variable\"\n",
    "print(company)"
   ]
  },
  {
   "cell_type": "code",
   "execution_count": 14,
   "id": "f78d2181-2055-4d64-9130-4acad8acf962",
   "metadata": {},
   "outputs": [
    {
     "ename": "TypeError",
     "evalue": "object of type 'int' has no len()",
     "output_type": "error",
     "traceback": [
      "\u001b[1;31m---------------------------------------------------------------------------\u001b[0m",
      "\u001b[1;31mTypeError\u001b[0m                                 Traceback (most recent call last)",
      "Cell \u001b[1;32mIn[14], line 3\u001b[0m\n\u001b[0;32m      1\u001b[0m \u001b[38;5;66;03m# Print the length of the company string using _len()_ method and _print()_.\u001b[39;00m\n\u001b[1;32m----> 3\u001b[0m company \u001b[38;5;241m=\u001b[39m \u001b[38;5;28mlen\u001b[39m(company)\n\u001b[0;32m      4\u001b[0m \u001b[38;5;28mprint\u001b[39m(company)\n",
      "\u001b[1;31mTypeError\u001b[0m: object of type 'int' has no len()"
     ]
    }
   ],
   "source": [
    "# Print the length of the company string using _len()_ method and _print()_.\n",
    "\n",
    "company = len(company)\n",
    "print(company)"
   ]
  },
  {
   "cell_type": "code",
   "execution_count": 18,
   "id": "15836b27-9f64-4b23-bab7-2f3a4039bc44",
   "metadata": {},
   "outputs": [
    {
     "name": "stdout",
     "output_type": "stream",
     "text": [
      "THIRTY DAYS OF PYTHON\n"
     ]
    }
   ],
   "source": [
    "# Change all the characters to uppercase letters using _upper()_ method.\n",
    "\n",
    "company = \"Thirty\" + \" Days\" + \" Of\" + \" Python\"\n",
    "print(company.upper())"
   ]
  },
  {
   "cell_type": "code",
   "execution_count": 20,
   "id": "5b4c9efe-be0d-4429-aa6d-64d87c73cce8",
   "metadata": {},
   "outputs": [
    {
     "name": "stdout",
     "output_type": "stream",
     "text": [
      "thirty days of python\n"
     ]
    }
   ],
   "source": [
    "# Change all the characters to lowercase letters using _lower()_ method.\n",
    "\n",
    "company = \"Thirty\" + \" Days\" + \" Of\" + \" Python\"\n",
    "print(company.lower())"
   ]
  },
  {
   "cell_type": "code",
   "execution_count": 24,
   "id": "04bd959e-e706-4b1f-86ed-174f5991965f",
   "metadata": {},
   "outputs": [
    {
     "name": "stdout",
     "output_type": "stream",
     "text": [
      "Coding for all\n",
      "Coding For All\n",
      "CODING FOR ALL\n"
     ]
    }
   ],
   "source": [
    "# Use capitalize(), title(), swapcase() methods to format the value of the string _Coding For All_.\n",
    "\n",
    "company = \"coding for all\"\n",
    "print(company.capitalize())\n",
    "print(company.title())\n",
    "print(company.swapcase())"
   ]
  },
  {
   "cell_type": "code",
   "execution_count": 26,
   "id": "d3c94059-bcb6-4cfe-8abc-45ef6247dc7e",
   "metadata": {},
   "outputs": [
    {
     "name": "stdout",
     "output_type": "stream",
     "text": [
      "oding For All\n"
     ]
    }
   ],
   "source": [
    "# Cut(slice) out the first word of _Coding For All_ string.\n",
    "\n",
    "text = \"Coding For All\"\n",
    "sliced_text = text[1:]\n",
    "print(sliced_text)"
   ]
  },
  {
   "cell_type": "code",
   "execution_count": 28,
   "id": "8e455247-5301-47c7-aea8-fa35dd5423a8",
   "metadata": {},
   "outputs": [
    {
     "name": "stdout",
     "output_type": "stream",
     "text": [
      "Yes, the text contains 'Coding'\n"
     ]
    }
   ],
   "source": [
    "# Check if _Coding For All_ string contains a word Coding using the method index, find or other methods.\n",
    "\n",
    "text = \"_Coding For All_\"\n",
    "\n",
    "if \"Coding\" in text:\n",
    "  print(\"Yes, the text contains 'Coding'\")\n",
    "    \n",
    "else:\n",
    "  print(\"No, the text does not contain 'Coding'\")"
   ]
  },
  {
   "cell_type": "code",
   "execution_count": 30,
   "id": "2f582365-3091-4939-8961-2bc4f55b6da2",
   "metadata": {},
   "outputs": [
    {
     "name": "stdout",
     "output_type": "stream",
     "text": [
      "Python For All\n"
     ]
    }
   ],
   "source": [
    "# 11. Replace the word coding in the string 'Coding For All' to Python.\n",
    "\n",
    "text = \"Coding For All\"\n",
    "new_text = text.replace(\"Coding\", \"Python\")\n",
    "print(new_text)"
   ]
  },
  {
   "cell_type": "code",
   "execution_count": 32,
   "id": "35d4fa22-bac7-4cd7-ad9f-d9e3274fa31e",
   "metadata": {},
   "outputs": [
    {
     "name": "stdout",
     "output_type": "stream",
     "text": [
      "Python for All\n"
     ]
    }
   ],
   "source": [
    "# Change Python for Everyone to Python for All using the replace method or other methods.\n",
    "\n",
    "text = \"Python for Everyone\"\n",
    "new_text = text.replace(\"Everyone\", \"All\")\n",
    "print(new_text)"
   ]
  },
  {
   "cell_type": "code",
   "execution_count": 34,
   "id": "94f05df9-0289-4ee8-9ac5-051616a797b5",
   "metadata": {},
   "outputs": [
    {
     "name": "stdout",
     "output_type": "stream",
     "text": [
      "['Coding', 'For', 'All']\n"
     ]
    }
   ],
   "source": [
    "# Split the string 'Coding For All' using space as the separator (split()) .\n",
    "\n",
    "text = \"Coding For All\"\n",
    "words = text.split()\n",
    "print(words)"
   ]
  },
  {
   "cell_type": "code",
   "execution_count": 36,
   "id": "628d3fae-456b-42e1-9a3e-9411b5a8654f",
   "metadata": {},
   "outputs": [
    {
     "name": "stdout",
     "output_type": "stream",
     "text": [
      "['Facebook,', 'Google,', 'Microsoft,', 'Apple,', 'IBM,', 'Oracle,', 'Amazon']\n"
     ]
    }
   ],
   "source": [
    "# \"Facebook, Google, Microsoft, Apple, IBM, Oracle, Amazon\" split the string at the comma.\n",
    "\n",
    "text = \"Facebook, Google, Microsoft, Apple, IBM, Oracle, Amazon\"\n",
    "words = text.split()\n",
    "print(words)"
   ]
  },
  {
   "cell_type": "code",
   "execution_count": 41,
   "id": "97e09102-eb29-4347-8c6a-c0d6a78e36fd",
   "metadata": {},
   "outputs": [
    {
     "name": "stdout",
     "output_type": "stream",
     "text": [
      "C\n"
     ]
    }
   ],
   "source": [
    "# What is the character at index 0 in the string _Coding For All_.\n",
    "\n",
    "var = \"Coding For All\"\n",
    "first_char = var[0]\n",
    "print(first_char)"
   ]
  },
  {
   "cell_type": "code",
   "execution_count": 44,
   "id": "60cf1837-3ecd-4da6-8ed5-25251897d5d7",
   "metadata": {},
   "outputs": [
    {
     "name": "stdout",
     "output_type": "stream",
     "text": [
      "l\n"
     ]
    }
   ],
   "source": [
    "# 16. What is the last index of the string _Coding For All_.\n",
    "\n",
    "var = \"Coding For All\"\n",
    "last_char = var[-1]\n",
    "print(last_char)"
   ]
  },
  {
   "cell_type": "code",
   "execution_count": 47,
   "id": "947ed5fb-9776-44f1-82c8-9dc038c30ef5",
   "metadata": {},
   "outputs": [
    {
     "name": "stdout",
     "output_type": "stream",
     "text": [
      "A\n"
     ]
    }
   ],
   "source": [
    "# What character is at index 10 in \"Coding For All\" string.\n",
    "\n",
    "var = \"Coding For All\"\n",
    "first_char = var[11]\n",
    "print(first_char)"
   ]
  },
  {
   "cell_type": "code",
   "execution_count": 2,
   "id": "b52bd9ad-7822-462a-87b8-d4ac607d34ff",
   "metadata": {},
   "outputs": [
    {
     "name": "stdout",
     "output_type": "stream",
     "text": [
      "Welcome to Python For Everyone!\n"
     ]
    }
   ],
   "source": [
    "# Create an acronym or an abbreviation for the name 'Python For Everyone'.\n",
    "\n",
    "PFE = \"Python For Everyone\"\n",
    "print(f\"Welcome to {PFE}!\")"
   ]
  },
  {
   "cell_type": "code",
   "execution_count": 6,
   "id": "f1a0f0de-a99d-45a0-b01a-2169171ad4f5",
   "metadata": {},
   "outputs": [
    {
     "name": "stdout",
     "output_type": "stream",
     "text": [
      "Welcome to Coding For All !\n"
     ]
    }
   ],
   "source": [
    "# Create an acronym or an abbreviation for the name 'Coding For All'.\n",
    "\n",
    "var = \"Coding For All\"\n",
    "print(f\"Welcome to {var} !\")"
   ]
  },
  {
   "cell_type": "code",
   "execution_count": 6,
   "id": "a188c8c0-5d13-4e06-8265-905e6fc5a21e",
   "metadata": {},
   "outputs": [
    {
     "name": "stdout",
     "output_type": "stream",
     "text": [
      "0\n"
     ]
    }
   ],
   "source": [
    "# Use index to determine the position of the first occurrence of C in Coding For All.\n",
    "\n",
    "text = \"Coding For All\"\n",
    "char = \"C\"\n",
    "\n",
    "index = (text.find(char) if char in text else -1)\n",
    "\n",
    "print(index)"
   ]
  },
  {
   "cell_type": "code",
   "execution_count": 8,
   "id": "83631f57-7d72-4175-8803-3ca33f436c49",
   "metadata": {},
   "outputs": [
    {
     "name": "stdout",
     "output_type": "stream",
     "text": [
      "7\n"
     ]
    }
   ],
   "source": [
    "# Use index to determine the position of the first occurrence of F in Coding For All.\n",
    "\n",
    "var = \"Coding For All\"\n",
    "char = \"F\"\n",
    "\n",
    "index = (var.find(char) if char in text else -1)\n",
    "print(index)"
   ]
  },
  {
   "cell_type": "code",
   "execution_count": 11,
   "id": "2468f208-f9bd-4079-90f6-906423998449",
   "metadata": {},
   "outputs": [
    {
     "name": "stdout",
     "output_type": "stream",
     "text": [
      "19\n"
     ]
    }
   ],
   "source": [
    "# Use rfind to determine the position of the last occurrence of l in Coding For All People.\n",
    "\n",
    "var = \"Coding For All People\"\n",
    "char = \"l\"\n",
    "\n",
    "index = (var.rfind(char) )\n",
    "print(index)\n"
   ]
  },
  {
   "cell_type": "code",
   "execution_count": 14,
   "id": "d5316b1c-745f-45d0-abfc-344b1fddd62d",
   "metadata": {},
   "outputs": [
    {
     "name": "stdout",
     "output_type": "stream",
     "text": [
      "The first 'because' is at index 31\n"
     ]
    }
   ],
   "source": [
    "# Use index or find to find the position of the first occurrence of the word 'because' in the following sentence: 'You cannot end a sentence with because because because is a conjunction'\n",
    "\n",
    "sentence = \"You cannot end a sentence with because because because is a conjunction\"\n",
    "word = \"because\"\n",
    "index = sentence.find(word)\n",
    "print(f\"The first 'because' is at index {index}\" if index != -1 else \"The word 'because' is not found\")\n"
   ]
  },
  {
   "cell_type": "code",
   "execution_count": 17,
   "id": "af22163b-c6f3-4f3c-8cd2-4fa94424b6e5",
   "metadata": {},
   "outputs": [
    {
     "name": "stdout",
     "output_type": "stream",
     "text": [
      "The last 'because' is at index 47\n",
      "The word 'because' is not found in the sentence.\n"
     ]
    }
   ],
   "source": [
    "# Use rindex to find the position of the last occurrence of the word because in the following sentence: 'You cannot end a sentence with because because because is a conjunction'\n",
    "\n",
    "sentence = \"You cannot end a sentence with because because because is a conjunction\"\n",
    "word = \"because\"\n",
    "last_index = sentence.rindex(word)\n",
    "print(f\"The last 'because' is at index {last_index}\")\n",
    "print(\"The word 'because' is not found in the sentence.\")"
   ]
  },
  {
   "cell_type": "code",
   "execution_count": 19,
   "id": "b36fbf23-80dc-41ad-9c0a-6b24f9128d20",
   "metadata": {},
   "outputs": [
    {
     "name": "stdout",
     "output_type": "stream",
     "text": [
      "because because because\n"
     ]
    }
   ],
   "source": [
    "# Slice out the phrase 'because because because' in the following sentence: 'You cannot end a sentence with because because because is a conjunction'\n",
    "\n",
    "sentence = \"You cannot end a sentence with because because because is a conjunction\"\n",
    "phrase = \"because because because\"\n",
    "\n",
    "start_index = sentence.find(phrase)\n",
    "sliced_text = sentence[start_index: start_index + len(phrase)] if start_index != -1 else None\n",
    "print(sliced_text)"
   ]
  },
  {
   "cell_type": "code",
   "execution_count": 21,
   "id": "818c0618-2a7b-468e-a7b3-ae20dfd3c674",
   "metadata": {},
   "outputs": [
    {
     "name": "stdout",
     "output_type": "stream",
     "text": [
      "The first 'because' is at index 31\n"
     ]
    }
   ],
   "source": [
    "# Find the position of the first occurrence of the word 'because' in the following sentence: 'You cannot end a sentence with because because because is a conjunction'sentence = \"You cannot end a sentence with because because because is a conjunction\"\n",
    "\n",
    "word = \"because\"\n",
    "index = sentence.find(word)\n",
    "\n",
    "print(f\"The first 'because' is at index {index}\" if index != -1 else \"No 'because' found\")"
   ]
  },
  {
   "cell_type": "code",
   "execution_count": 22,
   "id": "58805a84-33b0-4317-8c27-8163ac6abf77",
   "metadata": {},
   "outputs": [
    {
     "name": "stdout",
     "output_type": "stream",
     "text": [
      "because because because\n"
     ]
    }
   ],
   "source": [
    "# Slice out the phrase 'because because because' in the following sentence: 'You cannot end a sentence with because because because is a conjunction'\n",
    "\n",
    "sentence = \"You cannot end a sentence with because because because is a conjunction\"\n",
    "phrase = \"because because because\"\n",
    "\n",
    "start_index = sentence.find(phrase)\n",
    "sliced_text = sentence[start_index: start_index + len(phrase)] if start_index != -1 else None\n",
    "\n",
    "print(sliced_text)"
   ]
  },
  {
   "cell_type": "code",
   "execution_count": 30,
   "id": "2831b0a8-6899-41ad-bcd5-08a2fc4b15e4",
   "metadata": {},
   "outputs": [
    {
     "name": "stdout",
     "output_type": "stream",
     "text": [
      "False\n"
     ]
    }
   ],
   "source": [
    "# Does '\\'Coding For All' start with a substring _Coding_?\n",
    "\n",
    "text = \"Coding For All\"\n",
    "substring = \"Coding\"\n",
    "\n",
    "print(text[1:].startswith(substring))"
   ]
  },
  {
   "cell_type": "code",
   "execution_count": 31,
   "id": "eefad5c2-e019-4ca6-bd6e-298909e0a16a",
   "metadata": {},
   "outputs": [
    {
     "name": "stdout",
     "output_type": "stream",
     "text": [
      "False\n"
     ]
    }
   ],
   "source": [
    "# Does 'Coding For All' end with a substring _coding_?\n",
    "\n",
    "text = \"Coding For All\"\n",
    "substring = \"coding\"\n",
    "\n",
    "print(text.endswith(substring))"
   ]
  },
  {
   "cell_type": "code",
   "execution_count": 33,
   "id": "c00223bf-c5d8-4c14-b9cc-5173feea0938",
   "metadata": {},
   "outputs": [
    {
     "name": "stdout",
     "output_type": "stream",
     "text": [
      "&nbsp;&nbsp; Coding For All &nbsp;&nbsp;&nbsp; &nbsp;\n"
     ]
    }
   ],
   "source": [
    "# '&nbsp;&nbsp; Coding For All &nbsp;&nbsp;&nbsp; &nbsp;' &nbsp;, remove the left and right trailing spaces in the given string.\n",
    "\n",
    "text = '&nbsp;&nbsp; Coding For All &nbsp;&nbsp;&nbsp; &nbsp;'\n",
    "\n",
    "# Use strip() to remove leading and trailing whitespace characters\n",
    "stripped_text = text.strip()\n",
    "\n",
    "print(stripped_text)"
   ]
  },
  {
   "cell_type": "code",
   "execution_count": 35,
   "id": "a24e63cf-95b3-458c-92a4-7fa41ddce6ef",
   "metadata": {},
   "outputs": [
    {
     "name": "stdout",
     "output_type": "stream",
     "text": [
      "False\n",
      "True\n",
      "\n",
      "Explanation:\n",
      "Variable names can only contain alphanumeric characters (a-z, A-Z, 0-9) and underscores (_).\n",
      "variable1 (30DaysOfPython) only contains valid characters, so it returns True.\n",
      "variable2 (thirty_days_of_python) contains spaces, which are not allowed in variable names, so it returns False.\n"
     ]
    }
   ],
   "source": [
    "\"\"\"Which one of the following variables return True when we use the method isidentifier():\n",
    "    - 30DaysOfPython\n",
    "    - thirty_days_of_python\"\"\"\n",
    "\n",
    "variable1 = \"30DaysOfPython\"\n",
    "variable2 = \"thirty_days_of_python\"\n",
    "\n",
    "# Check if the variables are valid identifiers using isidentifier()\n",
    "print(variable1.isidentifier())  # Output: True\n",
    "print(variable2.isidentifier())  # Output: False\n",
    "\n",
    "# Explain the results\n",
    "print(\"\\nExplanation:\")\n",
    "print(\"Variable names can only contain alphanumeric characters (a-z, A-Z, 0-9) and underscores (_).\")\n",
    "print(\"variable1 (30DaysOfPython) only contains valid characters, so it returns True.\")\n",
    "print(\"variable2 (thirty_days_of_python) contains spaces, which are not allowed in variable names, so it returns False.\")"
   ]
  },
  {
   "cell_type": "code",
   "execution_count": 36,
   "id": "866c30bb-dd4d-459a-9eeb-f6f36edb0b27",
   "metadata": {},
   "outputs": [
    {
     "name": "stdout",
     "output_type": "stream",
     "text": [
      "Django# Flask# Bottle# Pyramid# Falcon\n"
     ]
    }
   ],
   "source": [
    "# The following list contains the names of some of python libraries: ['Django', 'Flask', 'Bottle', 'Pyramid', 'Falcon']. Join the list with a hash with space string.\n",
    "\n",
    "python_libs = ['Django', 'Flask', 'Bottle', 'Pyramid', 'Falcon']\n",
    "\n",
    "# Join the list with a hash and space using join() and '# ' as separator\n",
    "joined_string = '# '.join(python_libs)\n",
    "\n",
    "print(joined_string)"
   ]
  },
  {
   "cell_type": "code",
   "execution_count": 38,
   "id": "d6f0b8da-3559-41de-934c-e86dd426c848",
   "metadata": {},
   "outputs": [
    {
     "name": "stdout",
     "output_type": "stream",
     "text": [
      "I am enjoying this challenge.\n",
      "I just wonder what is next.\n"
     ]
    }
   ],
   "source": [
    "\"\"\"Use the new line escape sequence to separate the following sentences.\n",
    "    ```py\n",
    "    I am enjoying this challenge.\n",
    "    I just wonder what is next.\"\"\"\n",
    "\n",
    "print(\"I am enjoying this challenge.\\nI just wonder what is next.\")"
   ]
  },
  {
   "cell_type": "code",
   "execution_count": 39,
   "id": "f1159815-f6eb-4dad-a792-b8d0f996b200",
   "metadata": {},
   "outputs": [
    {
     "name": "stdout",
     "output_type": "stream",
     "text": [
      "Name\t\tAge\t\tCountry\t\tCity\n",
      "Asabeneh\t250\t\tFinland\t\tHelsinki\n"
     ]
    }
   ],
   "source": [
    "\"\"\"34. Use a tab escape sequence to write the following lines.\n",
    "    ```py\n",
    "    Name      Age     Country   City\n",
    "    Asabeneh  250     Finland   Helsinki\"\"\"\n",
    "\n",
    "print(\"Name\\t\\tAge\\t\\tCountry\\t\\tCity\")\n",
    "print(\"Asabeneh\\t250\\t\\tFinland\\t\\tHelsinki\")"
   ]
  },
  {
   "cell_type": "code",
   "execution_count": 40,
   "id": "6bd4061b-af55-4011-b558-743b757b351e",
   "metadata": {},
   "outputs": [
    {
     "name": "stdout",
     "output_type": "stream",
     "text": [
      "radius = 10\n",
      "area = 314.00\n",
      "The area of a circle with radius 10 is 314.00 meters square.\n"
     ]
    }
   ],
   "source": [
    "\"\"\"35. Use the string formatting method to display the following:\n",
    "```sh\n",
    "radius = 10\n",
    "area = 3.14 * radius ** 2\n",
    "The area of a circle with radius 10 is 314 meters square.\n",
    "```\"\"\"\n",
    "radius = 10\n",
    "area = 3.14 * radius**2\n",
    "\n",
    "# Use f-strings for formatted output\n",
    "print(f\"radius = {radius}\")\n",
    "print(f\"area = {area:.2f}\")  # Format area to two decimal places\n",
    "print(f\"The area of a circle with radius {radius} is {area:.2f} meters square.\")"
   ]
  },
  {
   "cell_type": "code",
   "execution_count": 41,
   "id": "8ac5f49b-d55c-487d-9bda-48b8d348331b",
   "metadata": {},
   "outputs": [
    {
     "name": "stdout",
     "output_type": "stream",
     "text": [
      "8 + 6 = 14\n",
      "8 - 6 = 2\n",
      "8 * 6 = 48\n",
      "8 / 6 = 1.33\n",
      "8 % 6 = 2\n",
      "8 // 6 = 1\n",
      "8 ** 6 = 262144\n"
     ]
    }
   ],
   "source": [
    "\"\"\"Make the following using string formatting methods:\n",
    "\n",
    "```sh\n",
    "8 + 6 = 14\n",
    "8 - 6 = 2\n",
    "8 * 6 = 48\n",
    "8 / 6 = 1.33\n",
    "8 % 6 = 2\n",
    "8 // 6 = 1\n",
    "8 ** 6 = 262144\n",
    "```\"\"\"\n",
    "\n",
    "num1 = 8\n",
    "num2 = 6\n",
    "\n",
    "# Use f-strings for calculations and formatted output\n",
    "print(f\"{num1} + {num2} = {num1 + num2}\")\n",
    "print(f\"{num1} - {num2} = {num1 - num2}\")\n",
    "print(f\"{num1} * {num2} = {num1 * num2}\")\n",
    "print(f\"{num1} / {num2} = {num1 / num2:.2f}\")  # Format to two decimal places\n",
    "print(f\"{num1} % {num2} = {num1 % num2}\")\n",
    "print(f\"{num1} // {num2} = {num1 // num2}\")\n",
    "print(f\"{num1} ** {num2} = {num1 ** num2}\")"
   ]
  }
 ],
 "metadata": {
  "kernelspec": {
   "display_name": "Python 3 (ipykernel)",
   "language": "python",
   "name": "python3"
  },
  "language_info": {
   "codemirror_mode": {
    "name": "ipython",
    "version": 3
   },
   "file_extension": ".py",
   "mimetype": "text/x-python",
   "name": "python",
   "nbconvert_exporter": "python",
   "pygments_lexer": "ipython3",
   "version": "3.11.7"
  }
 },
 "nbformat": 4,
 "nbformat_minor": 5
}
