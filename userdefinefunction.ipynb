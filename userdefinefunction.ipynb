{
 "cells": [
  {
   "cell_type": "code",
   "execution_count": 9,
   "id": "b74a84ad-686f-4922-b886-7a505a682381",
   "metadata": {},
   "outputs": [
    {
     "name": "stdout",
     "output_type": "stream",
     "text": [
      "12345\n"
     ]
    }
   ],
   "source": [
    "def printme(str):\n",
    "    print(str)\n",
    "    return\n",
    "\n",
    "printme(12345)"
   ]
  },
  {
   "cell_type": "code",
   "execution_count": 1,
   "id": "aaaf6559-bb1c-4f1d-87ec-77f3ba2940ad",
   "metadata": {},
   "outputs": [],
   "source": [
    "def fun1():\n",
    "    return \"python\""
   ]
  },
  {
   "cell_type": "code",
   "execution_count": 2,
   "id": "481ed0b4-e121-4285-9dfe-000c48c7e387",
   "metadata": {},
   "outputs": [
    {
     "data": {
      "text/plain": [
       "'python'"
      ]
     },
     "execution_count": 2,
     "metadata": {},
     "output_type": "execute_result"
    }
   ],
   "source": [
    "fun1()"
   ]
  },
  {
   "cell_type": "code",
   "execution_count": 3,
   "id": "b7e2769e-fbb9-41aa-bc50-9c3cdcdfdc20",
   "metadata": {},
   "outputs": [],
   "source": [
    "def fun2(a):\n",
    "    b = a**3\n",
    "    return b"
   ]
  },
  {
   "cell_type": "code",
   "execution_count": 4,
   "id": "b5728fe0-6b49-4849-a139-47e55517bb5f",
   "metadata": {},
   "outputs": [
    {
     "data": {
      "text/plain": [
       "343"
      ]
     },
     "execution_count": 4,
     "metadata": {},
     "output_type": "execute_result"
    }
   ],
   "source": [
    "fun2(7)"
   ]
  },
  {
   "cell_type": "code",
   "execution_count": 5,
   "id": "6f9292b5-d6b7-4c40-908f-76c013031368",
   "metadata": {},
   "outputs": [
    {
     "data": {
      "text/plain": [
       "1000"
      ]
     },
     "execution_count": 5,
     "metadata": {},
     "output_type": "execute_result"
    }
   ],
   "source": [
    "fun2(10)"
   ]
  },
  {
   "cell_type": "code",
   "execution_count": 6,
   "id": "bed6932a-cfdd-462c-b06a-de18a3ec4b13",
   "metadata": {},
   "outputs": [
    {
     "data": {
      "text/plain": [
       "'python'"
      ]
     },
     "execution_count": 6,
     "metadata": {},
     "output_type": "execute_result"
    }
   ],
   "source": [
    "fun1()"
   ]
  },
  {
   "cell_type": "code",
   "execution_count": 9,
   "id": "a0c37c64-b89b-4641-a8fe-427027d589fd",
   "metadata": {},
   "outputs": [
    {
     "data": {
      "text/plain": [
       "3567549952"
      ]
     },
     "execution_count": 9,
     "metadata": {},
     "output_type": "execute_result"
    }
   ],
   "source": [
    "fun2(1528)"
   ]
  },
  {
   "cell_type": "code",
   "execution_count": 11,
   "id": "a0589693-a408-4417-afb4-c11735908303",
   "metadata": {},
   "outputs": [],
   "source": [
    "def fun3(*a):\n",
    "    b = a+a\n",
    "    return b"
   ]
  },
  {
   "cell_type": "code",
   "execution_count": 12,
   "id": "c32e62cb-e9f5-4c7a-a42b-12db7011b013",
   "metadata": {},
   "outputs": [
    {
     "data": {
      "text/plain": [
       "()"
      ]
     },
     "execution_count": 12,
     "metadata": {},
     "output_type": "execute_result"
    }
   ],
   "source": [
    "fun3()"
   ]
  },
  {
   "cell_type": "code",
   "execution_count": 13,
   "id": "3b4007b4-8d80-4a80-8105-d1e3b1a62b93",
   "metadata": {},
   "outputs": [
    {
     "name": "stdout",
     "output_type": "stream",
     "text": [
      "\n"
     ]
    }
   ],
   "source": [
    "print()"
   ]
  },
  {
   "cell_type": "code",
   "execution_count": 14,
   "id": "d05148c0-df7d-4a0c-a897-930fcb8e02c2",
   "metadata": {},
   "outputs": [
    {
     "data": {
      "text/plain": [
       "(10, 20, 30, 10, 20, 30)"
      ]
     },
     "execution_count": 14,
     "metadata": {},
     "output_type": "execute_result"
    }
   ],
   "source": [
    "fun3(10,20,30)"
   ]
  },
  {
   "cell_type": "code",
   "execution_count": 15,
   "id": "b1bf3b79-96f6-49d6-a671-b7e982d12efb",
   "metadata": {},
   "outputs": [
    {
     "ename": "TypeError",
     "evalue": "fun2() takes 1 positional argument but 2 were given",
     "output_type": "error",
     "traceback": [
      "\u001b[1;31m---------------------------------------------------------------------------\u001b[0m",
      "\u001b[1;31mTypeError\u001b[0m                                 Traceback (most recent call last)",
      "Cell \u001b[1;32mIn[15], line 1\u001b[0m\n\u001b[1;32m----> 1\u001b[0m fun2(\u001b[38;5;241m10\u001b[39m,\u001b[38;5;241m20\u001b[39m)\n",
      "\u001b[1;31mTypeError\u001b[0m: fun2() takes 1 positional argument but 2 were given"
     ]
    }
   ],
   "source": [
    "fun2(10,20)"
   ]
  },
  {
   "cell_type": "code",
   "execution_count": 16,
   "id": "ef0612b4-f25f-4b16-998f-4a7a6610d5a9",
   "metadata": {},
   "outputs": [],
   "source": [
    "def fun4(**a):\n",
    "    return a"
   ]
  },
  {
   "cell_type": "code",
   "execution_count": 17,
   "id": "8facdc39-0b69-4ba7-9816-73a9e2d55bcc",
   "metadata": {},
   "outputs": [
    {
     "data": {
      "text/plain": [
       "{}"
      ]
     },
     "execution_count": 17,
     "metadata": {},
     "output_type": "execute_result"
    }
   ],
   "source": [
    "fun4()"
   ]
  },
  {
   "cell_type": "code",
   "execution_count": 18,
   "id": "3dfe4ebe-0abe-434b-aea6-33e48b165da9",
   "metadata": {},
   "outputs": [
    {
     "ename": "TypeError",
     "evalue": "fun4() takes 0 positional arguments but 1 was given",
     "output_type": "error",
     "traceback": [
      "\u001b[1;31m---------------------------------------------------------------------------\u001b[0m",
      "\u001b[1;31mTypeError\u001b[0m                                 Traceback (most recent call last)",
      "Cell \u001b[1;32mIn[18], line 1\u001b[0m\n\u001b[1;32m----> 1\u001b[0m fun4(\u001b[38;5;241m22\u001b[39m)\n",
      "\u001b[1;31mTypeError\u001b[0m: fun4() takes 0 positional arguments but 1 was given"
     ]
    }
   ],
   "source": [
    "fun4(22)"
   ]
  },
  {
   "cell_type": "code",
   "execution_count": 19,
   "id": "9a9726f4-0849-4071-8e6b-3792e30f1aa7",
   "metadata": {},
   "outputs": [
    {
     "data": {
      "text/plain": [
       "{'name': 'Parag', 'age': 25}"
      ]
     },
     "execution_count": 19,
     "metadata": {},
     "output_type": "execute_result"
    }
   ],
   "source": [
    "fun4(name = \"Parag\", age = 25)"
   ]
  },
  {
   "cell_type": "code",
   "execution_count": 20,
   "id": "b7728c29-26aa-4dd6-b361-77b13dedd4aa",
   "metadata": {},
   "outputs": [],
   "source": [
    "def test(a,b):\n",
    "    return a+b"
   ]
  },
  {
   "cell_type": "code",
   "execution_count": 21,
   "id": "cebee388-52d3-45ac-b7d5-867e3d8b0218",
   "metadata": {},
   "outputs": [
    {
     "data": {
      "text/plain": [
       "30"
      ]
     },
     "execution_count": 21,
     "metadata": {},
     "output_type": "execute_result"
    }
   ],
   "source": [
    "test(10,20)"
   ]
  },
  {
   "cell_type": "code",
   "execution_count": 22,
   "id": "b2cc2068-a034-4466-87cd-b3b872dc90a3",
   "metadata": {},
   "outputs": [
    {
     "ename": "TypeError",
     "evalue": "test() takes 2 positional arguments but 3 were given",
     "output_type": "error",
     "traceback": [
      "\u001b[1;31m---------------------------------------------------------------------------\u001b[0m",
      "\u001b[1;31mTypeError\u001b[0m                                 Traceback (most recent call last)",
      "Cell \u001b[1;32mIn[22], line 1\u001b[0m\n\u001b[1;32m----> 1\u001b[0m test(\u001b[38;5;241m10\u001b[39m,\u001b[38;5;241m20\u001b[39m,\u001b[38;5;241m30\u001b[39m)\n",
      "\u001b[1;31mTypeError\u001b[0m: test() takes 2 positional arguments but 3 were given"
     ]
    }
   ],
   "source": [
    "test(10,20,30)"
   ]
  },
  {
   "cell_type": "code",
   "execution_count": 23,
   "id": "b9966a1e-748a-4529-993e-d679b4270f6f",
   "metadata": {},
   "outputs": [],
   "source": [
    "def test1(*a):\n",
    "    return a"
   ]
  },
  {
   "cell_type": "code",
   "execution_count": 24,
   "id": "364dfd32-ee16-4890-acc1-0419b7433476",
   "metadata": {},
   "outputs": [
    {
     "data": {
      "text/plain": [
       "()"
      ]
     },
     "execution_count": 24,
     "metadata": {},
     "output_type": "execute_result"
    }
   ],
   "source": [
    "test1()"
   ]
  },
  {
   "cell_type": "code",
   "execution_count": 25,
   "id": "62c49b38-31ab-4451-8b01-9543a3d7c57b",
   "metadata": {},
   "outputs": [
    {
     "data": {
      "text/plain": [
       "(56,)"
      ]
     },
     "execution_count": 25,
     "metadata": {},
     "output_type": "execute_result"
    }
   ],
   "source": [
    "test1(56)"
   ]
  },
  {
   "cell_type": "code",
   "execution_count": 26,
   "id": "07de55e7-1f80-45e4-b773-d8cdde5afa3a",
   "metadata": {},
   "outputs": [
    {
     "data": {
      "text/plain": [
       "(56, 7, 9)"
      ]
     },
     "execution_count": 26,
     "metadata": {},
     "output_type": "execute_result"
    }
   ],
   "source": [
    "test1(56,7,9)"
   ]
  },
  {
   "cell_type": "code",
   "execution_count": 27,
   "id": "09156a4c-db5d-48fe-809a-929842155966",
   "metadata": {},
   "outputs": [],
   "source": [
    "def test2(a,b,c):\n",
    "    return a+b+c"
   ]
  },
  {
   "cell_type": "code",
   "execution_count": 28,
   "id": "dee0a037-93a6-4054-a543-35cfc644473d",
   "metadata": {},
   "outputs": [
    {
     "data": {
      "text/plain": [
       "6"
      ]
     },
     "execution_count": 28,
     "metadata": {},
     "output_type": "execute_result"
    }
   ],
   "source": [
    "test2(1,2,3)"
   ]
  },
  {
   "cell_type": "code",
   "execution_count": 30,
   "id": "41a88b14-ab24-42b7-8ede-61f226139980",
   "metadata": {},
   "outputs": [
    {
     "data": {
      "text/plain": [
       "5"
      ]
     },
     "execution_count": 30,
     "metadata": {},
     "output_type": "execute_result"
    }
   ],
   "source": [
    "test2(2,3,0)"
   ]
  },
  {
   "cell_type": "code",
   "execution_count": 31,
   "id": "8912ae0c-8059-4aed-b06a-9715ce5006ea",
   "metadata": {},
   "outputs": [],
   "source": [
    "def test3(*a):\n",
    "    l=[]\n",
    "    for i in a:\n",
    "        l.append(i)\n",
    "        return l"
   ]
  },
  {
   "cell_type": "code",
   "execution_count": 32,
   "id": "39be80e7-3857-48ed-abfa-49e0ad5aaa6d",
   "metadata": {},
   "outputs": [
    {
     "data": {
      "text/plain": [
       "('Parag',)"
      ]
     },
     "execution_count": 32,
     "metadata": {},
     "output_type": "execute_result"
    }
   ],
   "source": [
    "test1(\"Parag\")"
   ]
  },
  {
   "cell_type": "code",
   "execution_count": 33,
   "id": "575fec3b-5feb-4e1b-a909-df5bdd0ca73a",
   "metadata": {},
   "outputs": [
    {
     "data": {
      "text/plain": [
       "['Python']"
      ]
     },
     "execution_count": 33,
     "metadata": {},
     "output_type": "execute_result"
    }
   ],
   "source": [
    "test3(\"Python\", \"Java\")"
   ]
  },
  {
   "cell_type": "code",
   "execution_count": 35,
   "id": "a2fe7c94-a4ce-48a9-9c31-fded75197645",
   "metadata": {},
   "outputs": [],
   "source": [
    "l = []\n",
    "for i in range(10):\n",
    "    l.append(i)"
   ]
  },
  {
   "cell_type": "code",
   "execution_count": 36,
   "id": "113ce56e-53b3-42cb-84de-ae8035f5522a",
   "metadata": {},
   "outputs": [
    {
     "data": {
      "text/plain": [
       "[0, 1, 2, 3, 4, 5, 6, 7, 8, 9]"
      ]
     },
     "execution_count": 36,
     "metadata": {},
     "output_type": "execute_result"
    }
   ],
   "source": [
    "l"
   ]
  },
  {
   "cell_type": "code",
   "execution_count": 37,
   "id": "c84d0b05-f4df-4dcd-8ccc-cb9500e8de38",
   "metadata": {},
   "outputs": [],
   "source": [
    "def test4(a, *m):\n",
    "    return a,m"
   ]
  },
  {
   "cell_type": "code",
   "execution_count": 38,
   "id": "0e4ac27e-4a3a-43b7-8544-88784b765313",
   "metadata": {},
   "outputs": [
    {
     "data": {
      "text/plain": [
       "(2, ())"
      ]
     },
     "execution_count": 38,
     "metadata": {},
     "output_type": "execute_result"
    }
   ],
   "source": [
    "test4(2)"
   ]
  },
  {
   "cell_type": "code",
   "execution_count": 39,
   "id": "3ddbb186-d118-4d45-aa6f-dfaf2850bcff",
   "metadata": {},
   "outputs": [
    {
     "data": {
      "text/plain": [
       "(2, (3,))"
      ]
     },
     "execution_count": 39,
     "metadata": {},
     "output_type": "execute_result"
    }
   ],
   "source": [
    "test4(2,3)"
   ]
  },
  {
   "cell_type": "code",
   "execution_count": 40,
   "id": "c8a4fd5c-c899-45ca-9aa7-939a0b803de4",
   "metadata": {},
   "outputs": [],
   "source": [
    "def test5(*m, a):\n",
    "    return a,m"
   ]
  },
  {
   "cell_type": "code",
   "execution_count": 41,
   "id": "6997acac-03bf-4cbf-92ec-5c38371d1ac9",
   "metadata": {},
   "outputs": [
    {
     "ename": "TypeError",
     "evalue": "test5() missing 1 required keyword-only argument: 'a'",
     "output_type": "error",
     "traceback": [
      "\u001b[1;31m---------------------------------------------------------------------------\u001b[0m",
      "\u001b[1;31mTypeError\u001b[0m                                 Traceback (most recent call last)",
      "Cell \u001b[1;32mIn[41], line 1\u001b[0m\n\u001b[1;32m----> 1\u001b[0m test5(\u001b[38;5;241m4\u001b[39m,\u001b[38;5;241m5\u001b[39m,\u001b[38;5;241m6\u001b[39m,\u001b[38;5;241m2\u001b[39m,\u001b[38;5;241m15\u001b[39m,\u001b[38;5;241m4\u001b[39m,\u001b[38;5;241m2\u001b[39m,\u001b[38;5;241m13\u001b[39m,\u001b[38;5;241m12\u001b[39m,\u001b[38;5;241m7\u001b[39m,\u001b[38;5;241m8\u001b[39m,\u001b[38;5;241m12\u001b[39m)\n",
      "\u001b[1;31mTypeError\u001b[0m: test5() missing 1 required keyword-only argument: 'a'"
     ]
    }
   ],
   "source": [
    "test5(4,5,6,2,15,4,2,13,12,7,8,12)"
   ]
  },
  {
   "cell_type": "code",
   "execution_count": 42,
   "id": "21083dad-931c-4590-b298-d8ea8a9eac7f",
   "metadata": {},
   "outputs": [],
   "source": [
    "def test6(a,*m, **n):\n",
    "    return a, m, n"
   ]
  },
  {
   "cell_type": "code",
   "execution_count": 43,
   "id": "2b157092-6d36-4d2a-b9a1-0210d69f2371",
   "metadata": {},
   "outputs": [
    {
     "data": {
      "text/plain": [
       "(2, (), {})"
      ]
     },
     "execution_count": 43,
     "metadata": {},
     "output_type": "execute_result"
    }
   ],
   "source": [
    "test6(2)"
   ]
  },
  {
   "cell_type": "code",
   "execution_count": 44,
   "id": "f8ce404e-938b-401d-a166-7b147b0c40c6",
   "metadata": {},
   "outputs": [
    {
     "ename": "TypeError",
     "evalue": "test6() missing 1 required positional argument: 'a'",
     "output_type": "error",
     "traceback": [
      "\u001b[1;31m---------------------------------------------------------------------------\u001b[0m",
      "\u001b[1;31mTypeError\u001b[0m                                 Traceback (most recent call last)",
      "Cell \u001b[1;32mIn[44], line 1\u001b[0m\n\u001b[1;32m----> 1\u001b[0m test6(num \u001b[38;5;241m=\u001b[39m \u001b[38;5;241m8\u001b[39m, lang \u001b[38;5;241m=\u001b[39m \u001b[38;5;124m\"\u001b[39m\u001b[38;5;124mpy\u001b[39m\u001b[38;5;124m\"\u001b[39m)\n",
      "\u001b[1;31mTypeError\u001b[0m: test6() missing 1 required positional argument: 'a'"
     ]
    }
   ],
   "source": [
    "test6(num = 8, lang = \"py\")"
   ]
  },
  {
   "cell_type": "code",
   "execution_count": 45,
   "id": "85ee9e7e-e9fd-4511-bc5d-840fc77ccc5a",
   "metadata": {},
   "outputs": [
    {
     "ename": "SyntaxError",
     "evalue": "* argument may appear only once (4193941519.py, line 1)",
     "output_type": "error",
     "traceback": [
      "\u001b[1;36m  Cell \u001b[1;32mIn[45], line 1\u001b[1;36m\u001b[0m\n\u001b[1;33m    def test7(a, *c, *b):\u001b[0m\n\u001b[1;37m                     ^\u001b[0m\n\u001b[1;31mSyntaxError\u001b[0m\u001b[1;31m:\u001b[0m * argument may appear only once\n"
     ]
    }
   ],
   "source": [
    "def test7(a, *c, *b):\n",
    "    returna, c, b"
   ]
  },
  {
   "cell_type": "code",
   "execution_count": null,
   "id": "83e71d1d-1afc-41f6-879e-de05dbfbbe1c",
   "metadata": {},
   "outputs": [],
   "source": []
  }
 ],
 "metadata": {
  "kernelspec": {
   "display_name": "Python 3 (ipykernel)",
   "language": "python",
   "name": "python3"
  },
  "language_info": {
   "codemirror_mode": {
    "name": "ipython",
    "version": 3
   },
   "file_extension": ".py",
   "mimetype": "text/x-python",
   "name": "python",
   "nbconvert_exporter": "python",
   "pygments_lexer": "ipython3",
   "version": "3.11.7"
  }
 },
 "nbformat": 4,
 "nbformat_minor": 5
}
