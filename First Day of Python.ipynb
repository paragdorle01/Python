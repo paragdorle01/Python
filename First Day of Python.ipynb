{
 "cells": [
  {
   "cell_type": "code",
   "execution_count": 3,
   "id": "7d72f828-b9f0-4206-aa8d-b37db1be394a",
   "metadata": {},
   "outputs": [
    {
     "name": "stdout",
     "output_type": "stream",
     "text": [
      "30 Days of python programming\n"
     ]
    }
   ],
   "source": [
    "# Write a python comment saying 'Day 2: 30 Days of python programming'\n",
    "\n",
    "print(\"30 Days of python programming\")"
   ]
  },
  {
   "cell_type": "code",
   "execution_count": 6,
   "id": "8bcf94ee-78e8-43d6-a913-b0469b494fa5",
   "metadata": {},
   "outputs": [
    {
     "name": "stdout",
     "output_type": "stream",
     "text": [
      "Parag\n"
     ]
    }
   ],
   "source": [
    "# Declare a first name variable and assign a value to it\n",
    "\n",
    "first_name = \"Parag\"  # Assigning the string \"Parag\" to the variable first_name\n",
    "print(first_name)"
   ]
  },
  {
   "cell_type": "code",
   "execution_count": 9,
   "id": "6a9d5c39-e0ee-4c03-b662-9552d295c0c3",
   "metadata": {},
   "outputs": [
    {
     "name": "stdout",
     "output_type": "stream",
     "text": [
      "Dorle\n"
     ]
    }
   ],
   "source": [
    "# Declare a last name variable and assign a value to it\n",
    "\n",
    "last_name = \"Dorle\"  # Assigning the string \"Dorle\" to the variable last_name\n",
    "print(last_name)"
   ]
  },
  {
   "cell_type": "code",
   "execution_count": 12,
   "id": "325c914b-336f-46b1-9ad3-9c1dfe83e7b2",
   "metadata": {},
   "outputs": [
    {
     "name": "stdout",
     "output_type": "stream",
     "text": [
      "Parag Dorle\n"
     ]
    }
   ],
   "source": [
    "# Declare a full name variable and assign a value to it\n",
    "\n",
    "first_name = \"Parag\"\n",
    "last_name = \"Dorle\"\n",
    "\n",
    "full_name = first_name + \" \" + last_name  # Concatenating first and last name with a space\n",
    "print(full_name)"
   ]
  },
  {
   "cell_type": "code",
   "execution_count": 15,
   "id": "19c4e5c7-26cd-4e68-995a-dd8fc7131fa1",
   "metadata": {},
   "outputs": [
    {
     "name": "stdout",
     "output_type": "stream",
     "text": [
      "India\n"
     ]
    }
   ],
   "source": [
    "# Declare a country variable and assign a value to it\n",
    "\n",
    "country = \"India\"  # Assigning the string \"Canada\" to the variable country\n",
    "print(country)"
   ]
  },
  {
   "cell_type": "code",
   "execution_count": 19,
   "id": "aae6051b-83d6-4b1b-8e61-ffac9bcc2304",
   "metadata": {},
   "outputs": [
    {
     "name": "stdout",
     "output_type": "stream",
     "text": [
      "Mumbai\n"
     ]
    }
   ],
   "source": [
    "# Declare a city variable and assign a value to it\n",
    "\n",
    "city = \"Mumbai\"  # Assigning the string \"Toronto\" to the variable city\n",
    "print(city)"
   ]
  },
  {
   "cell_type": "code",
   "execution_count": 22,
   "id": "ee187a06-ad0b-4d31-a56e-83fe824bf4b9",
   "metadata": {},
   "outputs": [
    {
     "name": "stdout",
     "output_type": "stream",
     "text": [
      "30\n"
     ]
    }
   ],
   "source": [
    "# Declare an age variable and assign a value to it\n",
    "\n",
    "age = 30  # Assigning the integer 30 to the variable age\n",
    "print(age)"
   ]
  },
  {
   "cell_type": "code",
   "execution_count": 25,
   "id": "de224d34-6b51-492f-b830-0965648c04d4",
   "metadata": {},
   "outputs": [
    {
     "name": "stdout",
     "output_type": "stream",
     "text": [
      "2024\n"
     ]
    }
   ],
   "source": [
    "# Declare a year variable and assign a value to it\n",
    "\n",
    "year = 2024  # Assigning the integer 2024 to the variable year\n",
    "print(year)"
   ]
  },
  {
   "cell_type": "code",
   "execution_count": 28,
   "id": "643b8001-39c6-4d01-8bc1-2b08b5b57538",
   "metadata": {},
   "outputs": [
    {
     "name": "stdout",
     "output_type": "stream",
     "text": [
      "False\n"
     ]
    }
   ],
   "source": [
    "# Declare a variable is_married and assign a value to it\n",
    "\n",
    "is_married = True  # Assigning True (boolean) to represent married\n",
    "# OR\n",
    "is_married = False  # Assigning False (boolean) to represent not married\n",
    "print(is_married)"
   ]
  },
  {
   "cell_type": "code",
   "execution_count": 30,
   "id": "50d76469-6902-4bfb-9879-c0da09aae48a",
   "metadata": {},
   "outputs": [
    {
     "name": "stdout",
     "output_type": "stream",
     "text": [
      "False\n"
     ]
    }
   ],
   "source": [
    "# Declare a variable is_true and assign a value to it\n",
    "\n",
    "is_true = True  # Assigning True (boolean) to represent truth\n",
    "# OR\n",
    "is_true = False  # Assigning False (boolean) to represent non-truth\n",
    "\n",
    "print(is_true)"
   ]
  },
  {
   "cell_type": "code",
   "execution_count": 33,
   "id": "0b5c5b30-26f7-49a0-9581-f461af1451ef",
   "metadata": {},
   "outputs": [
    {
     "name": "stdout",
     "output_type": "stream",
     "text": [
      "False\n"
     ]
    }
   ],
   "source": [
    "# Declare a variable is_light_on and assign a value to it\n",
    "\n",
    "is_light_on = True  # Assigning True to indicate the light is on\n",
    "# OR\n",
    "is_light_on = False  # Assigning False to indicate the light is off\n",
    "print(is_light_on)"
   ]
  },
  {
   "cell_type": "code",
   "execution_count": 37,
   "id": "d70647e4-484b-4d4a-97e1-0014ca79b4c7",
   "metadata": {},
   "outputs": [
    {
     "name": "stdout",
     "output_type": "stream",
     "text": [
      "Parag Dorle 25\n"
     ]
    }
   ],
   "source": [
    "# Declare multiple variable on one line\n",
    "\n",
    "first_name, last_name, age = \"Parag\", \"Dorle\", 25\n",
    "print(first_name, last_name, age)"
   ]
  },
  {
   "cell_type": "code",
   "execution_count": 39,
   "id": "15bd9649-9c69-404b-8bfc-9d7412861782",
   "metadata": {},
   "outputs": [
    {
     "name": "stdout",
     "output_type": "stream",
     "text": [
      "Data type of first_name: <class 'str'>\n",
      "Data type of last_name: <class 'str'>\n",
      "Data type of age: <class 'int'>\n",
      "Data type of country: <class 'str'>\n",
      "Data type of city: <class 'str'>\n",
      "Data type of is_married: <class 'bool'>\n",
      "Data type of is_true: <class 'bool'>\n",
      "Data type of is_light_on: <class 'bool'>\n"
     ]
    }
   ],
   "source": [
    "# Check the data type of all your variables using type() built-in function\n",
    "\n",
    "first_name = \"Alice\"\n",
    "last_name = \"Smith\"\n",
    "age = 30\n",
    "country = \"Canada\"\n",
    "city = \"Toronto\"\n",
    "is_married = True\n",
    "is_true = False\n",
    "is_light_on = True\n",
    "\n",
    "# Print the data types of all variables\n",
    "print(f\"Data type of first_name: {type(first_name)}\")\n",
    "print(f\"Data type of last_name: {type(last_name)}\")\n",
    "print(f\"Data type of age: {type(age)}\")\n",
    "print(f\"Data type of country: {type(country)}\")\n",
    "print(f\"Data type of city: {type(city)}\")\n",
    "print(f\"Data type of is_married: {type(is_married)}\")\n",
    "print(f\"Data type of is_true: {type(is_true)}\")\n",
    "print(f\"Data type of is_light_on: {type(is_light_on)}\")"
   ]
  },
  {
   "cell_type": "code",
   "execution_count": 40,
   "id": "b86104fe-95cc-48e1-a329-9b264edc011b",
   "metadata": {},
   "outputs": [
    {
     "name": "stdout",
     "output_type": "stream",
     "text": [
      "The length of the first name 'Alice' is: 5\n"
     ]
    }
   ],
   "source": [
    "# Using the _len()_ built-in function, find the length of your first name\n",
    "\n",
    "first_name = \"Alice\"  # Assuming you have a variable named first_name\n",
    "\n",
    "# Find the length of the first name using len()\n",
    "first_name_length = len(first_name)\n",
    "\n",
    "# Print the length of the first name\n",
    "print(f\"The length of the first name '{first_name}' is: {first_name_length}\")"
   ]
  },
  {
   "cell_type": "code",
   "execution_count": 43,
   "id": "1df7888b-92fd-4012-9cf7-d942452005fe",
   "metadata": {},
   "outputs": [
    {
     "name": "stdout",
     "output_type": "stream",
     "text": [
      "Parag' and Dorle' have the same length.\n"
     ]
    }
   ],
   "source": [
    "# 1. Compare the length of your first name and your last name\n",
    "\n",
    "first_name = \"Parag\"\n",
    "last_name = \"Dorle\"\n",
    "\n",
    "# Find the lengths of first and last names using len()\n",
    "first_name_length = len(first_name)\n",
    "last_name_length = len(last_name)\n",
    "\n",
    "# Compare the lengths\n",
    "if first_name_length > last_name_length:\n",
    "    print(f\"{first_name}' is longer than {last_name}.\")\n",
    "elif first_name_length < last_name_length:\n",
    "    print(f\"{last_name}' is longer than {first_name}.\")\n",
    "else:\n",
    "    print(f\"{first_name}' and {last_name}' have the same length.\")\n"
   ]
  },
  {
   "cell_type": "code",
   "execution_count": 45,
   "id": "9da04ab5-1443-4381-9538-e59cf88c6b0e",
   "metadata": {},
   "outputs": [
    {
     "name": "stdout",
     "output_type": "stream",
     "text": [
      "The sum of 5 and 4 is: 9\n",
      "The difference between 5 and 4 is: 1\n",
      "The product of 4 and 5 is: 20\n",
      "The division of 5 by 4 is: 1.25\n",
      "The remainder of 4 divided by 5 is: 4\n",
      "5 to the power of 4 is: 625\n",
      "The floor division of 5 by 4 is: 1\n"
     ]
    }
   ],
   "source": [
    "# Add num_one and num_two and assign the value to a variable total\n",
    "#    1. Add num_one and num_two and assign the value to a variable total\n",
    "#    2. Subtract num_two from num_one and assign the value to a variable diff\n",
    "#    3. Multiply num_two and num_one and assign the value to a variable product\n",
    "#    4. Divide num_one by num_two and assign the value to a variable division\n",
    "#    5. Use modulus division to find num_two divided by num_one and assign the value to a variable remainder\n",
    "#    6. Calculate num_one to the power of num_two and assign the value to a variable exp\n",
    "#    7. Find floor division of num_one by num_two and assign the value to a variable floor_division\n",
    "\n",
    "num_one = 5\n",
    "num_two = 4\n",
    "\n",
    "# 1. Add num_one and num_two\n",
    "total = num_one + num_two\n",
    "\n",
    "# 2. Subtract num_two from num_one\n",
    "diff = num_one - num_two\n",
    "\n",
    "# 3. Multiply num_two and num_one\n",
    "product = num_two * num_one\n",
    "\n",
    "# 4. Divide num_one by num_two\n",
    "division = num_one / num_two\n",
    "\n",
    "# 5. Modulus division of num_two by num_one\n",
    "remainder = num_two % num_one\n",
    "\n",
    "# 6. num_one to the power of num_two\n",
    "exp = num_one ** num_two\n",
    "\n",
    "# 7. Floor division of num_one by num_two\n",
    "floor_division = num_one // num_two\n",
    "\n",
    "# Print the results\n",
    "print(f\"The sum of {num_one} and {num_two} is: {total}\")\n",
    "print(f\"The difference between {num_one} and {num_two} is: {diff}\")\n",
    "print(f\"The product of {num_two} and {num_one} is: {product}\")\n",
    "print(f\"The division of {num_one} by {num_two} is: {division}\")\n",
    "print(f\"The remainder of {num_two} divided by {num_one} is: {remainder}\")\n",
    "print(f\"{num_one} to the power of {num_two} is: {exp}\")\n",
    "print(f\"The floor division of {num_one} by {num_two} is: {floor_division}\")"
   ]
  },
  {
   "cell_type": "code",
   "execution_count": 47,
   "id": "d472dc23-09c1-4b40-9e2e-381c25368101",
   "metadata": {},
   "outputs": [
    {
     "name": "stdout",
     "output_type": "stream",
     "text": [
      "The area of the circle with radius 30 meters is: 2827.43 square meters.\n"
     ]
    }
   ],
   "source": [
    "# Calculate the area of a circle and assign the value to a variable name of _area_of_circle_\n",
    "\n",
    "pi = 3.14159  # Constant value for pi\n",
    "radius = 30  # Meters\n",
    "\n",
    "# Calculate the area of the circle (pi * radius^2)\n",
    "area_of_circle = pi * radius**2\n",
    "\n",
    "# Print the area with a descriptive message\n",
    "print(f\"The area of the circle with radius {radius} meters is: {area_of_circle:.2f} square meters.\")"
   ]
  },
  {
   "cell_type": "code",
   "execution_count": 49,
   "id": "61884e1f-6ec1-4a49-8771-6c53fad7b45d",
   "metadata": {},
   "outputs": [
    {
     "name": "stdout",
     "output_type": "stream",
     "text": [
      "188.4954\n"
     ]
    }
   ],
   "source": [
    "# Calculate the circumference of a circle and assign the value to a variable name of _circum_of_circle_\n",
    "\n",
    "pi = 3.14159  # Constant value for pi\n",
    "radius = 30  # Meters\n",
    "\n",
    "# Calculate the circumference of the circle (2 * pi * radius)\n",
    "circum_of_circle = 2 * pi * radius\n",
    "print(circum_of_circle)"
   ]
  },
  {
   "cell_type": "code",
   "execution_count": 52,
   "id": "8e7d29c2-56bc-4fbf-b01c-23fd15458ff9",
   "metadata": {},
   "outputs": [
    {
     "name": "stdin",
     "output_type": "stream",
     "text": [
      "Enter the radius of the circle (meters):  5\n"
     ]
    },
    {
     "name": "stdout",
     "output_type": "stream",
     "text": [
      "The area of the circle with radius 5.0 meters is: 78.54 square meters.\n"
     ]
    }
   ],
   "source": [
    "# Take radius as user input and calculate the area.\n",
    "pi = 3.14159  # Constant value for pi\n",
    "\n",
    "# Get radius input from the user\n",
    "radius = float(input(\"Enter the radius of the circle (meters): \"))\n",
    "\n",
    "# Calculate the area of the circle (pi * radius^2)\n",
    "area_of_circle = pi * radius**2\n",
    "\n",
    "# Print the area with a descriptive message\n",
    "print(f\"The area of the circle with radius {radius} meters is: {area_of_circle:.2f} square meters.\")\n"
   ]
  },
  {
   "cell_type": "code",
   "execution_count": 56,
   "id": "46b174d8-2be7-42cc-a185-b413047797ef",
   "metadata": {},
   "outputs": [
    {
     "name": "stdin",
     "output_type": "stream",
     "text": [
      "Enter your first name:  Parag\n",
      "Enter your last name:  Dorle\n",
      "Enter your country:  India\n",
      "Enter your age:  25\n"
     ]
    },
    {
     "name": "stdout",
     "output_type": "stream",
     "text": [
      "Hello, Parag Dorle from India. You are 25 years old.\n"
     ]
    }
   ],
   "source": [
    "# Use the built-in input function to get first name, last name, country and age from a user and store the value to their corresponding variable names\n",
    "\n",
    "# Get user input for first name\n",
    "first_name = input(\"Enter your first name: \")\n",
    "\n",
    "# Get user input for last name\n",
    "last_name = input(\"Enter your last name: \")\n",
    "\n",
    "# Get user input for country\n",
    "country = input(\"Enter your country: \")\n",
    "\n",
    "# Get user input for age (convert to integer for age)\n",
    "age = int(input(\"Enter your age: \"))\n",
    "   \n",
    "# Print the information (optional)\n",
    "print(f\"Hello, {first_name} {last_name} from {country}. You are {age} years old.\")"
   ]
  },
  {
   "cell_type": "code",
   "execution_count": null,
   "id": "8c564bcc-88fe-4602-b6aa-7444ff3a1f32",
   "metadata": {},
   "outputs": [],
   "source": []
  }
 ],
 "metadata": {
  "kernelspec": {
   "display_name": "Python 3 (ipykernel)",
   "language": "python",
   "name": "python3"
  },
  "language_info": {
   "codemirror_mode": {
    "name": "ipython",
    "version": 3
   },
   "file_extension": ".py",
   "mimetype": "text/x-python",
   "name": "python",
   "nbconvert_exporter": "python",
   "pygments_lexer": "ipython3",
   "version": "3.11.7"
  }
 },
 "nbformat": 4,
 "nbformat_minor": 5
}
