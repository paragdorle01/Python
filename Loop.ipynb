{
 "cells": [
  {
   "cell_type": "code",
   "execution_count": 2,
   "id": "53e1066c-3106-4d56-95b3-c6a94c4989a0",
   "metadata": {},
   "outputs": [
    {
     "name": "stdout",
     "output_type": "stream",
     "text": [
      "Number: 1\n",
      "Square: 1\n",
      "Cube: 1\n",
      "Number: 2\n",
      "Square: 4\n",
      "Cube: 8\n",
      "Number: 3\n",
      "Square: 9\n",
      "Cube: 27\n",
      "Number: 4\n",
      "Square: 16\n",
      "Cube: 64\n",
      "Number: 5\n",
      "Square: 25\n",
      "Cube: 125\n",
      "Number: 6\n",
      "Square: 36\n",
      "Cube: 216\n",
      "Number: 7\n",
      "Square: 49\n",
      "Cube: 343\n",
      "Number: 8\n",
      "Square: 64\n",
      "Cube: 512\n",
      "Number: 9\n",
      "Square: 81\n",
      "Cube: 729\n",
      "Number: 10\n",
      "Square: 100\n",
      "Cube: 1000\n"
     ]
    }
   ],
   "source": [
    "# Write a program using while loop that prints square and cube of numbers between 1 to 10\n",
    "\n",
    "num = 1\n",
    "while num <= 10:\n",
    "  print(\"Number:\", num)\n",
    "  print(\"Square:\", num * num)\n",
    "  print(\"Cube:\", num * num * num)\n",
    "  num = num+1"
   ]
  },
  {
   "cell_type": "code",
   "execution_count": 5,
   "id": "12a4c452-eadc-42c9-a1ca-4901aa5c2d94",
   "metadata": {},
   "outputs": [
    {
     "name": "stdout",
     "output_type": "stream",
     "text": [
      "100\n",
      "96\n",
      "92\n",
      "88\n",
      "84\n",
      "80\n",
      "76\n",
      "72\n",
      "68\n",
      "64\n",
      "60\n",
      "56\n",
      "52\n",
      "48\n",
      "44\n",
      "40\n",
      "36\n",
      "32\n",
      "28\n",
      "24\n",
      "20\n",
      "16\n",
      "12\n",
      "8\n",
      "4\n"
     ]
    }
   ],
   "source": [
    "# Write a program that uses for loop to print numbers 100, 96, 92, 88 ..., 4. \n",
    "\n",
    "for num in range(100,3,-4):\n",
    "    print(num)"
   ]
  },
  {
   "cell_type": "code",
   "execution_count": 7,
   "id": "44e22189-445e-422d-a8c4-382d3533c7b0",
   "metadata": {},
   "outputs": [
    {
     "name": "stdout",
     "output_type": "stream",
     "text": [
      "Enter the height of the triangle:  3\n"
     ]
    },
    {
     "name": "stdout",
     "output_type": "stream",
     "text": [
      "  @\n",
      " @@\n",
      "@@@\n"
     ]
    }
   ],
   "source": [
    "\"\"\" Use a for loop to print a triangle like the one below. Allow the user to specify how high the triangle should be. <br>\n",
    "@<br>\n",
    "@@<br>\n",
    "@@@<br>\n",
    "@@@@<br>\"\"\"\n",
    "\n",
    "rows = int(input(\"Enter the height of the triangle: \"))\n",
    "\n",
    "for i in range(1, rows + 1):\n",
    "  for j in range(rows - i):\n",
    "    print(\" \", end=\"\")\n",
    "\n",
    "  for j in range(i):\n",
    "    print(\"@\", end=\"\")\n",
    "\n",
    "  print()"
   ]
  },
  {
   "cell_type": "code",
   "execution_count": null,
   "id": "593d0cf4-e930-4244-9082-120694a58d3c",
   "metadata": {},
   "outputs": [
    {
     "name": "stdin",
     "output_type": "stream",
     "text": [
      "Enter your password:  parag\n"
     ]
    },
    {
     "name": "stdout",
     "output_type": "stream",
     "text": [
      "You are kicked off of the system.\n"
     ]
    }
   ],
   "source": [
    "\"\"\" Write a program that asks the user to enter the password.\n",
    "If the user enters the right password, the program should tell them they are logged in to the system. \n",
    "Otherwise, the program should ask them to reenter the password. \n",
    "The user should get only five tries to enter the password, after which point the program should tell them that they are kicked off of the system.\"\"\"\n",
    "\n",
    "password = \"Parag\"\n",
    "count = 5\n",
    "\n",
    "while count > 0:\n",
    "    user_password = input(\"Enter your password: \")\n",
    "    if user_password == password:\n",
    "        print(\"You are logged in to the system.\")\n",
    "        break\n",
    "    else:\n",
    "        print(\"You are kicked off of the system.\")"
   ]
  },
  {
   "cell_type": "code",
   "execution_count": null,
   "id": "2bac8a14",
   "metadata": {},
   "outputs": [],
   "source": []
  }
 ],
 "metadata": {
  "kernelspec": {
   "display_name": "Python 3 (ipykernel)",
   "language": "python",
   "name": "python3"
  },
  "language_info": {
   "codemirror_mode": {
    "name": "ipython",
    "version": 3
   },
   "file_extension": ".py",
   "mimetype": "text/x-python",
   "name": "python",
   "nbconvert_exporter": "python",
   "pygments_lexer": "ipython3",
   "version": "3.11.7"
  }
 },
 "nbformat": 4,
 "nbformat_minor": 5
}
